{
 "cells": [
  {
   "cell_type": "code",
   "execution_count": 11,
   "metadata": {},
   "outputs": [],
   "source": [
    "import pandas as pd\n",
    "import pymc3 as pm\n",
    "import numpy as np\n",
    "import theano.tensor as tt\n",
    "\n",
    "data = pd.read_csv('statcast_data/2023.csv')"
   ]
  },
  {
   "cell_type": "code",
   "execution_count": 12,
   "metadata": {},
   "outputs": [],
   "source": [
    "pitcher_counts = data['pitcher'].value_counts()\n",
    "data = data[data['pitcher'].isin(pitcher_counts[pitcher_counts > 100].index)]\n",
    "data = data.loc[data['pitch_type'].isin(['FF', 'SI', 'FC'])]"
   ]
  },
  {
   "cell_type": "code",
   "execution_count": 13,
   "metadata": {},
   "outputs": [],
   "source": [
    "data = data.sample(10000)"
   ]
  },
  {
   "cell_type": "code",
   "execution_count": 14,
   "metadata": {},
   "outputs": [],
   "source": [
    "data['stand'] = (data['stand'] == 'L').astype(int)"
   ]
  },
  {
   "cell_type": "code",
   "execution_count": 15,
   "metadata": {},
   "outputs": [],
   "source": [
    "data['pitch_type'] = data['pitch_type'].astype('category').cat.codes.values"
   ]
  },
  {
   "cell_type": "code",
   "execution_count": 16,
   "metadata": {},
   "outputs": [
    {
     "data": {
      "text/html": [
       "<div>\n",
       "<style scoped>\n",
       "    .dataframe tbody tr th:only-of-type {\n",
       "        vertical-align: middle;\n",
       "    }\n",
       "\n",
       "    .dataframe tbody tr th {\n",
       "        vertical-align: top;\n",
       "    }\n",
       "\n",
       "    .dataframe thead th {\n",
       "        text-align: right;\n",
       "    }\n",
       "</style>\n",
       "<table border=\"1\" class=\"dataframe\">\n",
       "  <thead>\n",
       "    <tr style=\"text-align: right;\">\n",
       "      <th></th>\n",
       "      <th>pitcher</th>\n",
       "      <th>plate_x</th>\n",
       "      <th>plate_z</th>\n",
       "      <th>stand</th>\n",
       "      <th>pitch_type</th>\n",
       "      <th>balls</th>\n",
       "      <th>strikes</th>\n",
       "    </tr>\n",
       "  </thead>\n",
       "  <tbody>\n",
       "    <tr>\n",
       "      <th>85929</th>\n",
       "      <td>621112</td>\n",
       "      <td>-0.09</td>\n",
       "      <td>0.73</td>\n",
       "      <td>1</td>\n",
       "      <td>2</td>\n",
       "      <td>1</td>\n",
       "      <td>0</td>\n",
       "    </tr>\n",
       "    <tr>\n",
       "      <th>366773</th>\n",
       "      <td>657612</td>\n",
       "      <td>-0.12</td>\n",
       "      <td>3.73</td>\n",
       "      <td>0</td>\n",
       "      <td>1</td>\n",
       "      <td>0</td>\n",
       "      <td>2</td>\n",
       "    </tr>\n",
       "    <tr>\n",
       "      <th>190975</th>\n",
       "      <td>502043</td>\n",
       "      <td>0.07</td>\n",
       "      <td>3.48</td>\n",
       "      <td>1</td>\n",
       "      <td>2</td>\n",
       "      <td>2</td>\n",
       "      <td>2</td>\n",
       "    </tr>\n",
       "    <tr>\n",
       "      <th>590329</th>\n",
       "      <td>680686</td>\n",
       "      <td>-0.28</td>\n",
       "      <td>2.13</td>\n",
       "      <td>0</td>\n",
       "      <td>2</td>\n",
       "      <td>0</td>\n",
       "      <td>0</td>\n",
       "    </tr>\n",
       "    <tr>\n",
       "      <th>156790</th>\n",
       "      <td>592791</td>\n",
       "      <td>-0.36</td>\n",
       "      <td>1.88</td>\n",
       "      <td>0</td>\n",
       "      <td>2</td>\n",
       "      <td>0</td>\n",
       "      <td>1</td>\n",
       "    </tr>\n",
       "  </tbody>\n",
       "</table>\n",
       "</div>"
      ],
      "text/plain": [
       "        pitcher  plate_x  plate_z  stand  pitch_type  balls  strikes\n",
       "85929    621112    -0.09     0.73      1           2      1        0\n",
       "366773   657612    -0.12     3.73      0           1      0        2\n",
       "190975   502043     0.07     3.48      1           2      2        2\n",
       "590329   680686    -0.28     2.13      0           2      0        0\n",
       "156790   592791    -0.36     1.88      0           2      0        1"
      ]
     },
     "execution_count": 16,
     "metadata": {},
     "output_type": "execute_result"
    }
   ],
   "source": [
    "data = data[['pitcher', 'plate_x', 'plate_z', 'stand', 'pitch_type', 'balls', 'strikes']]\n",
    "data.head()\n"
   ]
  },
  {
   "cell_type": "code",
   "execution_count": 17,
   "metadata": {},
   "outputs": [],
   "source": [
    "data = data.dropna()"
   ]
  },
  {
   "cell_type": "code",
   "execution_count": 18,
   "metadata": {},
   "outputs": [],
   "source": [
    "# from sklearn.preprocessing import OneHotEncoder\n",
    "\n",
    "# pitch_type = data['pitch_type'].values.reshape(-1, 1)\n",
    "# encoder = OneHotEncoder(sparse=False)\n",
    "# pitch_type_2d = encoder.fit_transform(pitch_type)\n",
    "\n",
    "\n",
    "\n",
    "\n",
    "# with pm.Model() as model:\n",
    "#     # Hyperpriors\n",
    "#     mu_x = pm.Normal('mu_x', mu=0, sd=1)\n",
    "#     mu_z = pm.Normal('mu_z', mu=0, sd=1)\n",
    "#     sigma_x = pm.HalfNormal('sigma_x', sd=1)\n",
    "#     sigma_z = pm.HalfNormal('sigma_z', sd=1)\n",
    "    \n",
    "#     # Priors for each pitcher\n",
    "#     pitcher_mu_x = pm.Normal('pitcher_mu_x', mu=mu_x, sd=sigma_x, shape=num_pitchers)\n",
    "#     pitcher_mu_z = pm.Normal('pitcher_mu_z', mu=mu_z, sd=sigma_z, shape=num_pitchers)\n",
    "\n",
    "#     # Covariate coefficients\n",
    "#     beta_stand_x = pm.Normal('beta_stand_x', 0, sd=1)\n",
    "#     beta_stand_z = pm.Normal('beta_stand_z', 0, sd=1)\n",
    "#     beta_pitch_type_x = pm.Normal('beta_pitch_type_x', 0, sd=1, shape=num_pitch_types)\n",
    "#     beta_pitch_type_z = pm.Normal('beta_pitch_type_z', 0, sd=1, shape=num_pitch_types)\n",
    "#     beta_balls_x = pm.Normal('beta_balls_x', 0, sd=1)\n",
    "#     beta_balls_z = pm.Normal('beta_balls_z', 0, sd=1)\n",
    "#     beta_strikes_x = pm.Normal('beta_strikes_x', 0, sd=1)\n",
    "#     beta_strikes_z = pm.Normal('beta_strikes_z', 0, sd=1)\n",
    "\n",
    "#     # Linear model for means\n",
    "#     mu_observed_x = (pitcher_mu_x[pitcher_idx] + \n",
    "#                      beta_stand_x * stand + \n",
    "#                      tt.dot(beta_pitch_type_x, pitch_type_2d.T) + \n",
    "#                      beta_balls_x * balls + \n",
    "#                      beta_strikes_x * strikes)\n",
    "\n",
    "#     mu_observed_z = (pitcher_mu_z[pitcher_idx] + \n",
    "#                      beta_stand_z * stand + \n",
    "#                      tt.dot(beta_pitch_type_z, pitch_type_2d.T) + \n",
    "#                      beta_balls_z * balls + \n",
    "#                      beta_strikes_z * strikes)\n",
    "\n",
    "#     # Likelihood\n",
    "#     likelihood_x = pm.Normal('likelihood_x', mu=mu_observed_x, sd=obs_sd_x, observed=observed_x)\n",
    "#     likelihood_z = pm.Normal('likelihood_z', mu=mu_observed_z, sd=obs_sd_z, observed=observed_z)\n",
    "\n",
    "#     # Sample\n",
    "#     trace = pm.sample(2000)\n"
   ]
  },
  {
   "attachments": {},
   "cell_type": "markdown",
   "metadata": {},
   "source": [
    "stan code"
   ]
  },
  {
   "cell_type": "code",
   "execution_count": null,
   "metadata": {},
   "outputs": [],
   "source": []
  },
  {
   "cell_type": "code",
   "execution_count": 24,
   "metadata": {},
   "outputs": [],
   "source": [
    "import cmdstanpy\n",
    "\n",
    "num_pitchers = data['pitcher'].nunique()\n",
    "pitcher_idx = data['pitcher'].astype('category').cat.codes.values\n",
    "num_pitch_types = data['pitch_type'].nunique()\n",
    "stand = data['stand'].values\n",
    "balls = data['balls'].values\n",
    "strikes = data['strikes'].values\n",
    "observed_x = data['plate_x'].values\n",
    "observed_z = data['plate_z'].values\n",
    "obs_sd_x = np.std(observed_x)\n",
    "obs_sd_z = np.std(observed_z)\n",
    "\n",
    "stan_model_code =\"\"\"\n",
    "data {\n",
    "  int<lower=0> N;  // number of observations\n",
    "  int<lower=0> K;  // number of pitch types\n",
    "  int<lower=0> P;  // number of pitchers\n",
    "  int<lower=0> pitch_type[N];  // pitch type for each observation\n",
    "  int<lower=0> pitcher[N];  // pitcher for each observation\n",
    "  int<lower=0> stand[N];  // stand for each observation\n",
    "  real balls[N];  // balls for each observation\n",
    "  real strikes[N];  // strikes for each observation\n",
    "  real observed_x[N];  // observed x for each observation\n",
    "  real observed_z[N];  // observed z for each observation\n",
    "}\n",
    "parameters {\n",
    "  real mu_x;\n",
    "  real mu_z;\n",
    "  real<lower=0> sigma_x;\n",
    "  real<lower=0> sigma_z;\n",
    "  real pitcher_mu_x[P];\n",
    "  real pitcher_mu_z[P];\n",
    "  real beta_stand_x;\n",
    "  real beta_stand_z;\n",
    "  real beta_pitch_type_x[K];\n",
    "  real beta_pitch_type_z[K];\n",
    "  real beta_balls_x;\n",
    "  real beta_balls_z;\n",
    "  real beta_strikes_x;\n",
    "  real beta_strikes_z;\n",
    "}\n",
    "model {\n",
    "  mu_x ~ normal(0, 1);\n",
    "  mu_z ~ normal(0, 1);\n",
    "  sigma_x ~ normal(0, 1);\n",
    "  sigma_z ~ normal(0, 1);\n",
    "  pitcher_mu_x ~ normal(mu_x, sigma_x);\n",
    "  pitcher_mu_z ~ normal(mu_z, sigma_z);\n",
    "  beta_stand_x ~ normal(0, 1);\n",
    "  beta_stand_z ~ normal(0, 1);\n",
    "  beta_pitch_type_x ~ normal(0, 1);\n",
    "  beta_pitch_type_z ~ normal(0, 1);\n",
    "  beta_balls_x ~ normal(0, 1);\n",
    "  beta_balls_z ~ normal(0, 1);\n",
    "  beta_strikes_x ~ normal(0, 1);\n",
    "  beta_strikes_z ~ normal(0, 1);\n",
    "  for (i in 1:N) {\n",
    "    observed_x[i] ~ normal(pitcher_mu_x[pitcher[i]] + beta_stand_x * stand[i] + beta_pitch_type_x[pitch_type[i]] + beta_balls_x * balls[i] + beta_strikes_x * strikes[i], sigma_x);\n",
    "    observed_z[i] ~ normal(pitcher_mu_z[pitcher[i]] + beta_stand_z * stand[i] + beta_pitch_type_z[pitch_type[i]] + beta_balls_z * balls[i] + beta_strikes_z * strikes[i], sigma_z);\n",
    "  }\n",
    "}\n",
    "\"\"\"\n",
    "\n",
    "# Write Stan model to a file\n",
    "with open('model.stan', 'w') as f:\n",
    "    f.write(stan_model_code)\n",
    "\n",
    "# Convert data to dictionary format\n",
    "data_dict = {\n",
    "    'N': len(data),\n",
    "    'K': num_pitch_types,\n",
    "    'P': num_pitchers,\n",
    "    'pitch_type': data['pitch_type'].values + 1,\n",
    "    'pitcher': pitcher_idx + 1,\n",
    "    'stand': stand,\n",
    "    'balls': balls,\n",
    "    'strikes': strikes,\n",
    "    'observed_x': observed_x,\n",
    "    'observed_z': observed_z\n",
    "}"
   ]
  },
  {
   "cell_type": "code",
   "execution_count": 28,
   "metadata": {},
   "outputs": [
    {
     "name": "stderr",
     "output_type": "stream",
     "text": [
      "15:27:07 - cmdstanpy - INFO - compiling stan file C:\\Users\\wampl\\pitching_model\\model.stan to exe file C:\\Users\\wampl\\pitching_model\\model.exe\n"
     ]
    },
    {
     "ename": "ValueError",
     "evalue": "Failed to compile Stan model 'C:\\Users\\wampl\\pitching_model\\model.stan'. Console:\n\n--- Translating Stan model to C++ code ---\nbin/stanc.exe  --o=C:/Users/wampl/pitching_model/model.hpp C:/Users/wampl/pitching_model/model.stan\nError in 'C:/Users/wampl/pitching_model/model.stan', line 24, column 2: Declaration\n    of arrays by placing brackets after a variable name was removed in Stan\n    2.33.0. Instead use the array keyword before the type. This can be\n    changed automatically using the auto-format flag to stanc\nError in 'C:/Users/wampl/pitching_model/model.stan', line 23, column 2: Declaration\n    of arrays by placing brackets after a variable name was removed in Stan\n    2.33.0. Instead use the array keyword before the type. This can be\n    changed automatically using the auto-format flag to stanc\nError in 'C:/Users/wampl/pitching_model/model.stan', line 20, column 2: Declaration\n    of arrays by placing brackets after a variable name was removed in Stan\n    2.33.0. Instead use the array keyword before the type. This can be\n    changed automatically using the auto-format flag to stanc\nError in 'C:/Users/wampl/pitching_model/model.stan', line 19, column 2: Declaration\n    of arrays by placing brackets after a variable name was removed in Stan\n    2.33.0. Instead use the array keyword before the type. This can be\n    changed automatically using the auto-format flag to stanc\nError in 'C:/Users/wampl/pitching_model/model.stan', line 12, column 2: Declaration\n    of arrays by placing brackets after a variable name was removed in Stan\n    2.33.0. Instead use the array keyword before the type. This can be\n    changed automatically using the auto-format flag to stanc\nError in 'C:/Users/wampl/pitching_model/model.stan', line 11, column 2: Declaration\n    of arrays by placing brackets after a variable name was removed in Stan\n    2.33.0. Instead use the array keyword before the type. This can be\n    changed automatically using the auto-format flag to stanc\nError in 'C:/Users/wampl/pitching_model/model.stan', line 10, column 2: Declaration\n    of arrays by placing brackets after a variable name was removed in Stan\n    2.33.0. Instead use the array keyword before the type. This can be\n    changed automatically using the auto-format flag to stanc\nError in 'C:/Users/wampl/pitching_model/model.stan', line 9, column 2: Declaration\n    of arrays by placing brackets after a variable name was removed in Stan\n    2.33.0. Instead use the array keyword before the type. This can be\n    changed automatically using the auto-format flag to stanc\nError in 'C:/Users/wampl/pitching_model/model.stan', line 8, column 2: Declaration\n    of arrays by placing brackets after a variable name was removed in Stan\n    2.33.0. Instead use the array keyword before the type. This can be\n    changed automatically using the auto-format flag to stanc\nError in 'C:/Users/wampl/pitching_model/model.stan', line 7, column 2: Declaration\n    of arrays by placing brackets after a variable name was removed in Stan\n    2.33.0. Instead use the array keyword before the type. This can be\n    changed automatically using the auto-format flag to stanc\nError in 'C:/Users/wampl/pitching_model/model.stan', line 6, column 2: Declaration\n    of arrays by placing brackets after a variable name was removed in Stan\n    2.33.0. Instead use the array keyword before the type. This can be\n    changed automatically using the auto-format flag to stanc\nmake/program:48: recipe for target 'C:/Users/wampl/pitching_model/model.hpp' failed\nmingw32-make: *** [C:/Users/wampl/pitching_model/model.hpp] Error 65\n\nCommand ['mingw32-make', 'C:/Users/wampl/pitching_model/model.exe']\n\terror during processing No such file or directory\n",
     "output_type": "error",
     "traceback": [
      "\u001b[1;31m---------------------------------------------------------------------------\u001b[0m",
      "\u001b[1;31mValueError\u001b[0m                                Traceback (most recent call last)",
      "Cell \u001b[1;32mIn[28], line 2\u001b[0m\n\u001b[0;32m      1\u001b[0m \u001b[39m# Compile and run Stan model\u001b[39;00m\n\u001b[1;32m----> 2\u001b[0m model \u001b[39m=\u001b[39m cmdstanpy\u001b[39m.\u001b[39;49mCmdStanModel(stan_file\u001b[39m=\u001b[39;49m\u001b[39m'\u001b[39;49m\u001b[39mmodel.stan\u001b[39;49m\u001b[39m'\u001b[39;49m)\n\u001b[0;32m      3\u001b[0m fit \u001b[39m=\u001b[39m model\u001b[39m.\u001b[39msample(data\u001b[39m=\u001b[39mdata_dict, iter_sampling\u001b[39m=\u001b[39m\u001b[39m2000\u001b[39m)\n\u001b[0;32m      5\u001b[0m \u001b[39m# Print summary of the fit\u001b[39;00m\n",
      "File \u001b[1;32mc:\\Users\\wampl\\anaconda3\\envs\\bayes\\lib\\site-packages\\cmdstanpy\\model.py:236\u001b[0m, in \u001b[0;36mCmdStanModel.__init__\u001b[1;34m(self, model_name, stan_file, exe_file, compile, stanc_options, cpp_options, user_header)\u001b[0m\n\u001b[0;32m    233\u001b[0m         get_logger()\u001b[39m.\u001b[39mdebug(\u001b[39m\"\u001b[39m\u001b[39mTBB already found in load path\u001b[39m\u001b[39m\"\u001b[39m)\n\u001b[0;32m    235\u001b[0m \u001b[39mif\u001b[39;00m \u001b[39mcompile\u001b[39m \u001b[39mand\u001b[39;00m \u001b[39mself\u001b[39m\u001b[39m.\u001b[39m_exe_file \u001b[39mis\u001b[39;00m \u001b[39mNone\u001b[39;00m:\n\u001b[1;32m--> 236\u001b[0m     \u001b[39mself\u001b[39;49m\u001b[39m.\u001b[39;49mcompile(force\u001b[39m=\u001b[39;49m\u001b[39mstr\u001b[39;49m(\u001b[39mcompile\u001b[39;49m)\u001b[39m.\u001b[39;49mlower() \u001b[39m==\u001b[39;49m \u001b[39m'\u001b[39;49m\u001b[39mforce\u001b[39;49m\u001b[39m'\u001b[39;49m)\n",
      "File \u001b[1;32mc:\\Users\\wampl\\anaconda3\\envs\\bayes\\lib\\site-packages\\cmdstanpy\\model.py:563\u001b[0m, in \u001b[0;36mCmdStanModel.compile\u001b[1;34m(self, force, stanc_options, cpp_options, user_header, override_options)\u001b[0m\n\u001b[0;32m    556\u001b[0m \u001b[39mif\u001b[39;00m \u001b[39m'\u001b[39m\u001b[39mPCH\u001b[39m\u001b[39m'\u001b[39m \u001b[39min\u001b[39;00m console \u001b[39mor\u001b[39;00m \u001b[39m'\u001b[39m\u001b[39mprecompiled header\u001b[39m\u001b[39m'\u001b[39m \u001b[39min\u001b[39;00m console:\n\u001b[0;32m    557\u001b[0m     get_logger()\u001b[39m.\u001b[39mwarning(\n\u001b[0;32m    558\u001b[0m         \u001b[39m\"\u001b[39m\u001b[39mCmdStan\u001b[39m\u001b[39m'\u001b[39m\u001b[39ms precompiled header (PCH) files \u001b[39m\u001b[39m\"\u001b[39m\n\u001b[0;32m    559\u001b[0m         \u001b[39m\"\u001b[39m\u001b[39mmay need to be rebuilt.\u001b[39m\u001b[39m\"\u001b[39m\n\u001b[0;32m    560\u001b[0m         \u001b[39m\"\u001b[39m\u001b[39mPlease run cmdstanpy.rebuild_cmdstan().\u001b[39m\u001b[39m\\n\u001b[39;00m\u001b[39m\"\u001b[39m\n\u001b[0;32m    561\u001b[0m         \u001b[39m\"\u001b[39m\u001b[39mIf the issue persists please open a bug report\u001b[39m\u001b[39m\"\u001b[39m\n\u001b[0;32m    562\u001b[0m     )\n\u001b[1;32m--> 563\u001b[0m \u001b[39mraise\u001b[39;00m \u001b[39mValueError\u001b[39;00m(\n\u001b[0;32m    564\u001b[0m     \u001b[39mf\u001b[39m\u001b[39m\"\u001b[39m\u001b[39mFailed to compile Stan model \u001b[39m\u001b[39m'\u001b[39m\u001b[39m{\u001b[39;00m\u001b[39mself\u001b[39m\u001b[39m.\u001b[39m_stan_file\u001b[39m}\u001b[39;00m\u001b[39m'\u001b[39m\u001b[39m. \u001b[39m\u001b[39m\"\u001b[39m\n\u001b[0;32m    565\u001b[0m     \u001b[39mf\u001b[39m\u001b[39m\"\u001b[39m\u001b[39mConsole:\u001b[39m\u001b[39m\\n\u001b[39;00m\u001b[39m{\u001b[39;00mconsole\u001b[39m}\u001b[39;00m\u001b[39m\"\u001b[39m\n\u001b[0;32m    566\u001b[0m )\n",
      "\u001b[1;31mValueError\u001b[0m: Failed to compile Stan model 'C:\\Users\\wampl\\pitching_model\\model.stan'. Console:\n\n--- Translating Stan model to C++ code ---\nbin/stanc.exe  --o=C:/Users/wampl/pitching_model/model.hpp C:/Users/wampl/pitching_model/model.stan\nError in 'C:/Users/wampl/pitching_model/model.stan', line 24, column 2: Declaration\n    of arrays by placing brackets after a variable name was removed in Stan\n    2.33.0. Instead use the array keyword before the type. This can be\n    changed automatically using the auto-format flag to stanc\nError in 'C:/Users/wampl/pitching_model/model.stan', line 23, column 2: Declaration\n    of arrays by placing brackets after a variable name was removed in Stan\n    2.33.0. Instead use the array keyword before the type. This can be\n    changed automatically using the auto-format flag to stanc\nError in 'C:/Users/wampl/pitching_model/model.stan', line 20, column 2: Declaration\n    of arrays by placing brackets after a variable name was removed in Stan\n    2.33.0. Instead use the array keyword before the type. This can be\n    changed automatically using the auto-format flag to stanc\nError in 'C:/Users/wampl/pitching_model/model.stan', line 19, column 2: Declaration\n    of arrays by placing brackets after a variable name was removed in Stan\n    2.33.0. Instead use the array keyword before the type. This can be\n    changed automatically using the auto-format flag to stanc\nError in 'C:/Users/wampl/pitching_model/model.stan', line 12, column 2: Declaration\n    of arrays by placing brackets after a variable name was removed in Stan\n    2.33.0. Instead use the array keyword before the type. This can be\n    changed automatically using the auto-format flag to stanc\nError in 'C:/Users/wampl/pitching_model/model.stan', line 11, column 2: Declaration\n    of arrays by placing brackets after a variable name was removed in Stan\n    2.33.0. Instead use the array keyword before the type. This can be\n    changed automatically using the auto-format flag to stanc\nError in 'C:/Users/wampl/pitching_model/model.stan', line 10, column 2: Declaration\n    of arrays by placing brackets after a variable name was removed in Stan\n    2.33.0. Instead use the array keyword before the type. This can be\n    changed automatically using the auto-format flag to stanc\nError in 'C:/Users/wampl/pitching_model/model.stan', line 9, column 2: Declaration\n    of arrays by placing brackets after a variable name was removed in Stan\n    2.33.0. Instead use the array keyword before the type. This can be\n    changed automatically using the auto-format flag to stanc\nError in 'C:/Users/wampl/pitching_model/model.stan', line 8, column 2: Declaration\n    of arrays by placing brackets after a variable name was removed in Stan\n    2.33.0. Instead use the array keyword before the type. This can be\n    changed automatically using the auto-format flag to stanc\nError in 'C:/Users/wampl/pitching_model/model.stan', line 7, column 2: Declaration\n    of arrays by placing brackets after a variable name was removed in Stan\n    2.33.0. Instead use the array keyword before the type. This can be\n    changed automatically using the auto-format flag to stanc\nError in 'C:/Users/wampl/pitching_model/model.stan', line 6, column 2: Declaration\n    of arrays by placing brackets after a variable name was removed in Stan\n    2.33.0. Instead use the array keyword before the type. This can be\n    changed automatically using the auto-format flag to stanc\nmake/program:48: recipe for target 'C:/Users/wampl/pitching_model/model.hpp' failed\nmingw32-make: *** [C:/Users/wampl/pitching_model/model.hpp] Error 65\n\nCommand ['mingw32-make', 'C:/Users/wampl/pitching_model/model.exe']\n\terror during processing No such file or directory\n"
     ]
    }
   ],
   "source": [
    "# Compile and run Stan model\n",
    "model = cmdstanpy.CmdStanModel(stan_file='model.stan')\n",
    "fit = model.sample(data=data_dict, iter_sampling=2000)\n",
    "\n",
    "# Print summary of the fit\n",
    "print(fit.summary())"
   ]
  },
  {
   "cell_type": "code",
   "execution_count": 27,
   "metadata": {},
   "outputs": [
    {
     "data": {
      "text/plain": [
       "'RTools'"
      ]
     },
     "execution_count": 27,
     "metadata": {},
     "output_type": "execute_result"
    }
   ],
   "source": [
    "from cmdstanpy import install_cxx_toolchain\n",
    "config = install_cxx_toolchain.get_config('C:\\\\RTools', True)\n",
    "install_cxx_toolchain.get_toolchain_name()"
   ]
  }
 ],
 "metadata": {
  "kernelspec": {
   "display_name": "datasci",
   "language": "python",
   "name": "python3"
  },
  "language_info": {
   "codemirror_mode": {
    "name": "ipython",
    "version": 3
   },
   "file_extension": ".py",
   "mimetype": "text/x-python",
   "name": "python",
   "nbconvert_exporter": "python",
   "pygments_lexer": "ipython3",
   "version": "3.10.12"
  },
  "orig_nbformat": 4
 },
 "nbformat": 4,
 "nbformat_minor": 2
}
