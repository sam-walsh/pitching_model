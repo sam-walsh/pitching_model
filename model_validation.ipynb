{
 "cells": [
  {
   "attachments": {},
   "cell_type": "markdown",
   "metadata": {},
   "source": [
    "## Test pitch quality metric against pitchingbot and pitching+ metrics on fangraphs using 2023 split halves\n",
    "Note: no 2023 data was used to train my metric"
   ]
  },
  {
   "cell_type": "code",
   "execution_count": 2,
   "metadata": {},
   "outputs": [],
   "source": [
    "import pandas as pd\n",
    "import numpy as np\n",
    "import matplotlib.pyplot as plt\n",
    "import seaborn as sns\n",
    "import joblib"
   ]
  },
  {
   "cell_type": "code",
   "execution_count": 3,
   "metadata": {},
   "outputs": [],
   "source": [
    "first_half = pd.read_csv('other_data/first_half_metrics.csv')\n",
    "second_half = pd.read_csv('other_data/second_half_metrics.csv')"
   ]
  },
  {
   "cell_type": "code",
   "execution_count": 4,
   "metadata": {},
   "outputs": [
    {
     "name": "stderr",
     "output_type": "stream",
     "text": [
      "C:\\Users\\wampl\\AppData\\Local\\Temp\\ipykernel_13932\\842735130.py:1: DtypeWarning: Columns (116) have mixed types. Specify dtype option on import or set low_memory=False.\n",
      "  pitch_model_predictions = pd.read_csv('other_data/model_predictions.csv')\n"
     ]
    }
   ],
   "source": [
    "pitch_model_predictions = pd.read_csv('other_data/model_predictions.csv')\n",
    "pitch_model_predictions['game_date'] = pd.to_datetime(pitch_model_predictions['game_date'])"
   ]
  },
  {
   "cell_type": "code",
   "execution_count": 5,
   "metadata": {},
   "outputs": [],
   "source": [
    "pitch_model_predictions['half'] = np.where(pitch_model_predictions['game_date'] < '2023-07-11', 'first half', 'second half')"
   ]
  },
  {
   "cell_type": "code",
   "execution_count": 15,
   "metadata": {},
   "outputs": [],
   "source": [
    "pitch_scores_by_pitch_half = pitch_model_predictions \\\n",
    "    .groupby(['player_name', 'pitcher', 'pitch_type', 'half'], as_index=False)['xgb_preds'] \\\n",
    "    .agg(['mean', 'count'])"
   ]
  },
  {
   "cell_type": "code",
   "execution_count": 16,
   "metadata": {},
   "outputs": [
    {
     "data": {
      "text/html": [
       "<div>\n",
       "<style scoped>\n",
       "    .dataframe tbody tr th:only-of-type {\n",
       "        vertical-align: middle;\n",
       "    }\n",
       "\n",
       "    .dataframe tbody tr th {\n",
       "        vertical-align: top;\n",
       "    }\n",
       "\n",
       "    .dataframe thead th {\n",
       "        text-align: right;\n",
       "    }\n",
       "</style>\n",
       "<table border=\"1\" class=\"dataframe\">\n",
       "  <thead>\n",
       "    <tr style=\"text-align: right;\">\n",
       "      <th></th>\n",
       "      <th>player_name</th>\n",
       "      <th>pitcher</th>\n",
       "      <th>pitch_type</th>\n",
       "      <th>half</th>\n",
       "      <th>mean</th>\n",
       "      <th>count</th>\n",
       "    </tr>\n",
       "  </thead>\n",
       "  <tbody>\n",
       "    <tr>\n",
       "      <th>5165</th>\n",
       "      <td>deGrom, Jacob</td>\n",
       "      <td>594798</td>\n",
       "      <td>SL</td>\n",
       "      <td>first half</td>\n",
       "      <td>-0.025282</td>\n",
       "      <td>167</td>\n",
       "    </tr>\n",
       "    <tr>\n",
       "      <th>4960</th>\n",
       "      <td>Williams, Devin</td>\n",
       "      <td>642207</td>\n",
       "      <td>CH</td>\n",
       "      <td>first half</td>\n",
       "      <td>-0.022584</td>\n",
       "      <td>304</td>\n",
       "    </tr>\n",
       "    <tr>\n",
       "      <th>4002</th>\n",
       "      <td>Santos, Gregory</td>\n",
       "      <td>666619</td>\n",
       "      <td>SL</td>\n",
       "      <td>first half</td>\n",
       "      <td>-0.021695</td>\n",
       "      <td>349</td>\n",
       "    </tr>\n",
       "    <tr>\n",
       "      <th>3079</th>\n",
       "      <td>Miller, Bobby</td>\n",
       "      <td>676272</td>\n",
       "      <td>SL</td>\n",
       "      <td>first half</td>\n",
       "      <td>-0.021494</td>\n",
       "      <td>176</td>\n",
       "    </tr>\n",
       "    <tr>\n",
       "      <th>2187</th>\n",
       "      <td>Jax, Griffin</td>\n",
       "      <td>643377</td>\n",
       "      <td>ST</td>\n",
       "      <td>first half</td>\n",
       "      <td>-0.020963</td>\n",
       "      <td>339</td>\n",
       "    </tr>\n",
       "    <tr>\n",
       "      <th>75</th>\n",
       "      <td>Alcantara, Sandy</td>\n",
       "      <td>645261</td>\n",
       "      <td>CH</td>\n",
       "      <td>second half</td>\n",
       "      <td>-0.020109</td>\n",
       "      <td>279</td>\n",
       "    </tr>\n",
       "    <tr>\n",
       "      <th>4159</th>\n",
       "      <td>Sims, Lucas</td>\n",
       "      <td>608371</td>\n",
       "      <td>SL</td>\n",
       "      <td>second half</td>\n",
       "      <td>-0.020063</td>\n",
       "      <td>205</td>\n",
       "    </tr>\n",
       "    <tr>\n",
       "      <th>1823</th>\n",
       "      <td>Harvey, Hunter</td>\n",
       "      <td>640451</td>\n",
       "      <td>FS</td>\n",
       "      <td>first half</td>\n",
       "      <td>-0.019560</td>\n",
       "      <td>117</td>\n",
       "    </tr>\n",
       "    <tr>\n",
       "      <th>3627</th>\n",
       "      <td>Pressly, Ryan</td>\n",
       "      <td>519151</td>\n",
       "      <td>SL</td>\n",
       "      <td>second half</td>\n",
       "      <td>-0.019173</td>\n",
       "      <td>122</td>\n",
       "    </tr>\n",
       "    <tr>\n",
       "      <th>5049</th>\n",
       "      <td>Winn, Keaton</td>\n",
       "      <td>676775</td>\n",
       "      <td>FS</td>\n",
       "      <td>second half</td>\n",
       "      <td>-0.018794</td>\n",
       "      <td>120</td>\n",
       "    </tr>\n",
       "    <tr>\n",
       "      <th>756</th>\n",
       "      <td>Chapman, Aroldis</td>\n",
       "      <td>547973</td>\n",
       "      <td>SL</td>\n",
       "      <td>first half</td>\n",
       "      <td>-0.018793</td>\n",
       "      <td>158</td>\n",
       "    </tr>\n",
       "    <tr>\n",
       "      <th>4961</th>\n",
       "      <td>Williams, Devin</td>\n",
       "      <td>642207</td>\n",
       "      <td>CH</td>\n",
       "      <td>second half</td>\n",
       "      <td>-0.017789</td>\n",
       "      <td>203</td>\n",
       "    </tr>\n",
       "    <tr>\n",
       "      <th>4018</th>\n",
       "      <td>Sborz, Josh</td>\n",
       "      <td>622250</td>\n",
       "      <td>SL</td>\n",
       "      <td>first half</td>\n",
       "      <td>-0.017599</td>\n",
       "      <td>242</td>\n",
       "    </tr>\n",
       "    <tr>\n",
       "      <th>3626</th>\n",
       "      <td>Pressly, Ryan</td>\n",
       "      <td>519151</td>\n",
       "      <td>SL</td>\n",
       "      <td>first half</td>\n",
       "      <td>-0.017489</td>\n",
       "      <td>257</td>\n",
       "    </tr>\n",
       "    <tr>\n",
       "      <th>524</th>\n",
       "      <td>Brazoban, Huascar</td>\n",
       "      <td>623211</td>\n",
       "      <td>CH</td>\n",
       "      <td>first half</td>\n",
       "      <td>-0.017459</td>\n",
       "      <td>194</td>\n",
       "    </tr>\n",
       "    <tr>\n",
       "      <th>4274</th>\n",
       "      <td>Soto, Gregory</td>\n",
       "      <td>642397</td>\n",
       "      <td>SL</td>\n",
       "      <td>second half</td>\n",
       "      <td>-0.017437</td>\n",
       "      <td>132</td>\n",
       "    </tr>\n",
       "    <tr>\n",
       "      <th>4158</th>\n",
       "      <td>Sims, Lucas</td>\n",
       "      <td>608371</td>\n",
       "      <td>SL</td>\n",
       "      <td>first half</td>\n",
       "      <td>-0.017344</td>\n",
       "      <td>295</td>\n",
       "    </tr>\n",
       "    <tr>\n",
       "      <th>2301</th>\n",
       "      <td>Kelly, Merrill</td>\n",
       "      <td>518876</td>\n",
       "      <td>CH</td>\n",
       "      <td>first half</td>\n",
       "      <td>-0.017232</td>\n",
       "      <td>349</td>\n",
       "    </tr>\n",
       "    <tr>\n",
       "      <th>4500</th>\n",
       "      <td>Taillon, Jameson</td>\n",
       "      <td>592791</td>\n",
       "      <td>ST</td>\n",
       "      <td>first half</td>\n",
       "      <td>-0.017232</td>\n",
       "      <td>169</td>\n",
       "    </tr>\n",
       "    <tr>\n",
       "      <th>3597</th>\n",
       "      <td>Phillips, Evan</td>\n",
       "      <td>623465</td>\n",
       "      <td>ST</td>\n",
       "      <td>first half</td>\n",
       "      <td>-0.017182</td>\n",
       "      <td>236</td>\n",
       "    </tr>\n",
       "    <tr>\n",
       "      <th>1875</th>\n",
       "      <td>Helsley, Ryan</td>\n",
       "      <td>664854</td>\n",
       "      <td>SL</td>\n",
       "      <td>first half</td>\n",
       "      <td>-0.016973</td>\n",
       "      <td>148</td>\n",
       "    </tr>\n",
       "    <tr>\n",
       "      <th>3553</th>\n",
       "      <td>Peralta, Wandy</td>\n",
       "      <td>593974</td>\n",
       "      <td>CH</td>\n",
       "      <td>first half</td>\n",
       "      <td>-0.016629</td>\n",
       "      <td>255</td>\n",
       "    </tr>\n",
       "    <tr>\n",
       "      <th>301</th>\n",
       "      <td>Bautista, Félix</td>\n",
       "      <td>642585</td>\n",
       "      <td>FF</td>\n",
       "      <td>second half</td>\n",
       "      <td>-0.016600</td>\n",
       "      <td>203</td>\n",
       "    </tr>\n",
       "    <tr>\n",
       "      <th>3535</th>\n",
       "      <td>Pepiot, Ryan</td>\n",
       "      <td>686752</td>\n",
       "      <td>CH</td>\n",
       "      <td>second half</td>\n",
       "      <td>-0.016521</td>\n",
       "      <td>139</td>\n",
       "    </tr>\n",
       "    <tr>\n",
       "      <th>3157</th>\n",
       "      <td>Montero, Rafael</td>\n",
       "      <td>606160</td>\n",
       "      <td>CH</td>\n",
       "      <td>first half</td>\n",
       "      <td>-0.016272</td>\n",
       "      <td>152</td>\n",
       "    </tr>\n",
       "  </tbody>\n",
       "</table>\n",
       "</div>"
      ],
      "text/plain": [
       "            player_name  pitcher pitch_type         half      mean  count\n",
       "5165      deGrom, Jacob   594798         SL   first half -0.025282    167\n",
       "4960    Williams, Devin   642207         CH   first half -0.022584    304\n",
       "4002    Santos, Gregory   666619         SL   first half -0.021695    349\n",
       "3079      Miller, Bobby   676272         SL   first half -0.021494    176\n",
       "2187       Jax, Griffin   643377         ST   first half -0.020963    339\n",
       "75     Alcantara, Sandy   645261         CH  second half -0.020109    279\n",
       "4159        Sims, Lucas   608371         SL  second half -0.020063    205\n",
       "1823     Harvey, Hunter   640451         FS   first half -0.019560    117\n",
       "3627      Pressly, Ryan   519151         SL  second half -0.019173    122\n",
       "5049       Winn, Keaton   676775         FS  second half -0.018794    120\n",
       "756    Chapman, Aroldis   547973         SL   first half -0.018793    158\n",
       "4961    Williams, Devin   642207         CH  second half -0.017789    203\n",
       "4018        Sborz, Josh   622250         SL   first half -0.017599    242\n",
       "3626      Pressly, Ryan   519151         SL   first half -0.017489    257\n",
       "524   Brazoban, Huascar   623211         CH   first half -0.017459    194\n",
       "4274      Soto, Gregory   642397         SL  second half -0.017437    132\n",
       "4158        Sims, Lucas   608371         SL   first half -0.017344    295\n",
       "2301     Kelly, Merrill   518876         CH   first half -0.017232    349\n",
       "4500   Taillon, Jameson   592791         ST   first half -0.017232    169\n",
       "3597     Phillips, Evan   623465         ST   first half -0.017182    236\n",
       "1875      Helsley, Ryan   664854         SL   first half -0.016973    148\n",
       "3553     Peralta, Wandy   593974         CH   first half -0.016629    255\n",
       "301     Bautista, Félix   642585         FF  second half -0.016600    203\n",
       "3535       Pepiot, Ryan   686752         CH  second half -0.016521    139\n",
       "3157    Montero, Rafael   606160         CH   first half -0.016272    152"
      ]
     },
     "execution_count": 16,
     "metadata": {},
     "output_type": "execute_result"
    }
   ],
   "source": [
    "pitch_scores_by_pitch_half.loc[pitch_scores_by_pitch_half['count']>100].nsmallest(25, 'mean')"
   ]
  },
  {
   "cell_type": "code",
   "execution_count": 17,
   "metadata": {},
   "outputs": [],
   "source": [
    "pitch_scores_by_pitcher_half = pitch_model_predictions \\\n",
    "    .groupby(['player_name', 'pitcher', 'half'], as_index=False)['xgb_preds'] \\\n",
    "    .agg(['mean', 'count'])"
   ]
  },
  {
   "cell_type": "code",
   "execution_count": 18,
   "metadata": {},
   "outputs": [
    {
     "data": {
      "text/html": [
       "<div>\n",
       "<style scoped>\n",
       "    .dataframe tbody tr th:only-of-type {\n",
       "        vertical-align: middle;\n",
       "    }\n",
       "\n",
       "    .dataframe tbody tr th {\n",
       "        vertical-align: top;\n",
       "    }\n",
       "\n",
       "    .dataframe thead th {\n",
       "        text-align: right;\n",
       "    }\n",
       "</style>\n",
       "<table border=\"1\" class=\"dataframe\">\n",
       "  <thead>\n",
       "    <tr style=\"text-align: right;\">\n",
       "      <th></th>\n",
       "      <th>player_name</th>\n",
       "      <th>pitcher</th>\n",
       "      <th>half</th>\n",
       "      <th>mean</th>\n",
       "      <th>count</th>\n",
       "    </tr>\n",
       "  </thead>\n",
       "  <tbody>\n",
       "    <tr>\n",
       "      <th>1342</th>\n",
       "      <td>deGrom, Jacob</td>\n",
       "      <td>594798</td>\n",
       "      <td>first half</td>\n",
       "      <td>-0.015963</td>\n",
       "      <td>442</td>\n",
       "    </tr>\n",
       "    <tr>\n",
       "      <th>565</th>\n",
       "      <td>Jax, Griffin</td>\n",
       "      <td>643377</td>\n",
       "      <td>first half</td>\n",
       "      <td>-0.014086</td>\n",
       "      <td>560</td>\n",
       "    </tr>\n",
       "    <tr>\n",
       "      <th>23</th>\n",
       "      <td>Alcantara, Sandy</td>\n",
       "      <td>645261</td>\n",
       "      <td>second half</td>\n",
       "      <td>-0.013669</td>\n",
       "      <td>1026</td>\n",
       "    </tr>\n",
       "    <tr>\n",
       "      <th>1055</th>\n",
       "      <td>Scott, Tanner</td>\n",
       "      <td>656945</td>\n",
       "      <td>second half</td>\n",
       "      <td>-0.013549</td>\n",
       "      <td>437</td>\n",
       "    </tr>\n",
       "    <tr>\n",
       "      <th>80</th>\n",
       "      <td>Bautista, Félix</td>\n",
       "      <td>642585</td>\n",
       "      <td>second half</td>\n",
       "      <td>-0.013413</td>\n",
       "      <td>285</td>\n",
       "    </tr>\n",
       "    <tr>\n",
       "      <th>1225</th>\n",
       "      <td>Vesia, Alex</td>\n",
       "      <td>681911</td>\n",
       "      <td>second half</td>\n",
       "      <td>-0.013339</td>\n",
       "      <td>327</td>\n",
       "    </tr>\n",
       "    <tr>\n",
       "      <th>479</th>\n",
       "      <td>Helsley, Ryan</td>\n",
       "      <td>664854</td>\n",
       "      <td>first half</td>\n",
       "      <td>-0.013027</td>\n",
       "      <td>419</td>\n",
       "    </tr>\n",
       "    <tr>\n",
       "      <th>214</th>\n",
       "      <td>Clase, Emmanuel</td>\n",
       "      <td>661403</td>\n",
       "      <td>first half</td>\n",
       "      <td>-0.011792</td>\n",
       "      <td>650</td>\n",
       "    </tr>\n",
       "    <tr>\n",
       "      <th>1289</th>\n",
       "      <td>Williams, Devin</td>\n",
       "      <td>642207</td>\n",
       "      <td>first half</td>\n",
       "      <td>-0.011749</td>\n",
       "      <td>553</td>\n",
       "    </tr>\n",
       "    <tr>\n",
       "      <th>79</th>\n",
       "      <td>Bautista, Félix</td>\n",
       "      <td>642585</td>\n",
       "      <td>first half</td>\n",
       "      <td>-0.011731</td>\n",
       "      <td>699</td>\n",
       "    </tr>\n",
       "    <tr>\n",
       "      <th>848</th>\n",
       "      <td>Muñoz, Andrés</td>\n",
       "      <td>662253</td>\n",
       "      <td>first half</td>\n",
       "      <td>-0.011704</td>\n",
       "      <td>247</td>\n",
       "    </tr>\n",
       "    <tr>\n",
       "      <th>789</th>\n",
       "      <td>Merryweather, Julian</td>\n",
       "      <td>657240</td>\n",
       "      <td>second half</td>\n",
       "      <td>-0.011572</td>\n",
       "      <td>456</td>\n",
       "    </tr>\n",
       "    <tr>\n",
       "      <th>1039</th>\n",
       "      <td>Santos, Gregory</td>\n",
       "      <td>666619</td>\n",
       "      <td>first half</td>\n",
       "      <td>-0.011310</td>\n",
       "      <td>705</td>\n",
       "    </tr>\n",
       "    <tr>\n",
       "      <th>766</th>\n",
       "      <td>McClanahan, Shane</td>\n",
       "      <td>663556</td>\n",
       "      <td>second half</td>\n",
       "      <td>-0.011248</td>\n",
       "      <td>323</td>\n",
       "    </tr>\n",
       "    <tr>\n",
       "      <th>215</th>\n",
       "      <td>Clase, Emmanuel</td>\n",
       "      <td>661403</td>\n",
       "      <td>second half</td>\n",
       "      <td>-0.011237</td>\n",
       "      <td>389</td>\n",
       "    </tr>\n",
       "    <tr>\n",
       "      <th>783</th>\n",
       "      <td>Megill, Trevor</td>\n",
       "      <td>656730</td>\n",
       "      <td>second half</td>\n",
       "      <td>-0.011214</td>\n",
       "      <td>241</td>\n",
       "    </tr>\n",
       "    <tr>\n",
       "      <th>1143</th>\n",
       "      <td>Strider, Spencer</td>\n",
       "      <td>675911</td>\n",
       "      <td>first half</td>\n",
       "      <td>-0.011065</td>\n",
       "      <td>1780</td>\n",
       "    </tr>\n",
       "    <tr>\n",
       "      <th>321</th>\n",
       "      <td>Estrada, Jeremiah</td>\n",
       "      <td>669093</td>\n",
       "      <td>first half</td>\n",
       "      <td>-0.010851</td>\n",
       "      <td>230</td>\n",
       "    </tr>\n",
       "    <tr>\n",
       "      <th>1006</th>\n",
       "      <td>Rogers, Tyler</td>\n",
       "      <td>643511</td>\n",
       "      <td>first half</td>\n",
       "      <td>-0.010665</td>\n",
       "      <td>650</td>\n",
       "    </tr>\n",
       "    <tr>\n",
       "      <th>972</th>\n",
       "      <td>Rasmussen, Drew</td>\n",
       "      <td>656876</td>\n",
       "      <td>first half</td>\n",
       "      <td>-0.010554</td>\n",
       "      <td>672</td>\n",
       "    </tr>\n",
       "    <tr>\n",
       "      <th>1311</th>\n",
       "      <td>Winn, Keaton</td>\n",
       "      <td>676775</td>\n",
       "      <td>second half</td>\n",
       "      <td>-0.010373</td>\n",
       "      <td>226</td>\n",
       "    </tr>\n",
       "    <tr>\n",
       "      <th>943</th>\n",
       "      <td>Pressly, Ryan</td>\n",
       "      <td>519151</td>\n",
       "      <td>second half</td>\n",
       "      <td>-0.010205</td>\n",
       "      <td>333</td>\n",
       "    </tr>\n",
       "    <tr>\n",
       "      <th>932</th>\n",
       "      <td>Phillips, Evan</td>\n",
       "      <td>623465</td>\n",
       "      <td>first half</td>\n",
       "      <td>-0.010191</td>\n",
       "      <td>514</td>\n",
       "    </tr>\n",
       "    <tr>\n",
       "      <th>1120</th>\n",
       "      <td>Springs, Jeffrey</td>\n",
       "      <td>605488</td>\n",
       "      <td>first half</td>\n",
       "      <td>-0.010075</td>\n",
       "      <td>211</td>\n",
       "    </tr>\n",
       "    <tr>\n",
       "      <th>942</th>\n",
       "      <td>Pressly, Ryan</td>\n",
       "      <td>519151</td>\n",
       "      <td>first half</td>\n",
       "      <td>-0.010054</td>\n",
       "      <td>569</td>\n",
       "    </tr>\n",
       "  </tbody>\n",
       "</table>\n",
       "</div>"
      ],
      "text/plain": [
       "               player_name  pitcher         half      mean  count\n",
       "1342         deGrom, Jacob   594798   first half -0.015963    442\n",
       "565           Jax, Griffin   643377   first half -0.014086    560\n",
       "23        Alcantara, Sandy   645261  second half -0.013669   1026\n",
       "1055         Scott, Tanner   656945  second half -0.013549    437\n",
       "80         Bautista, Félix   642585  second half -0.013413    285\n",
       "1225           Vesia, Alex   681911  second half -0.013339    327\n",
       "479          Helsley, Ryan   664854   first half -0.013027    419\n",
       "214        Clase, Emmanuel   661403   first half -0.011792    650\n",
       "1289       Williams, Devin   642207   first half -0.011749    553\n",
       "79         Bautista, Félix   642585   first half -0.011731    699\n",
       "848          Muñoz, Andrés   662253   first half -0.011704    247\n",
       "789   Merryweather, Julian   657240  second half -0.011572    456\n",
       "1039       Santos, Gregory   666619   first half -0.011310    705\n",
       "766      McClanahan, Shane   663556  second half -0.011248    323\n",
       "215        Clase, Emmanuel   661403  second half -0.011237    389\n",
       "783         Megill, Trevor   656730  second half -0.011214    241\n",
       "1143      Strider, Spencer   675911   first half -0.011065   1780\n",
       "321      Estrada, Jeremiah   669093   first half -0.010851    230\n",
       "1006         Rogers, Tyler   643511   first half -0.010665    650\n",
       "972        Rasmussen, Drew   656876   first half -0.010554    672\n",
       "1311          Winn, Keaton   676775  second half -0.010373    226\n",
       "943          Pressly, Ryan   519151  second half -0.010205    333\n",
       "932         Phillips, Evan   623465   first half -0.010191    514\n",
       "1120      Springs, Jeffrey   605488   first half -0.010075    211\n",
       "942          Pressly, Ryan   519151   first half -0.010054    569"
      ]
     },
     "execution_count": 18,
     "metadata": {},
     "output_type": "execute_result"
    }
   ],
   "source": [
    "pitch_scores_by_pitcher_half.loc[pitch_scores_by_pitcher_half['count']>100].nsmallest(25, 'mean')"
   ]
  },
  {
   "cell_type": "code",
   "execution_count": 19,
   "metadata": {},
   "outputs": [],
   "source": [
    "first_half_pred = pitch_scores_by_pitcher_half[pitch_scores_by_pitcher_half['half']=='first half']"
   ]
  },
  {
   "cell_type": "code",
   "execution_count": 20,
   "metadata": {},
   "outputs": [],
   "source": [
    "second_half_pred = pitch_scores_by_pitcher_half[pitch_scores_by_pitcher_half['half']=='second half']"
   ]
  },
  {
   "cell_type": "code",
   "execution_count": 21,
   "metadata": {},
   "outputs": [],
   "source": [
    "first_half = first_half.merge(first_half_pred, left_on='MLBAMID', right_on='pitcher', how='left')\n",
    "second_half = second_half.merge(second_half_pred, left_on='MLBAMID', right_on='pitcher', how='left')"
   ]
  },
  {
   "cell_type": "code",
   "execution_count": 57,
   "metadata": {},
   "outputs": [
    {
     "data": {
      "text/html": [
       "<div>\n",
       "<style scoped>\n",
       "    .dataframe tbody tr th:only-of-type {\n",
       "        vertical-align: middle;\n",
       "    }\n",
       "\n",
       "    .dataframe tbody tr th {\n",
       "        vertical-align: top;\n",
       "    }\n",
       "\n",
       "    .dataframe thead th {\n",
       "        text-align: right;\n",
       "    }\n",
       "</style>\n",
       "<table border=\"1\" class=\"dataframe\">\n",
       "  <thead>\n",
       "    <tr style=\"text-align: right;\">\n",
       "      <th></th>\n",
       "      <th>ERA</th>\n",
       "      <th>FIP</th>\n",
       "      <th>xFIP</th>\n",
       "      <th>SIERA</th>\n",
       "      <th>botERA</th>\n",
       "      <th>Pitching+</th>\n",
       "      <th>pitch_score</th>\n",
       "    </tr>\n",
       "  </thead>\n",
       "  <tbody>\n",
       "    <tr>\n",
       "      <th>ERA</th>\n",
       "      <td>1.000000</td>\n",
       "      <td>0.692828</td>\n",
       "      <td>0.526362</td>\n",
       "      <td>0.553805</td>\n",
       "      <td>0.329677</td>\n",
       "      <td>-0.370031</td>\n",
       "      <td>0.179047</td>\n",
       "    </tr>\n",
       "    <tr>\n",
       "      <th>FIP</th>\n",
       "      <td>0.692828</td>\n",
       "      <td>1.000000</td>\n",
       "      <td>0.788027</td>\n",
       "      <td>0.771558</td>\n",
       "      <td>0.505739</td>\n",
       "      <td>-0.505073</td>\n",
       "      <td>0.271758</td>\n",
       "    </tr>\n",
       "    <tr>\n",
       "      <th>xFIP</th>\n",
       "      <td>0.526362</td>\n",
       "      <td>0.788027</td>\n",
       "      <td>1.000000</td>\n",
       "      <td>0.933070</td>\n",
       "      <td>0.516102</td>\n",
       "      <td>-0.533723</td>\n",
       "      <td>0.323067</td>\n",
       "    </tr>\n",
       "    <tr>\n",
       "      <th>SIERA</th>\n",
       "      <td>0.553805</td>\n",
       "      <td>0.771558</td>\n",
       "      <td>0.933070</td>\n",
       "      <td>1.000000</td>\n",
       "      <td>0.539595</td>\n",
       "      <td>-0.573944</td>\n",
       "      <td>0.310528</td>\n",
       "    </tr>\n",
       "    <tr>\n",
       "      <th>botERA</th>\n",
       "      <td>0.329677</td>\n",
       "      <td>0.505739</td>\n",
       "      <td>0.516102</td>\n",
       "      <td>0.539595</td>\n",
       "      <td>1.000000</td>\n",
       "      <td>-0.824954</td>\n",
       "      <td>0.406477</td>\n",
       "    </tr>\n",
       "    <tr>\n",
       "      <th>Pitching+</th>\n",
       "      <td>-0.370031</td>\n",
       "      <td>-0.505073</td>\n",
       "      <td>-0.533723</td>\n",
       "      <td>-0.573944</td>\n",
       "      <td>-0.824954</td>\n",
       "      <td>1.000000</td>\n",
       "      <td>-0.310620</td>\n",
       "    </tr>\n",
       "    <tr>\n",
       "      <th>pitch_score</th>\n",
       "      <td>0.179047</td>\n",
       "      <td>0.271758</td>\n",
       "      <td>0.323067</td>\n",
       "      <td>0.310528</td>\n",
       "      <td>0.406477</td>\n",
       "      <td>-0.310620</td>\n",
       "      <td>1.000000</td>\n",
       "    </tr>\n",
       "  </tbody>\n",
       "</table>\n",
       "</div>"
      ],
      "text/plain": [
       "                  ERA       FIP      xFIP     SIERA    botERA  Pitching+  \\\n",
       "ERA          1.000000  0.692828  0.526362  0.553805  0.329677  -0.370031   \n",
       "FIP          0.692828  1.000000  0.788027  0.771558  0.505739  -0.505073   \n",
       "xFIP         0.526362  0.788027  1.000000  0.933070  0.516102  -0.533723   \n",
       "SIERA        0.553805  0.771558  0.933070  1.000000  0.539595  -0.573944   \n",
       "botERA       0.329677  0.505739  0.516102  0.539595  1.000000  -0.824954   \n",
       "Pitching+   -0.370031 -0.505073 -0.533723 -0.573944 -0.824954   1.000000   \n",
       "pitch_score  0.179047  0.271758  0.323067  0.310528  0.406477  -0.310620   \n",
       "\n",
       "             pitch_score  \n",
       "ERA             0.179047  \n",
       "FIP             0.271758  \n",
       "xFIP            0.323067  \n",
       "SIERA           0.310528  \n",
       "botERA          0.406477  \n",
       "Pitching+      -0.310620  \n",
       "pitch_score     1.000000  "
      ]
     },
     "execution_count": 57,
     "metadata": {},
     "output_type": "execute_result"
    }
   ],
   "source": [
    "first_half[['ERA', 'FIP', 'xFIP', 'SIERA', 'botERA', 'Pitching+', 'pitch_score']].corr()"
   ]
  },
  {
   "cell_type": "code",
   "execution_count": 22,
   "metadata": {},
   "outputs": [],
   "source": [
    "full = pd.merge(first_half, second_half, on='MLBAMID', suffixes=('_1H', '_2H'))"
   ]
  },
  {
   "cell_type": "code",
   "execution_count": 25,
   "metadata": {},
   "outputs": [],
   "source": [
    "full = full.rename(columns={'mean_1H': 'pitch_score_1H', 'mean_2H': 'pitch_score_2H'})"
   ]
  },
  {
   "cell_type": "code",
   "execution_count": 27,
   "metadata": {},
   "outputs": [
    {
     "data": {
      "image/png": "[encoded data removed]",
      "text/plain": [
       "<Figure size 1000x800 with 2 Axes>"
      ]
     },
     "metadata": {},
     "output_type": "display_data"
    }
   ],
   "source": [
    "corr = full[['ERA_1H', 'botERA_1H', 'Pitching+_1H', 'pitch_score_1H', 'ERA_2H','botERA_2H', 'Pitching+_2H', 'pitch_score_2H']].corr().abs().round(2)\n",
    "mask = np.triu(np.ones_like(corr, dtype=bool))  # Create a mask for the upper triangle\n",
    "plt.figure(figsize=(10, 8))\n",
    "sns.heatmap(corr, mask=mask, annot=True, cmap='coolwarm', fmt=\".2f\")  # Apply the mask to the heatmap\n",
    "plt.xticks(rotation=60)\n",
    "plt.title(\n",
    "    \"\"\"Correlations for 2023 Season (Split-halves)\n",
    "    [No 2023 data used in training set; 1H: First Half; 2H: Second Half]\n",
    "    \"\"\"\n",
    ")\n",
    "plt.show()\n"
   ]
  },
  {
   "cell_type": "code",
   "execution_count": 61,
   "metadata": {},
   "outputs": [
    {
     "data": {
      "text/html": [
       "<div>\n",
       "<style scoped>\n",
       "    .dataframe tbody tr th:only-of-type {\n",
       "        vertical-align: middle;\n",
       "    }\n",
       "\n",
       "    .dataframe tbody tr th {\n",
       "        vertical-align: top;\n",
       "    }\n",
       "\n",
       "    .dataframe thead th {\n",
       "        text-align: right;\n",
       "    }\n",
       "</style>\n",
       "<table border=\"1\" class=\"dataframe\">\n",
       "  <thead>\n",
       "    <tr style=\"text-align: right;\">\n",
       "      <th></th>\n",
       "      <th>Name_1H</th>\n",
       "      <th>Team_1H</th>\n",
       "      <th>IP_1H</th>\n",
       "      <th>ERA_1H</th>\n",
       "      <th>xERA_1H</th>\n",
       "      <th>FIP_1H</th>\n",
       "      <th>xFIP_1H</th>\n",
       "      <th>SIERA_1H</th>\n",
       "      <th>Pitching+_1H</th>\n",
       "      <th>botERA_1H</th>\n",
       "      <th>...</th>\n",
       "      <th>xFIP_2H</th>\n",
       "      <th>SIERA_2H</th>\n",
       "      <th>Pitching+_2H</th>\n",
       "      <th>botERA_2H</th>\n",
       "      <th>NameASCII_2H</th>\n",
       "      <th>PlayerId_2H</th>\n",
       "      <th>player_name_2H</th>\n",
       "      <th>pitcher_2H</th>\n",
       "      <th>pitch_score_2H</th>\n",
       "      <th>count_2H</th>\n",
       "    </tr>\n",
       "  </thead>\n",
       "  <tbody>\n",
       "    <tr>\n",
       "      <th>0</th>\n",
       "      <td>Craig Kimbrel</td>\n",
       "      <td>PHI</td>\n",
       "      <td>37.0</td>\n",
       "      <td>3.405406</td>\n",
       "      <td>NaN</td>\n",
       "      <td>3.230406</td>\n",
       "      <td>3.044281</td>\n",
       "      <td>2.504763</td>\n",
       "      <td>117.910250</td>\n",
       "      <td>2.760223</td>\n",
       "      <td>...</td>\n",
       "      <td>4.490646</td>\n",
       "      <td>4.092222</td>\n",
       "      <td>109.874036</td>\n",
       "      <td>3.195468</td>\n",
       "      <td>Craig Kimbrel</td>\n",
       "      <td>6655</td>\n",
       "      <td>Kimbrel, Craig</td>\n",
       "      <td>518886</td>\n",
       "      <td>0.008848</td>\n",
       "      <td>344</td>\n",
       "    </tr>\n",
       "    <tr>\n",
       "      <th>1</th>\n",
       "      <td>Emmanuel Clase</td>\n",
       "      <td>CLE</td>\n",
       "      <td>42.2</td>\n",
       "      <td>3.375000</td>\n",
       "      <td>NaN</td>\n",
       "      <td>2.929308</td>\n",
       "      <td>3.487389</td>\n",
       "      <td>3.530839</td>\n",
       "      <td>116.125895</td>\n",
       "      <td>2.578961</td>\n",
       "      <td>...</td>\n",
       "      <td>3.318569</td>\n",
       "      <td>3.249186</td>\n",
       "      <td>116.839687</td>\n",
       "      <td>2.423162</td>\n",
       "      <td>Emmanuel Clase</td>\n",
       "      <td>21032</td>\n",
       "      <td>Clase, Emmanuel</td>\n",
       "      <td>661403</td>\n",
       "      <td>-0.013322</td>\n",
       "      <td>307</td>\n",
       "    </tr>\n",
       "    <tr>\n",
       "      <th>2</th>\n",
       "      <td>Spencer Strider</td>\n",
       "      <td>ATL</td>\n",
       "      <td>104.2</td>\n",
       "      <td>3.439490</td>\n",
       "      <td>NaN</td>\n",
       "      <td>2.817943</td>\n",
       "      <td>2.868963</td>\n",
       "      <td>2.730187</td>\n",
       "      <td>113.985725</td>\n",
       "      <td>2.988665</td>\n",
       "      <td>...</td>\n",
       "      <td>3.013132</td>\n",
       "      <td>2.975096</td>\n",
       "      <td>108.731738</td>\n",
       "      <td>3.291266</td>\n",
       "      <td>Spencer Strider</td>\n",
       "      <td>27498</td>\n",
       "      <td>Strider, Spencer</td>\n",
       "      <td>675911</td>\n",
       "      <td>-0.002622</td>\n",
       "      <td>914</td>\n",
       "    </tr>\n",
       "    <tr>\n",
       "      <th>3</th>\n",
       "      <td>Zack Wheeler</td>\n",
       "      <td>PHI</td>\n",
       "      <td>104.1</td>\n",
       "      <td>4.054313</td>\n",
       "      <td>NaN</td>\n",
       "      <td>2.806954</td>\n",
       "      <td>3.512969</td>\n",
       "      <td>3.535443</td>\n",
       "      <td>110.994539</td>\n",
       "      <td>2.836520</td>\n",
       "      <td>...</td>\n",
       "      <td>3.411229</td>\n",
       "      <td>3.402545</td>\n",
       "      <td>114.014695</td>\n",
       "      <td>2.290358</td>\n",
       "      <td>Zack Wheeler</td>\n",
       "      <td>10310</td>\n",
       "      <td>Wheeler, Zack</td>\n",
       "      <td>554430</td>\n",
       "      <td>-0.001432</td>\n",
       "      <td>981</td>\n",
       "    </tr>\n",
       "    <tr>\n",
       "      <th>4</th>\n",
       "      <td>Bobby Miller</td>\n",
       "      <td>LAD</td>\n",
       "      <td>44.0</td>\n",
       "      <td>4.500000</td>\n",
       "      <td>NaN</td>\n",
       "      <td>3.689251</td>\n",
       "      <td>3.979135</td>\n",
       "      <td>4.204794</td>\n",
       "      <td>110.119674</td>\n",
       "      <td>2.841754</td>\n",
       "      <td>...</td>\n",
       "      <td>4.025678</td>\n",
       "      <td>4.135876</td>\n",
       "      <td>109.489293</td>\n",
       "      <td>3.273506</td>\n",
       "      <td>Bobby Miller</td>\n",
       "      <td>27483</td>\n",
       "      <td>Miller, Bobby</td>\n",
       "      <td>676272</td>\n",
       "      <td>0.005648</td>\n",
       "      <td>788</td>\n",
       "    </tr>\n",
       "  </tbody>\n",
       "</table>\n",
       "<p>5 rows × 33 columns</p>\n",
       "</div>"
      ],
      "text/plain": [
       "           Name_1H Team_1H  IP_1H    ERA_1H  xERA_1H    FIP_1H   xFIP_1H  \\\n",
       "0    Craig Kimbrel     PHI   37.0  3.405406      NaN  3.230406  3.044281   \n",
       "1   Emmanuel Clase     CLE   42.2  3.375000      NaN  2.929308  3.487389   \n",
       "2  Spencer Strider     ATL  104.2  3.439490      NaN  2.817943  2.868963   \n",
       "3     Zack Wheeler     PHI  104.1  4.054313      NaN  2.806954  3.512969   \n",
       "4     Bobby Miller     LAD   44.0  4.500000      NaN  3.689251  3.979135   \n",
       "\n",
       "   SIERA_1H  Pitching+_1H  botERA_1H  ...   xFIP_2H  SIERA_2H  Pitching+_2H  \\\n",
       "0  2.504763    117.910250   2.760223  ...  4.490646  4.092222    109.874036   \n",
       "1  3.530839    116.125895   2.578961  ...  3.318569  3.249186    116.839687   \n",
       "2  2.730187    113.985725   2.988665  ...  3.013132  2.975096    108.731738   \n",
       "3  3.535443    110.994539   2.836520  ...  3.411229  3.402545    114.014695   \n",
       "4  4.204794    110.119674   2.841754  ...  4.025678  4.135876    109.489293   \n",
       "\n",
       "  botERA_2H     NameASCII_2H  PlayerId_2H    player_name_2H pitcher_2H  \\\n",
       "0  3.195468    Craig Kimbrel         6655    Kimbrel, Craig     518886   \n",
       "1  2.423162   Emmanuel Clase        21032   Clase, Emmanuel     661403   \n",
       "2  3.291266  Spencer Strider        27498  Strider, Spencer     675911   \n",
       "3  2.290358     Zack Wheeler        10310     Wheeler, Zack     554430   \n",
       "4  3.273506     Bobby Miller        27483     Miller, Bobby     676272   \n",
       "\n",
       "  pitch_score_2H  count_2H  \n",
       "0       0.008848       344  \n",
       "1      -0.013322       307  \n",
       "2      -0.002622       914  \n",
       "3      -0.001432       981  \n",
       "4       0.005648       788  \n",
       "\n",
       "[5 rows x 33 columns]"
      ]
     },
     "execution_count": 61,
     "metadata": {},
     "output_type": "execute_result"
    }
   ],
   "source": [
    "full.head()"
   ]
  },
  {
   "cell_type": "code",
   "execution_count": 29,
   "metadata": {},
   "outputs": [],
   "source": [
    "import plotly.express as px"
   ]
  },
  {
   "cell_type": "code",
   "execution_count": 32,
   "metadata": {},
   "outputs": [
    {
     "data": {
      "application/vnd.plotly.v1+json": {
       "config": {
        "plotlyServerURL": "https://plotly.com"
       },
       "data": [
        {
         "customdata": [
          [
           37,
           26
          ],
          [
           42.2,
           26
          ],
          [
           104.2,
           64.1
          ],
          [
           104.1,
           70.2
          ],
          [
           44,
           63.1
          ],
          [
           117,
           75
          ],
          [
           111,
           72.2
          ],
          [
           107.2,
           64
          ],
          [
           38.1,
           25
          ],
          [
           35.1,
           26.2
          ],
          [
           59,
           64
          ],
          [
           43.1,
           28.1
          ],
          [
           115.2,
           56.1
          ],
          [
           118.1,
           74.1
          ],
          [
           45,
           34.1
          ],
          [
           41.2,
           68
          ],
          [
           119,
           62
          ],
          [
           34.2,
           41
          ],
          [
           88,
           58
          ],
          [
           114.1,
           70.1
          ],
          [
           36.1,
           27
          ],
          [
           27.2,
           25
          ],
          [
           61.1,
           29.1
          ],
          [
           33.2,
           28.2
          ],
          [
           37.2,
           29.1
          ],
          [
           107,
           38.2
          ],
          [
           85,
           51.1
          ],
          [
           64.1,
           53
          ],
          [
           84,
           68.2
          ],
          [
           49.2,
           35
          ],
          [
           92,
           64.2
          ],
          [
           61.1,
           50.2
          ],
          [
           102.1,
           65.1
          ],
          [
           117,
           65.2
          ],
          [
           48.2,
           39
          ],
          [
           107.1,
           77.1
          ],
          [
           95.1,
           26
          ],
          [
           93.1,
           60.1
          ],
          [
           29,
           25.1
          ],
          [
           69,
           53.1
          ],
          [
           55.1,
           27
          ],
          [
           102.2,
           56.1
          ],
          [
           95,
           64
          ],
          [
           29.2,
           35
          ],
          [
           93.2,
           41.1
          ],
          [
           44,
           26.1
          ],
          [
           108,
           70
          ],
          [
           36,
           28.2
          ],
          [
           100.1,
           31.2
          ],
          [
           109.1,
           51
          ],
          [
           52.2,
           65
          ],
          [
           94,
           52.1
          ],
          [
           44,
           28
          ],
          [
           37.1,
           27
          ],
          [
           82.2,
           45
          ],
          [
           71.2,
           66.2
          ],
          [
           70,
           73.1
          ],
          [
           45.1,
           66
          ],
          [
           87.2,
           65
          ],
          [
           34,
           27.2
          ],
          [
           34,
           29
          ],
          [
           63.2,
           68
          ],
          [
           30.1,
           25.2
          ],
          [
           107.1,
           74
          ],
          [
           54.1,
           25
          ],
          [
           53.1,
           35
          ],
          [
           27,
           26.1
          ],
          [
           91.1,
           73.2
          ],
          [
           51.2,
           30
          ],
          [
           112.1,
           58.1
          ],
          [
           99.2,
           67.1
          ],
          [
           33.1,
           58.2
          ],
          [
           25.2,
           60.1
          ],
          [
           99.2,
           58
          ],
          [
           85.2,
           52
          ],
          [
           41,
           40.2
          ],
          [
           89.2,
           46.2
          ],
          [
           66.1,
           65
          ],
          [
           81.2,
           64
          ],
          [
           46.1,
           39.1
          ],
          [
           126,
           75
          ],
          [
           112.2,
           69.2
          ],
          [
           59,
           33.2
          ],
          [
           26,
           45.2
          ],
          [
           87,
           61.2
          ],
          [
           33,
           63
          ],
          [
           74,
           42
          ],
          [
           111,
           70.2
          ],
          [
           89.2,
           59.2
          ],
          [
           64.2,
           33.2
          ],
          [
           103,
           63.2
          ],
          [
           108.1,
           65.2
          ],
          [
           50.2,
           26.1
          ],
          [
           98,
           61
          ],
          [
           62.1,
           60
          ],
          [
           85.2,
           29.2
          ],
          [
           71.2,
           64
          ],
          [
           67.2,
           25.1
          ],
          [
           92.2,
           36
          ],
          [
           25.1,
           62
          ],
          [
           29,
           49
          ],
          [
           91.1,
           55
          ],
          [
           31.1,
           51.2
          ],
          [
           97,
           60.2
          ],
          [
           93,
           56
          ],
          [
           96.1,
           56.1
          ],
          [
           41.2,
           61
          ],
          [
           42.2,
           46.2
          ],
          [
           80,
           68
          ],
          [
           31.1,
           31.2
          ],
          [
           73.1,
           41
          ],
          [
           98,
           69
          ],
          [
           41.2,
           25
          ],
          [
           70,
           72
          ],
          [
           67.2,
           35.1
          ],
          [
           55.1,
           33.1
          ],
          [
           56,
           40
          ],
          [
           44.1,
           26.2
          ],
          [
           71.2,
           33.1
          ],
          [
           67.2,
           41.2
          ],
          [
           58.2,
           59.2
          ],
          [
           86,
           52
          ],
          [
           92.2,
           48.2
          ],
          [
           33,
           27.2
          ],
          [
           103,
           65.2
          ],
          [
           80.1,
           33.2
          ],
          [
           29.2,
           25.1
          ],
          [
           39,
           25
          ],
          [
           51.2,
           42.1
          ],
          [
           46.2,
           29
          ],
          [
           51.1,
           44
          ],
          [
           86,
           42.1
          ],
          [
           47.2,
           28
          ],
          [
           37,
           58.2
          ],
          [
           62.2,
           52
          ],
          [
           92.1,
           57.1
          ],
          [
           34,
           26
          ],
          [
           85.2,
           51
          ],
          [
           100.1,
           66.1
          ],
          [
           40.1,
           37.1
          ],
          [
           96.2,
           64
          ],
          [
           30.2,
           25.2
          ],
          [
           109.2,
           76
          ],
          [
           91,
           50
          ],
          [
           57.1,
           42
          ],
          [
           43.1,
           27.1
          ],
          [
           27,
           25.2
          ],
          [
           89.2,
           65.2
          ],
          [
           62,
           51.2
          ],
          [
           98,
           45.1
          ],
          [
           25,
           26.1
          ],
          [
           92,
           65
          ],
          [
           84,
           57
          ],
          [
           106,
           61.1
          ],
          [
           37.2,
           37.2
          ],
          [
           35,
           26.1
          ],
          [
           109.2,
           65.2
          ],
          [
           46.2,
           56
          ],
          [
           94.2,
           59
          ],
          [
           51.2,
           29.1
          ],
          [
           94,
           41
          ],
          [
           53.1,
           73.1
          ],
          [
           108.2,
           56.1
          ],
          [
           59.2,
           39
          ],
          [
           58,
           27
          ],
          [
           49.2,
           25.1
          ],
          [
           32.1,
           45
          ],
          [
           34.1,
           53
          ],
          [
           61,
           29
          ],
          [
           91.2,
           40
          ],
          [
           42,
           44
          ],
          [
           90,
           49
          ],
          [
           54.1,
           45.2
          ],
          [
           53.2,
           25.2
          ],
          [
           45,
           30
          ],
          [
           72,
           54
          ],
          [
           103,
           52.2
          ],
          [
           36.2,
           59
          ],
          [
           71.1,
           41.2
          ],
          [
           50,
           37
          ],
          [
           100.1,
           47.2
          ],
          [
           55.1,
           28.2
          ]
         ],
         "hovertemplate": "<b>%{hovertext}</b><br><br>pitch_score_1H=%{x}<br>Pitching+_1H=%{y}<br>IP_1H=%{customdata[0]}<br>IP_2H=%{customdata[1]}<br>ERA_2H=%{marker.color}<extra></extra>",
         "hovertext": [
          "Craig Kimbrel",
          "Emmanuel Clase",
          "Spencer Strider",
          "Zack Wheeler",
          "Bobby Miller",
          "Gerrit Cole",
          "Pablo López",
          "George Kirby",
          "Rafael Montero",
          "David Bednar",
          "Bryce Miller",
          "Tanner Scott",
          "Kevin Gausman",
          "Zac Gallen",
          "Chris Stratton",
          "Tyler Glasnow",
          "Aaron Nola",
          "Bryan Woo",
          "Clarke Schmidt",
          "Sandy Alcantara",
          "Emilio Pagán",
          "José Urquidy",
          "Taj Bradley",
          "Justin Topa",
          "Julian Merryweather",
          "Joe Ryan",
          "Yu Darvish",
          "Julio Urías",
          "Kyle Bradish",
          "Jakob Junis",
          "Freddy Peralta",
          "Kutter Crawford",
          "Zach Eflin",
          "Mitch Keller",
          "Michael King",
          "Corbin Burnes",
          "Clayton Kershaw",
          "Yusei Kikuchi",
          "Colin Holderman",
          "Nick Pivetta",
          "Matt Strahm",
          "Dylan Cease",
          "Merrill Kelly",
          "Alex Faedo",
          "Ryne Nelson",
          "Ian Gibaut",
          "José Berríos",
          "Matt Brash",
          "Shohei Ohtani",
          "Jesús Luzardo",
          "Aaron Civale",
          "Hunter Brown",
          "Michael Tonkin",
          "Kyle Finnegan",
          "Bailey Ober",
          "Jameson Taillon",
          "Justin Verlander",
          "Grayson Rodriguez",
          "Max Scherzer",
          "Kevin Ginkel",
          "Phil Bickford",
          "Seth Lugo",
          "Ryan Brasier",
          "Luis Castillo",
          "Jaime Barria",
          "Eury Pérez",
          "Ian Hamilton",
          "Justin Steele",
          "Jhony Brito",
          "Lucas Giolito",
          "Sonny Gray",
          "Reese Olson",
          "Brandon Pfaadt",
          "JP Sears",
          "Reid Detmers",
          "Ross Stripling",
          "MacKenzie Gore",
          "J.P. France",
          "Graham Ashcraft",
          "Xzavion Curry",
          "Logan Webb",
          "Miles Mikolas",
          "Chris Sale",
          "Max Fried",
          "Michael Lorenzen",
          "Kenta Maeda",
          "Griffin Canning",
          "Framber Valdez",
          "Alex Cobb",
          "Nick Martinez",
          "Lance Lynn",
          "Logan Gilbert",
          "Josh Winckowski",
          "Dean Kremer",
          "Logan Allen",
          "Michael Wacha",
          "Eduardo Rodriguez",
          "Tanner Houck",
          "Zack Greinke",
          "Cristopher Sánchez",
          "Matt Manning",
          "Cristian Javier",
          "Jesse Scholtens",
          "Charlie Morton",
          "Jon Gray",
          "Taijuan Walker",
          "Andrew Abbott",
          "Luis Severino",
          "Brayan Bello",
          "Andre Pallante",
          "Luke Weaver",
          "Blake Snell",
          "Bryan Hoeing",
          "Tanner Bibee",
          "Tony Gonsolin",
          "Noah Syndergaard",
          "James Paxton",
          "Buck Farmer",
          "Steven Matz",
          "Wade Miley",
          "Jake Irvin",
          "Andrew Heaney",
          "Jack Flaherty",
          "Scott Barlow",
          "Jordan Montgomery",
          "Colin Rea",
          "Aaron Bummer",
          "Trevor Stephan",
          "Adam Wainwright",
          "Tristan Beck",
          "Adrian Houser",
          "Michael Kopech",
          "Tyler Holton",
          "Paul Blackburn",
          "Mike Clevinger",
          "Braxton Garrett",
          "Fernando Cruz",
          "Patrick Sandoval",
          "Johan Oviedo",
          "Bailey Falter",
          "Jordan Lyles",
          "Luis García",
          "Chris Bassitt",
          "Trevor Williams",
          "Sean Manaea",
          "Bryse Wilson",
          "Erasmo Ramírez",
          "Kodai Senga",
          "Ranger Suárez",
          "Rich Hill",
          "Derek Law",
          "Dane Dunning",
          "Tyler Anderson",
          "Bryce Elder",
          "Cole Irvin",
          "Elvis Peguero",
          "Kyle Gibson",
          "Brandon Williamson",
          "Brady Singer",
          "Ben Lively",
          "Drew Smyly",
          "Kyle Hendricks",
          "Patrick Corbin",
          "Luis Medina",
          "Yonny Chirinos",
          "Chase Anderson",
          "Ryan Yarbrough",
          "Peter Lambert",
          "Carlos Carrasco",
          "Martín Pérez",
          "Chris Flexen",
          "Austin Gomber",
          "David Peterson",
          "Zach Davies",
          "Shintaro Fujinami",
          "Ken Waldichuk",
          "Kyle Freeland",
          "Javier Assad",
          "Tylor Megill",
          "Alex Wood",
          "Josiah Gray",
          "Jake Bird"
         ],
         "legendgroup": "",
         "marker": {
          "color": [
           3.1153846153846154,
           2.423077111942543,
           4.196891336877059,
           3.183962292796821,
           3.694736971921212,
           2.7600000350952154,
           3.096330302320098,
           4.359375064959751,
           2.1600002626419386,
           2.7000001669675213,
           3.7968751697335463,
           0.9529412853924172,
           4.153846247607491,
           4.237668233925657,
           2.8834957480094765,
           3.176470588235294,
           5.080645395739404,
           4.609756204785515,
           4.810345143965698,
           3.199052190537515,
           2.333333596035316,
           6.840000260925303,
           5.829545707249455,
           1.8837212422624416,
           2.7613638542585,
           5.586207126181994,
           4.032467557439356,
           4.415094339622642,
           2.8834952123765856,
           2.8285716646058416,
           2.505154700750044,
           4.440789780169334,
           3.7193877731994114,
           5.345177716726484,
           2.7692311903429387,
           3.025862118718741,
           2.423076923076923,
           3.1325968006206617,
           3.1973688485994063,
           4.218750180734795,
           2.333333856161847,
           5.911242937124294,
           3.7968750565778473,
           2.314285840404284,
           6.314516468983429,
           2.7341777773321763,
           3.471428666017496,
           2.51162832040546,
           2.5578947881978644,
           4.9411766553832654,
           3.461538512325852,
           5.503184847089071,
           5.785715086271679,
           4.000000454761415,
           5.6,
           4.320000164794928,
           3.1909091047413094,
           2.5909091657843493,
           3.0461538908467496,
           1.9518074819131432,
           4.6551730500603705,
           4.23529417704546,
           0.3506493743997272,
           3.4054054054054053,
           10.800000849723885,
           4.114285938496504,
           2.3924052654560533,
           2.932126722138406,
           4.200000400543251,
           7.0971431278773816,
           3.07425748379882,
           4.448863829216689,
           4.17679580018248,
           5.275862155714728,
           5.538461741611105,
           4.426229681195966,
           4.4357143461460975,
           4.430769360784952,
           2.8125000419095163,
           5.262712038526918,
           3.600000137329107,
           5.81339734637425,
           4.811881415295432,
           2.956204420719069,
           4.086486591815603,
           4.1428572055704205,
           4.071428756324621,
           4.584905763502521,
           4.675977778194411,
           3.742574440744654,
           5.795811749835259,
           3.563451862902856,
           2.392405457693257,
           3.393442729057022,
           3.75,
           5.157303481312087,
           4.078125182306402,
           4.618421110585127,
           5.250000278155024,
           3.629032313885725,
           3.4897960542093416,
           5.400000187266963,
           5.574193829190112,
           3.412088001484085,
           5.303571609210001,
           4.792899597609803,
           4.573770706322343,
           5.978571632200365,
           4.500000126221604,
           5.40000131795313,
           6.365854102752553,
           1.826086956521739,
           3.6000002746582243,
           2.6250000347693767,
           7.13207553586488,
           5.40000020599366,
           6.9750001662969625,
           4.38750125690865,
           2.160000020599365,
           3.8880001483154354,
           4.072625871908769,
           3.980769522796743,
           6.472602951121753,
           5.204819957374975,
           3.837563544664614,
           5.3465349058838125,
           6.039474932301707,
           4.680000373792678,
           8.291338831723996,
           5.586207269700922,
           5.522727392429165,
           8.291339228642414,
           2.571429118818283,
           3.6818182815697593,
           3.2884615384615383,
           3.610465196353673,
           3.1153852224527503,
           4.58823555151073,
           3.5276382585772463,
           3.6160716441060954,
           6.468750096391888,
           1.7532469351067863,
           3.1973684611743183,
           7.560000288391124,
           3.857143486640994,
           2.634146564528764,
           5.259740585459708,
           2.467005135855824,
           3.832258182410522,
           7.147059174351231,
           5.126582937966714,
           5.123076998242261,
           5.684210716522308,
           4.402174004309571,
           3.584070947700726,
           3.7594944353222473,
           5.619289476116042,
           3.857143054203121,
           5.033898467820328,
           7.363636922245226,
           7.024390907673442,
           4.295454731657493,
           5.591716197211437,
           4.384615706268876,
           8.666667278902073,
           4.263157948232425,
           2.8000000593397365,
           4.754717066687765,
           10.241379983926969,
           4.27500030577185,
           6.750000292604632,
           3.857142932213432,
           3.7445258390599463,
           7.71428590537445,
           3.900000654757133,
           3.166666834442713,
           5.63924057440505,
           2.4406781251387466,
           4.536000276855486,
           4.378378720462915,
           5.475524658107246,
           6.279070983792696
          ],
          "coloraxis": "coloraxis",
          "symbol": "circle"
         },
         "mode": "markers",
         "name": "",
         "orientation": "v",
         "showlegend": false,
         "type": "scatter",
         "x": [
          -0.006055372366190476,
          -0.011791544588001539,
          -0.011065102059905619,
          -0.00627212375014238,
          -0.009446444135831063,
          -0.007502654402945271,
          -0.005669160085531765,
          -0.004443237991351899,
          -0.007589742779797394,
          -0.005891660366893773,
          -0.006720362994715848,
          -0.0062652001652488895,
          -0.004142619672965771,
          -0.004990366701175419,
          -0.005035360460538889,
          -0.008263602825310735,
          0.00003579812673675678,
          -0.0033269406058053096,
          -0.005060047998449304,
          -0.010033386355329651,
          -0.00415276855615894,
          -0.0017754674309112424,
          -0.0030472847963015724,
          -0.007436049449558594,
          -0.007172628877935103,
          -0.0012944648517142856,
          -0.0022215239785283686,
          -0.006725032473693798,
          -0.0021108101909921018,
          -0.0020126636711442544,
          -0.0014969792424164617,
          -0.002650912838541237,
          -0.0013058489174159835,
          -0.003150618662785867,
          -0.004986457594305556,
          0.000720337177979822,
          -0.002206638805561989,
          -0.004661950367154333,
          -0.005151982711443515,
          -0.0019374193432291666,
          -0.004974611201551684,
          -0.003663719884089833,
          -0.0019496451906704075,
          0.002337612540861407,
          -0.00269883798354604,
          -0.005950799026622222,
          0.00018742413985173883,
          -0.0028377260769461075,
          -0.0030663886778495024,
          -0.005296489777265283,
          0.003569442501801427,
          -0.0021246327160286773,
          0.0038072372255458786,
          -0.000185843384507341,
          0.0019088738174705884,
          0.000975435550636516,
          -0.0006600221970266843,
          -0.0007135036294488189,
          -0.0001638605841935484,
          -0.00011402095543510043,
          -0.004397408958191824,
          -0.0004060714195891327,
          -0.0016520416328855692,
          -0.0022447404906654313,
          0.003675228228347826,
          -0.0037262766232273865,
          -0.001101613570080472,
          -0.0018494483153482211,
          -0.0026795041092621042,
          0.0007002603582800218,
          0.0017935918146542056,
          -0.0015918862809982488,
          -0.003470513202289421,
          -0.0002488003992162819,
          -0.0006168884520013496,
          0.003640816595738397,
          -0.0016447540810367197,
          -0.0013137836923690128,
          -0.004018759940127429,
          -0.0009053381155596072,
          -0.001273946146758356,
          0.0025505539612419533,
          -0.0017865073508481677,
          -0.00011083524513580236,
          -0.0012003522679597876,
          0.00021463091247563346,
          -0.0002106447549999999,
          -0.003021316542578085,
          -0.0024288202289047623,
          -0.0002167468573640824,
          0.00055913284773043,
          -0.001472384248504708,
          -0.003449474849055118,
          0.002266333082912515,
          -0.0008558329457882353,
          0.004617869643508315,
          0.0014930987415242292,
          -0.003410179097189036,
          0.004153995887051639,
          0.0012867970975297296,
          0.002191819483116854,
          0.0012496839510358388,
          0.0014345226525667352,
          0.0011649284294796807,
          0.00007670654748517714,
          -0.00008466562906272847,
          0.0011554932786317367,
          -0.0014520851246207793,
          -0.0027506251059026946,
          0.005383186459218456,
          0.0016632225097022901,
          -0.0002519725024556187,
          0.0016687709584414002,
          0.0009947828977125625,
          0.0034189804908917377,
          0.0033235132880988635,
          -0.00035179935102407013,
          0.0015084287328530669,
          0.0012577975929011858,
          0.0012648328785687744,
          0.003534960178339805,
          0.00022094369538688523,
          0.002411485919644658,
          0.0010173761932920355,
          0.0012106503662077206,
          0.0035784920938162165,
          -0.0020155298983612663,
          -0.00020894394588516743,
          0.006185761755373932,
          0.0009637369428612301,
          0.004704171462873052,
          -0.0009601294170097783,
          0.0022072351711886523,
          0.004922182692938971,
          0.00317777369402881,
          0.0011593311398998569,
          0.003784844059915254,
          0.0019488495605882352,
          0.0017011857403309222,
          0.0003807653839000001,
          0.005541374791612946,
          0.002556025745557656,
          0.00367308644043035,
          0.00018057130824955303,
          0.0032006189076958956,
          0.003249192907485911,
          0.004860034400654217,
          0.00279133867804661,
          -0.0005317387972355249,
          0.005436214537752249,
          0.0026660192255071086,
          0.003944801306605972,
          0.003810035351371786,
          0.004893392764242875,
          0.0011016245732872504,
          0.0009199709902584906,
          0.0057456589026398065,
          0.00417506107390488,
          0.004617333441900062,
          0.007236951249031447,
          0.008366180659477111,
          0.004122921543295598,
          0.004742482617903318,
          0.0029001120970417473,
          0.003936891677482103,
          0.004790622378730198,
          0.0029069175856405354,
          0.0064433340885017365,
          0.003541880015910891,
          0.002930227449546196,
          0.005542301152252747,
          0.004635030658847434,
          0.003513392481455108,
          0.007502265673112527,
          0.004925977701253012,
          0.005678376497204142,
          0.00621391077318159,
          0.0054602535897968745,
          0.007613970022494173,
          0.003211054326883823,
          0.004693349625181427,
          0.0038051912566306957
         ],
         "xaxis": "x",
         "y": [
          117.91024999187808,
          116.12589488386736,
          113.98572500293048,
          110.9945388523632,
          110.11967435549526,
          110.0503290345254,
          109.8641571535079,
          109.41265732824482,
          108.89087530966144,
          108.71582368474506,
          108.42606324972736,
          107.74201183431954,
          107.48913150539232,
          107.39139408157784,
          107.22791474964868,
          107.12930653773122,
          107.1215589185036,
          106.74576664532653,
          106.7200674002942,
          106.67489894842215,
          106.6532966023875,
          106.64561636716049,
          106.34755486296936,
          106.2669921875,
          105.9909775273746,
          105.7964675191064,
          105.3853862324999,
          105.3175150183771,
          105.28115208218676,
          105.24135489745606,
          105.02911547911548,
          104.93105389632682,
          104.90621708823384,
          104.81721490842126,
          104.49159316497044,
          104.284693877551,
          104.22548607300271,
          104.22093829537296,
          103.835,
          103.63299931575916,
          103.61298850574713,
          103.61030425807256,
          103.58762749714332,
          103.48396337639537,
          103.4583069952742,
          103.40717450939016,
          103.26456450267202,
          103.14613656603946,
          103.02183574496802,
          103.0194072575438,
          102.95194367382098,
          102.86547420377094,
          102.85838509316768,
          102.73531613622868,
          102.68060413354532,
          102.59841770342906,
          102.57967232740148,
          102.51968503937007,
          102.49936197104098,
          102.4834107498341,
          102.45410714285715,
          102.45163564009174,
          102.44699663299664,
          102.4440422796584,
          102.30017204928838,
          102.25752107515596,
          102.25223434418145,
          102.19252266675294,
          102.1403443637342,
          101.89539520080666,
          101.8909177902243,
          101.87534965034966,
          101.8621988237526,
          101.71782343846628,
          101.67458612739917,
          101.66976693297,
          101.61881513669906,
          101.61046032045466,
          101.51461944830127,
          101.45189159506916,
          101.31211841975272,
          101.25491829830116,
          101.2267395759224,
          101.04957602133932,
          101.02533926439388,
          100.96875683376088,
          100.87361199743395,
          100.85958979664656,
          100.8053936834596,
          100.7275576985861,
          100.713273005042,
          100.652984291872,
          100.54602076124569,
          100.4140014070434,
          100.3423561151079,
          100.29051639492538,
          100.25230354996974,
          100.21462808819238,
          100.2031865004913,
          100.141435212313,
          100.08191389976012,
          99.98003951838707,
          99.958932238193,
          99.9309725147786,
          99.86762175782398,
          99.8051562052446,
          99.73472589920576,
          99.71193730030686,
          99.61257360172168,
          99.31143410852717,
          99.27974375215643,
          99.170404078338,
          99.11398944193064,
          99.10301822762682,
          99.05220389230615,
          99.0364161139769,
          98.97423318523056,
          98.95811253561256,
          98.9297317076112,
          98.90317476556812,
          98.88001462498325,
          98.87721378172296,
          98.81761966721383,
          98.81317921734956,
          98.71245058869066,
          98.6976502692788,
          98.57516076516076,
          98.55254565826334,
          98.46404805189157,
          98.22848399846995,
          98.2268970798314,
          98.16425787914687,
          98.12485875706216,
          98.1130831726766,
          98.0941863550447,
          97.97549432036033,
          97.8990872235574,
          97.56204679590915,
          97.54088873803032,
          97.50245811590224,
          97.45539829478597,
          97.354820415879,
          97.27061495397956,
          97.14977753406866,
          97.14599617111168,
          97.07795733678086,
          96.93469809760133,
          96.79522647656512,
          96.79314585377824,
          96.33842048889709,
          95.98168544013352,
          95.9344905385735,
          95.87821305841926,
          95.72865548619836,
          95.72253511497571,
          95.38996551625048,
          95.2925215184131,
          95.1038556547619,
          94.83138470931203,
          94.8182583591032,
          94.80152470225072,
          94.79460575719648,
          94.45987090294444,
          94.38083816273593,
          94.3276398612838,
          94.12703278217558,
          94.08290904830002,
          94.05747964276334,
          94.03528681612636,
          93.91327252895168,
          93.815521978022,
          93.07581302879464,
          93.03863092878056,
          92.71594942274918,
          92.64386054177524,
          92.3368265682657,
          92.2831278536288,
          92.19866980543424,
          92.1585766091144,
          91.59463295770148,
          91.3207883268118,
          90.90777115613822
         ],
         "yaxis": "y"
        },
        {
         "hovertemplate": "<b>OLS trendline</b><br>Pitching+_1H = -1012.54 * pitch_score_1H + 100.75<br>R<sup>2</sup>=0.705633<br><br>pitch_score_1H=%{x}<br>Pitching+_1H=%{y} <b>(trend)</b><extra></extra>",
         "legendgroup": "",
         "marker": {
          "symbol": "circle"
         },
         "mode": "lines",
         "name": "",
         "showlegend": false,
         "type": "scatter",
         "x": [
          -0.011791544588001539,
          -0.011065102059905619,
          -0.010033386355329651,
          -0.009446444135831063,
          -0.008263602825310735,
          -0.007589742779797394,
          -0.007502654402945271,
          -0.007436049449558594,
          -0.007172628877935103,
          -0.006725032473693798,
          -0.006720362994715848,
          -0.00627212375014238,
          -0.0062652001652488895,
          -0.006055372366190476,
          -0.005950799026622222,
          -0.005891660366893773,
          -0.005669160085531765,
          -0.005296489777265283,
          -0.005151982711443515,
          -0.005060047998449304,
          -0.005035360460538889,
          -0.004990366701175419,
          -0.004986457594305556,
          -0.004974611201551684,
          -0.004661950367154333,
          -0.004443237991351899,
          -0.004397408958191824,
          -0.00415276855615894,
          -0.004142619672965771,
          -0.004018759940127429,
          -0.0037262766232273865,
          -0.003663719884089833,
          -0.003470513202289421,
          -0.003449474849055118,
          -0.003410179097189036,
          -0.0033269406058053096,
          -0.003150618662785867,
          -0.0030663886778495024,
          -0.0030472847963015724,
          -0.003021316542578085,
          -0.0028377260769461075,
          -0.0027506251059026946,
          -0.00269883798354604,
          -0.0026795041092621042,
          -0.002650912838541237,
          -0.0024288202289047623,
          -0.0022447404906654313,
          -0.0022215239785283686,
          -0.002206638805561989,
          -0.0021246327160286773,
          -0.0021108101909921018,
          -0.0020155298983612663,
          -0.0020126636711442544,
          -0.0019496451906704075,
          -0.0019374193432291666,
          -0.0018494483153482211,
          -0.0017865073508481677,
          -0.0017754674309112424,
          -0.0016520416328855692,
          -0.0016447540810367197,
          -0.0015918862809982488,
          -0.0014969792424164617,
          -0.001472384248504708,
          -0.0014520851246207793,
          -0.0013137836923690128,
          -0.0013058489174159835,
          -0.0012944648517142856,
          -0.001273946146758356,
          -0.0012003522679597876,
          -0.001101613570080472,
          -0.0009601294170097783,
          -0.0009053381155596072,
          -0.0008558329457882353,
          -0.0007135036294488189,
          -0.0006600221970266843,
          -0.0006168884520013496,
          -0.0005317387972355249,
          -0.0004060714195891327,
          -0.00035179935102407013,
          -0.0002519725024556187,
          -0.0002488003992162819,
          -0.0002167468573640824,
          -0.0002106447549999999,
          -0.00020894394588516743,
          -0.000185843384507341,
          -0.0001638605841935484,
          -0.00011402095543510043,
          -0.00011083524513580236,
          -0.00008466562906272847,
          0.00003579812673675678,
          0.00007670654748517714,
          0.00018057130824955303,
          0.00018742413985173883,
          0.00021463091247563346,
          0.00022094369538688523,
          0.0003807653839000001,
          0.00055913284773043,
          0.0007002603582800218,
          0.000720337177979822,
          0.0009199709902584906,
          0.0009637369428612301,
          0.000975435550636516,
          0.0009947828977125625,
          0.0010173761932920355,
          0.0011016245732872504,
          0.0011554932786317367,
          0.0011593311398998569,
          0.0011649284294796807,
          0.0012106503662077206,
          0.0012496839510358388,
          0.0012577975929011858,
          0.0012648328785687744,
          0.0012867970975297296,
          0.0014345226525667352,
          0.0014930987415242292,
          0.0015084287328530669,
          0.0016632225097022901,
          0.0016687709584414002,
          0.0017011857403309222,
          0.0017935918146542056,
          0.0019088738174705884,
          0.0019488495605882352,
          0.002191819483116854,
          0.0022072351711886523,
          0.002266333082912515,
          0.002337612540861407,
          0.002411485919644658,
          0.0025505539612419533,
          0.002556025745557656,
          0.0026660192255071086,
          0.00279133867804661,
          0.0029001120970417473,
          0.0029069175856405354,
          0.002930227449546196,
          0.00317777369402881,
          0.0032006189076958956,
          0.003211054326883823,
          0.003249192907485911,
          0.0033235132880988635,
          0.0034189804908917377,
          0.003513392481455108,
          0.003534960178339805,
          0.003541880015910891,
          0.003569442501801427,
          0.0035784920938162165,
          0.003640816595738397,
          0.00367308644043035,
          0.003675228228347826,
          0.003784844059915254,
          0.0038051912566306957,
          0.0038072372255458786,
          0.003810035351371786,
          0.003936891677482103,
          0.003944801306605972,
          0.004122921543295598,
          0.004153995887051639,
          0.00417506107390488,
          0.004617333441900062,
          0.004617869643508315,
          0.004635030658847434,
          0.004693349625181427,
          0.004704171462873052,
          0.004742482617903318,
          0.004790622378730198,
          0.004860034400654217,
          0.004893392764242875,
          0.004922182692938971,
          0.004925977701253012,
          0.005383186459218456,
          0.005436214537752249,
          0.0054602535897968745,
          0.005541374791612946,
          0.005542301152252747,
          0.005678376497204142,
          0.0057456589026398065,
          0.006185761755373932,
          0.00621391077318159,
          0.0064433340885017365,
          0.007236951249031447,
          0.007502265673112527,
          0.007613970022494173,
          0.008366180659477111
         ],
         "xaxis": "x",
         "y": [
          112.68935823570982,
          111.95380523997417,
          110.9091505730214,
          110.31484738842191,
          109.11717181770116,
          108.43486075245686,
          108.34668018206096,
          108.27923992202716,
          108.01251573793523,
          107.55930593359855,
          107.55457789370838,
          107.10071718704452,
          107.0937067720252,
          106.88124747866503,
          106.77536266297959,
          106.71548233295393,
          106.49019162903986,
          106.11284758451423,
          105.96652822536441,
          105.87344053991153,
          105.84844339042616,
          105.80288535491859,
          105.79892722312209,
          105.78693226227968,
          105.47035028298261,
          105.24889498954376,
          105.20249120489625,
          104.9547827164286,
          104.94450655396922,
          104.81909347032301,
          104.52294205898917,
          104.45960078270585,
          104.2639710555106,
          104.24266885588939,
          104.20288028778265,
          104.1185978850738,
          103.94006465169906,
          103.8547783209096,
          103.83543485358868,
          103.80914092656543,
          103.62324801451628,
          103.53505469198271,
          103.4826180964962,
          103.46304175205226,
          103.43409191222702,
          103.20921399273483,
          103.02282567200824,
          102.99931799673803,
          102.98424614570509,
          102.90121160065594,
          102.88721572444267,
          102.7907405017394,
          102.78783832856755,
          102.72402952015328,
          102.71165034580292,
          102.6225760548671,
          102.55884573457067,
          102.54766736068943,
          102.4226936539231,
          102.41531470736274,
          102.36178388118964,
          102.26568659359249,
          102.24078314871942,
          102.22022944927843,
          102.08019354984678,
          102.07215926322195,
          102.06063242757195,
          102.03985639324682,
          101.96533955822619,
          101.86536255769109,
          101.72210402227323,
          101.66662557165503,
          101.61649954719832,
          101.47238524914246,
          101.41823309489367,
          101.37455840055296,
          101.28834086616241,
          101.16109746765665,
          101.10614476173174,
          101.00506596378219,
          101.00185407853286,
          100.96939854651008,
          100.96321991640434,
          100.96149777708676,
          100.9381075067385,
          100.9158490155295,
          100.86538433756563,
          100.86215867460734,
          100.8356608599072,
          100.71368634295796,
          100.67226488115122,
          100.56709753070459,
          100.5601587563084,
          100.53261077786024,
          100.52621882501853,
          100.364392779292,
          100.18378837180208,
          100.04089095163376,
          100.02056234434015,
          99.81842488267944,
          99.7741100521139,
          99.7622647296524,
          99.74267474345125,
          99.71979810062778,
          99.63449314408321,
          99.57994886004137,
          99.57606286735262,
          99.5703953809938,
          99.52410003589708,
          99.48457692271992,
          99.47636152597543,
          99.46923800931926,
          99.44699833249572,
          99.29742012038444,
          99.23810941644741,
          99.22258716849191,
          99.06585209052075,
          99.06023405752586,
          99.02741275507893,
          98.93384779685599,
          98.81712001833749,
          98.7766429310667,
          98.53062587193607,
          98.51501685249683,
          98.45517778150501,
          98.38300439296987,
          98.30820455269681,
          98.16739242971153,
          98.1618520226046,
          98.05047909142411,
          97.92358798142675,
          97.81345041224012,
          97.80655957458582,
          97.78295737680295,
          97.53230660310783,
          97.50917488283933,
          97.4986085908774,
          97.45999170636142,
          97.38473925831524,
          97.28807478137051,
          97.1924787502925,
          97.17064056841149,
          97.16363394771052,
          97.13572579492127,
          97.12656271008082,
          97.06345658354834,
          97.03078203598668,
          97.02861338745909,
          96.91762284082795,
          96.89702046566401,
          96.89494883782487,
          96.8921156201179,
          96.76366836229693,
          96.75565953686035,
          96.57530545703851,
          96.54384140343996,
          96.52251203367378,
          96.07469303543502,
          96.07415010921028,
          96.05677387398951,
          95.99772351730458,
          95.98676596068368,
          95.94797433744753,
          95.89923084581439,
          95.82894831320978,
          95.7951715954083,
          95.76602060619663,
          95.76217800388982,
          95.29923529529106,
          95.2455421805365,
          95.22120164971376,
          95.13906308994375,
          95.13812511162146,
          95.00034321731648,
          94.9322170091659,
          94.4865947345327,
          94.45809269400692,
          94.22579213291827,
          93.42222205363767,
          93.1535802658885,
          93.04047500890452,
          92.27883074104035
         ],
         "yaxis": "y"
        }
       ],
       "layout": {
        "coloraxis": {
         "colorbar": {
          "title": {
           "text": "ERA_2H"
          }
         },
         "colorscale": [
          [
           0,
           "#0d0887"
          ],
          [
           0.1111111111111111,
           "#46039f"
          ],
          [
           0.2222222222222222,
           "#7201a8"
          ],
          [
           0.3333333333333333,
           "#9c179e"
          ],
          [
           0.4444444444444444,
           "#bd3786"
          ],
          [
           0.5555555555555556,
           "#d8576b"
          ],
          [
           0.6666666666666666,
           "#ed7953"
          ],
          [
           0.7777777777777778,
           "#fb9f3a"
          ],
          [
           0.8888888888888888,
           "#fdca26"
          ],
          [
           1,
           "#f0f921"
          ]
         ]
        },
        "legend": {
         "tracegroupgap": 0
        },
        "margin": {
         "t": 60
        },
        "template": {
         "data": {
          "bar": [
           {
            "error_x": {
             "color": "#2a3f5f"
            },
            "error_y": {
             "color": "#2a3f5f"
            },
            "marker": {
             "line": {
              "color": "#E5ECF6",
              "width": 0.5
             },
             "pattern": {
              "fillmode": "overlay",
              "size": 10,
              "solidity": 0.2
             }
            },
            "type": "bar"
           }
          ],
          "barpolar": [
           {
            "marker": {
             "line": {
              "color": "#E5ECF6",
              "width": 0.5
             },
             "pattern": {
              "fillmode": "overlay",
              "size": 10,
              "solidity": 0.2
             }
            },
            "type": "barpolar"
           }
          ],
          "carpet": [
           {
            "aaxis": {
             "endlinecolor": "#2a3f5f",
             "gridcolor": "white",
             "linecolor": "white",
             "minorgridcolor": "white",
             "startlinecolor": "#2a3f5f"
            },
            "baxis": {
             "endlinecolor": "#2a3f5f",
             "gridcolor": "white",
             "linecolor": "white",
             "minorgridcolor": "white",
             "startlinecolor": "#2a3f5f"
            },
            "type": "carpet"
           }
          ],
          "choropleth": [
           {
            "colorbar": {
             "outlinewidth": 0,
             "ticks": ""
            },
            "type": "choropleth"
           }
          ],
          "contour": [
           {
            "colorbar": {
             "outlinewidth": 0,
             "ticks": ""
            },
            "colorscale": [
             [
              0,
              "#0d0887"
             ],
             [
              0.1111111111111111,
              "#46039f"
             ],
             [
              0.2222222222222222,
              "#7201a8"
             ],
             [
              0.3333333333333333,
              "#9c179e"
             ],
             [
              0.4444444444444444,
              "#bd3786"
             ],
             [
              0.5555555555555556,
              "#d8576b"
             ],
             [
              0.6666666666666666,
              "#ed7953"
             ],
             [
              0.7777777777777778,
              "#fb9f3a"
             ],
             [
              0.8888888888888888,
              "#fdca26"
             ],
             [
              1,
              "#f0f921"
             ]
            ],
            "type": "contour"
           }
          ],
          "contourcarpet": [
           {
            "colorbar": {
             "outlinewidth": 0,
             "ticks": ""
            },
            "type": "contourcarpet"
           }
          ],
          "heatmap": [
           {
            "colorbar": {
             "outlinewidth": 0,
             "ticks": ""
            },
            "colorscale": [
             [
              0,
              "#0d0887"
             ],
             [
              0.1111111111111111,
              "#46039f"
             ],
             [
              0.2222222222222222,
              "#7201a8"
             ],
             [
              0.3333333333333333,
              "#9c179e"
             ],
             [
              0.4444444444444444,
              "#bd3786"
             ],
             [
              0.5555555555555556,
              "#d8576b"
             ],
             [
              0.6666666666666666,
              "#ed7953"
             ],
             [
              0.7777777777777778,
              "#fb9f3a"
             ],
             [
              0.8888888888888888,
              "#fdca26"
             ],
             [
              1,
              "#f0f921"
             ]
            ],
            "type": "heatmap"
           }
          ],
          "heatmapgl": [
           {
            "colorbar": {
             "outlinewidth": 0,
             "ticks": ""
            },
            "colorscale": [
             [
              0,
              "#0d0887"
             ],
             [
              0.1111111111111111,
              "#46039f"
             ],
             [
              0.2222222222222222,
              "#7201a8"
             ],
             [
              0.3333333333333333,
              "#9c179e"
             ],
             [
              0.4444444444444444,
              "#bd3786"
             ],
             [
              0.5555555555555556,
              "#d8576b"
             ],
             [
              0.6666666666666666,
              "#ed7953"
             ],
             [
              0.7777777777777778,
              "#fb9f3a"
             ],
             [
              0.8888888888888888,
              "#fdca26"
             ],
             [
              1,
              "#f0f921"
             ]
            ],
            "type": "heatmapgl"
           }
          ],
          "histogram": [
           {
            "marker": {
             "pattern": {
              "fillmode": "overlay",
              "size": 10,
              "solidity": 0.2
             }
            },
            "type": "histogram"
           }
          ],
          "histogram2d": [
           {
            "colorbar": {
             "outlinewidth": 0,
             "ticks": ""
            },
            "colorscale": [
             [
              0,
              "#0d0887"
             ],
             [
              0.1111111111111111,
              "#46039f"
             ],
             [
              0.2222222222222222,
              "#7201a8"
             ],
             [
              0.3333333333333333,
              "#9c179e"
             ],
             [
              0.4444444444444444,
              "#bd3786"
             ],
             [
              0.5555555555555556,
              "#d8576b"
             ],
             [
              0.6666666666666666,
              "#ed7953"
             ],
             [
              0.7777777777777778,
              "#fb9f3a"
             ],
             [
              0.8888888888888888,
              "#fdca26"
             ],
             [
              1,
              "#f0f921"
             ]
            ],
            "type": "histogram2d"
           }
          ],
          "histogram2dcontour": [
           {
            "colorbar": {
             "outlinewidth": 0,
             "ticks": ""
            },
            "colorscale": [
             [
              0,
              "#0d0887"
             ],
             [
              0.1111111111111111,
              "#46039f"
             ],
             [
              0.2222222222222222,
              "#7201a8"
             ],
             [
              0.3333333333333333,
              "#9c179e"
             ],
             [
              0.4444444444444444,
              "#bd3786"
             ],
             [
              0.5555555555555556,
              "#d8576b"
             ],
             [
              0.6666666666666666,
              "#ed7953"
             ],
             [
              0.7777777777777778,
              "#fb9f3a"
             ],
             [
              0.8888888888888888,
              "#fdca26"
             ],
             [
              1,
              "#f0f921"
             ]
            ],
            "type": "histogram2dcontour"
           }
          ],
          "mesh3d": [
           {
            "colorbar": {
             "outlinewidth": 0,
             "ticks": ""
            },
            "type": "mesh3d"
           }
          ],
          "parcoords": [
           {
            "line": {
             "colorbar": {
              "outlinewidth": 0,
              "ticks": ""
             }
            },
            "type": "parcoords"
           }
          ],
          "pie": [
           {
            "automargin": true,
            "type": "pie"
           }
          ],
          "scatter": [
           {
            "fillpattern": {
             "fillmode": "overlay",
             "size": 10,
             "solidity": 0.2
            },
            "type": "scatter"
           }
          ],
          "scatter3d": [
           {
            "line": {
             "colorbar": {
              "outlinewidth": 0,
              "ticks": ""
             }
            },
            "marker": {
             "colorbar": {
              "outlinewidth": 0,
              "ticks": ""
             }
            },
            "type": "scatter3d"
           }
          ],
          "scattercarpet": [
           {
            "marker": {
             "colorbar": {
              "outlinewidth": 0,
              "ticks": ""
             }
            },
            "type": "scattercarpet"
           }
          ],
          "scattergeo": [
           {
            "marker": {
             "colorbar": {
              "outlinewidth": 0,
              "ticks": ""
             }
            },
            "type": "scattergeo"
           }
          ],
          "scattergl": [
           {
            "marker": {
             "colorbar": {
              "outlinewidth": 0,
              "ticks": ""
             }
            },
            "type": "scattergl"
           }
          ],
          "scattermapbox": [
           {
            "marker": {
             "colorbar": {
              "outlinewidth": 0,
              "ticks": ""
             }
            },
            "type": "scattermapbox"
           }
          ],
          "scatterpolar": [
           {
            "marker": {
             "colorbar": {
              "outlinewidth": 0,
              "ticks": ""
             }
            },
            "type": "scatterpolar"
           }
          ],
          "scatterpolargl": [
           {
            "marker": {
             "colorbar": {
              "outlinewidth": 0,
              "ticks": ""
             }
            },
            "type": "scatterpolargl"
           }
          ],
          "scatterternary": [
           {
            "marker": {
             "colorbar": {
              "outlinewidth": 0,
              "ticks": ""
             }
            },
            "type": "scatterternary"
           }
          ],
          "surface": [
           {
            "colorbar": {
             "outlinewidth": 0,
             "ticks": ""
            },
            "colorscale": [
             [
              0,
              "#0d0887"
             ],
             [
              0.1111111111111111,
              "#46039f"
             ],
             [
              0.2222222222222222,
              "#7201a8"
             ],
             [
              0.3333333333333333,
              "#9c179e"
             ],
             [
              0.4444444444444444,
              "#bd3786"
             ],
             [
              0.5555555555555556,
              "#d8576b"
             ],
             [
              0.6666666666666666,
              "#ed7953"
             ],
             [
              0.7777777777777778,
              "#fb9f3a"
             ],
             [
              0.8888888888888888,
              "#fdca26"
             ],
             [
              1,
              "#f0f921"
             ]
            ],
            "type": "surface"
           }
          ],
          "table": [
           {
            "cells": {
             "fill": {
              "color": "#EBF0F8"
             },
             "line": {
              "color": "white"
             }
            },
            "header": {
             "fill": {
              "color": "#C8D4E3"
             },
             "line": {
              "color": "white"
             }
            },
            "type": "table"
           }
          ]
         },
         "layout": {
          "annotationdefaults": {
           "arrowcolor": "#2a3f5f",
           "arrowhead": 0,
           "arrowwidth": 1
          },
          "autotypenumbers": "strict",
          "coloraxis": {
           "colorbar": {
            "outlinewidth": 0,
            "ticks": ""
           }
          },
          "colorscale": {
           "diverging": [
            [
             0,
             "#8e0152"
            ],
            [
             0.1,
             "#c51b7d"
            ],
            [
             0.2,
             "#de77ae"
            ],
            [
             0.3,
             "#f1b6da"
            ],
            [
             0.4,
             "#fde0ef"
            ],
            [
             0.5,
             "#f7f7f7"
            ],
            [
             0.6,
             "#e6f5d0"
            ],
            [
             0.7,
             "#b8e186"
            ],
            [
             0.8,
             "#7fbc41"
            ],
            [
             0.9,
             "#4d9221"
            ],
            [
             1,
             "#276419"
            ]
           ],
           "sequential": [
            [
             0,
             "#0d0887"
            ],
            [
             0.1111111111111111,
             "#46039f"
            ],
            [
             0.2222222222222222,
             "#7201a8"
            ],
            [
             0.3333333333333333,
             "#9c179e"
            ],
            [
             0.4444444444444444,
             "#bd3786"
            ],
            [
             0.5555555555555556,
             "#d8576b"
            ],
            [
             0.6666666666666666,
             "#ed7953"
            ],
            [
             0.7777777777777778,
             "#fb9f3a"
            ],
            [
             0.8888888888888888,
             "#fdca26"
            ],
            [
             1,
             "#f0f921"
            ]
           ],
           "sequentialminus": [
            [
             0,
             "#0d0887"
            ],
            [
             0.1111111111111111,
             "#46039f"
            ],
            [
             0.2222222222222222,
             "#7201a8"
            ],
            [
             0.3333333333333333,
             "#9c179e"
            ],
            [
             0.4444444444444444,
             "#bd3786"
            ],
            [
             0.5555555555555556,
             "#d8576b"
            ],
            [
             0.6666666666666666,
             "#ed7953"
            ],
            [
             0.7777777777777778,
             "#fb9f3a"
            ],
            [
             0.8888888888888888,
             "#fdca26"
            ],
            [
             1,
             "#f0f921"
            ]
           ]
          },
          "colorway": [
           "#636efa",
           "#EF553B",
           "#00cc96",
           "#ab63fa",
           "#FFA15A",
           "#19d3f3",
           "#FF6692",
           "#B6E880",
           "#FF97FF",
           "#FECB52"
          ],
          "font": {
           "color": "#2a3f5f"
          },
          "geo": {
           "bgcolor": "white",
           "lakecolor": "white",
           "landcolor": "#E5ECF6",
           "showlakes": true,
           "showland": true,
           "subunitcolor": "white"
          },
          "hoverlabel": {
           "align": "left"
          },
          "hovermode": "closest",
          "mapbox": {
           "style": "light"
          },
          "paper_bgcolor": "white",
          "plot_bgcolor": "#E5ECF6",
          "polar": {
           "angularaxis": {
            "gridcolor": "white",
            "linecolor": "white",
            "ticks": ""
           },
           "bgcolor": "#E5ECF6",
           "radialaxis": {
            "gridcolor": "white",
            "linecolor": "white",
            "ticks": ""
           }
          },
          "scene": {
           "xaxis": {
            "backgroundcolor": "#E5ECF6",
            "gridcolor": "white",
            "gridwidth": 2,
            "linecolor": "white",
            "showbackground": true,
            "ticks": "",
            "zerolinecolor": "white"
           },
           "yaxis": {
            "backgroundcolor": "#E5ECF6",
            "gridcolor": "white",
            "gridwidth": 2,
            "linecolor": "white",
            "showbackground": true,
            "ticks": "",
            "zerolinecolor": "white"
           },
           "zaxis": {
            "backgroundcolor": "#E5ECF6",
            "gridcolor": "white",
            "gridwidth": 2,
            "linecolor": "white",
            "showbackground": true,
            "ticks": "",
            "zerolinecolor": "white"
           }
          },
          "shapedefaults": {
           "line": {
            "color": "#2a3f5f"
           }
          },
          "ternary": {
           "aaxis": {
            "gridcolor": "white",
            "linecolor": "white",
            "ticks": ""
           },
           "baxis": {
            "gridcolor": "white",
            "linecolor": "white",
            "ticks": ""
           },
           "bgcolor": "#E5ECF6",
           "caxis": {
            "gridcolor": "white",
            "linecolor": "white",
            "ticks": ""
           }
          },
          "title": {
           "x": 0.05
          },
          "xaxis": {
           "automargin": true,
           "gridcolor": "white",
           "linecolor": "white",
           "ticks": "",
           "title": {
            "standoff": 15
           },
           "zerolinecolor": "white",
           "zerolinewidth": 2
          },
          "yaxis": {
           "automargin": true,
           "gridcolor": "white",
           "linecolor": "white",
           "ticks": "",
           "title": {
            "standoff": 15
           },
           "zerolinecolor": "white",
           "zerolinewidth": 2
          }
         }
        },
        "xaxis": {
         "anchor": "y",
         "domain": [
          0,
          1
         ],
         "title": {
          "text": "pitch_score_1H"
         }
        },
        "yaxis": {
         "anchor": "x",
         "domain": [
          0,
          1
         ],
         "title": {
          "text": "Pitching+_1H"
         }
        }
       }
      }
     },
     "metadata": {},
     "output_type": "display_data"
    }
   ],
   "source": [
    "px.scatter(full, x='pitch_score_1H', y='Pitching+_1H', color='ERA_2H', hover_name='Name_1H', hover_data=['IP_1H', 'IP_2H'], trendline='ols')"
   ]
  },
  {
   "cell_type": "code",
   "execution_count": 34,
   "metadata": {},
   "outputs": [
    {
     "data": {
      "application/vnd.plotly.v1+json": {
       "config": {
        "plotlyServerURL": "https://plotly.com"
       },
       "data": [
        {
         "customdata": [
          [
           37,
           26
          ],
          [
           42.2,
           26
          ],
          [
           104.2,
           64.1
          ],
          [
           104.1,
           70.2
          ],
          [
           44,
           63.1
          ],
          [
           117,
           75
          ],
          [
           111,
           72.2
          ],
          [
           107.2,
           64
          ],
          [
           38.1,
           25
          ],
          [
           35.1,
           26.2
          ],
          [
           59,
           64
          ],
          [
           43.1,
           28.1
          ],
          [
           115.2,
           56.1
          ],
          [
           118.1,
           74.1
          ],
          [
           45,
           34.1
          ],
          [
           41.2,
           68
          ],
          [
           119,
           62
          ],
          [
           34.2,
           41
          ],
          [
           88,
           58
          ],
          [
           114.1,
           70.1
          ],
          [
           36.1,
           27
          ],
          [
           27.2,
           25
          ],
          [
           61.1,
           29.1
          ],
          [
           33.2,
           28.2
          ],
          [
           37.2,
           29.1
          ],
          [
           107,
           38.2
          ],
          [
           85,
           51.1
          ],
          [
           64.1,
           53
          ],
          [
           84,
           68.2
          ],
          [
           49.2,
           35
          ],
          [
           92,
           64.2
          ],
          [
           61.1,
           50.2
          ],
          [
           102.1,
           65.1
          ],
          [
           117,
           65.2
          ],
          [
           48.2,
           39
          ],
          [
           107.1,
           77.1
          ],
          [
           95.1,
           26
          ],
          [
           93.1,
           60.1
          ],
          [
           29,
           25.1
          ],
          [
           69,
           53.1
          ],
          [
           55.1,
           27
          ],
          [
           102.2,
           56.1
          ],
          [
           95,
           64
          ],
          [
           29.2,
           35
          ],
          [
           93.2,
           41.1
          ],
          [
           44,
           26.1
          ],
          [
           108,
           70
          ],
          [
           36,
           28.2
          ],
          [
           100.1,
           31.2
          ],
          [
           109.1,
           51
          ],
          [
           52.2,
           65
          ],
          [
           94,
           52.1
          ],
          [
           44,
           28
          ],
          [
           37.1,
           27
          ],
          [
           82.2,
           45
          ],
          [
           71.2,
           66.2
          ],
          [
           70,
           73.1
          ],
          [
           45.1,
           66
          ],
          [
           87.2,
           65
          ],
          [
           34,
           27.2
          ],
          [
           34,
           29
          ],
          [
           63.2,
           68
          ],
          [
           30.1,
           25.2
          ],
          [
           107.1,
           74
          ],
          [
           54.1,
           25
          ],
          [
           53.1,
           35
          ],
          [
           27,
           26.1
          ],
          [
           91.1,
           73.2
          ],
          [
           51.2,
           30
          ],
          [
           112.1,
           58.1
          ],
          [
           99.2,
           67.1
          ],
          [
           33.1,
           58.2
          ],
          [
           25.2,
           60.1
          ],
          [
           99.2,
           58
          ],
          [
           85.2,
           52
          ],
          [
           41,
           40.2
          ],
          [
           89.2,
           46.2
          ],
          [
           66.1,
           65
          ],
          [
           81.2,
           64
          ],
          [
           46.1,
           39.1
          ],
          [
           126,
           75
          ],
          [
           112.2,
           69.2
          ],
          [
           59,
           33.2
          ],
          [
           26,
           45.2
          ],
          [
           87,
           61.2
          ],
          [
           33,
           63
          ],
          [
           74,
           42
          ],
          [
           111,
           70.2
          ],
          [
           89.2,
           59.2
          ],
          [
           64.2,
           33.2
          ],
          [
           103,
           63.2
          ],
          [
           108.1,
           65.2
          ],
          [
           50.2,
           26.1
          ],
          [
           98,
           61
          ],
          [
           62.1,
           60
          ],
          [
           85.2,
           29.2
          ],
          [
           71.2,
           64
          ],
          [
           67.2,
           25.1
          ],
          [
           92.2,
           36
          ],
          [
           25.1,
           62
          ],
          [
           29,
           49
          ],
          [
           91.1,
           55
          ],
          [
           31.1,
           51.2
          ],
          [
           97,
           60.2
          ],
          [
           93,
           56
          ],
          [
           96.1,
           56.1
          ],
          [
           41.2,
           61
          ],
          [
           42.2,
           46.2
          ],
          [
           80,
           68
          ],
          [
           31.1,
           31.2
          ],
          [
           73.1,
           41
          ],
          [
           98,
           69
          ],
          [
           41.2,
           25
          ],
          [
           70,
           72
          ],
          [
           67.2,
           35.1
          ],
          [
           55.1,
           33.1
          ],
          [
           56,
           40
          ],
          [
           44.1,
           26.2
          ],
          [
           71.2,
           33.1
          ],
          [
           67.2,
           41.2
          ],
          [
           58.2,
           59.2
          ],
          [
           86,
           52
          ],
          [
           92.2,
           48.2
          ],
          [
           33,
           27.2
          ],
          [
           103,
           65.2
          ],
          [
           80.1,
           33.2
          ],
          [
           29.2,
           25.1
          ],
          [
           39,
           25
          ],
          [
           51.2,
           42.1
          ],
          [
           46.2,
           29
          ],
          [
           51.1,
           44
          ],
          [
           86,
           42.1
          ],
          [
           47.2,
           28
          ],
          [
           37,
           58.2
          ],
          [
           62.2,
           52
          ],
          [
           92.1,
           57.1
          ],
          [
           34,
           26
          ],
          [
           85.2,
           51
          ],
          [
           100.1,
           66.1
          ],
          [
           40.1,
           37.1
          ],
          [
           96.2,
           64
          ],
          [
           30.2,
           25.2
          ],
          [
           109.2,
           76
          ],
          [
           91,
           50
          ],
          [
           57.1,
           42
          ],
          [
           43.1,
           27.1
          ],
          [
           27,
           25.2
          ],
          [
           89.2,
           65.2
          ],
          [
           62,
           51.2
          ],
          [
           98,
           45.1
          ],
          [
           25,
           26.1
          ],
          [
           92,
           65
          ],
          [
           84,
           57
          ],
          [
           106,
           61.1
          ],
          [
           37.2,
           37.2
          ],
          [
           35,
           26.1
          ],
          [
           109.2,
           65.2
          ],
          [
           46.2,
           56
          ],
          [
           94.2,
           59
          ],
          [
           51.2,
           29.1
          ],
          [
           94,
           41
          ],
          [
           53.1,
           73.1
          ],
          [
           108.2,
           56.1
          ],
          [
           59.2,
           39
          ],
          [
           58,
           27
          ],
          [
           49.2,
           25.1
          ],
          [
           32.1,
           45
          ],
          [
           34.1,
           53
          ],
          [
           61,
           29
          ],
          [
           91.2,
           40
          ],
          [
           42,
           44
          ],
          [
           90,
           49
          ],
          [
           54.1,
           45.2
          ],
          [
           53.2,
           25.2
          ],
          [
           45,
           30
          ],
          [
           72,
           54
          ],
          [
           103,
           52.2
          ],
          [
           36.2,
           59
          ],
          [
           71.1,
           41.2
          ],
          [
           50,
           37
          ],
          [
           100.1,
           47.2
          ],
          [
           55.1,
           28.2
          ]
         ],
         "hovertemplate": "<b>%{hovertext}</b><br><br>pitch_score_1H=%{x}<br>botERA_1H=%{y}<br>IP_1H=%{customdata[0]}<br>IP_2H=%{customdata[1]}<br>ERA_2H=%{marker.color}<extra></extra>",
         "hovertext": [
          "Craig Kimbrel",
          "Emmanuel Clase",
          "Spencer Strider",
          "Zack Wheeler",
          "Bobby Miller",
          "Gerrit Cole",
          "Pablo López",
          "George Kirby",
          "Rafael Montero",
          "David Bednar",
          "Bryce Miller",
          "Tanner Scott",
          "Kevin Gausman",
          "Zac Gallen",
          "Chris Stratton",
          "Tyler Glasnow",
          "Aaron Nola",
          "Bryan Woo",
          "Clarke Schmidt",
          "Sandy Alcantara",
          "Emilio Pagán",
          "José Urquidy",
          "Taj Bradley",
          "Justin Topa",
          "Julian Merryweather",
          "Joe Ryan",
          "Yu Darvish",
          "Julio Urías",
          "Kyle Bradish",
          "Jakob Junis",
          "Freddy Peralta",
          "Kutter Crawford",
          "Zach Eflin",
          "Mitch Keller",
          "Michael King",
          "Corbin Burnes",
          "Clayton Kershaw",
          "Yusei Kikuchi",
          "Colin Holderman",
          "Nick Pivetta",
          "Matt Strahm",
          "Dylan Cease",
          "Merrill Kelly",
          "Alex Faedo",
          "Ryne Nelson",
          "Ian Gibaut",
          "José Berríos",
          "Matt Brash",
          "Shohei Ohtani",
          "Jesús Luzardo",
          "Aaron Civale",
          "Hunter Brown",
          "Michael Tonkin",
          "Kyle Finnegan",
          "Bailey Ober",
          "Jameson Taillon",
          "Justin Verlander",
          "Grayson Rodriguez",
          "Max Scherzer",
          "Kevin Ginkel",
          "Phil Bickford",
          "Seth Lugo",
          "Ryan Brasier",
          "Luis Castillo",
          "Jaime Barria",
          "Eury Pérez",
          "Ian Hamilton",
          "Justin Steele",
          "Jhony Brito",
          "Lucas Giolito",
          "Sonny Gray",
          "Reese Olson",
          "Brandon Pfaadt",
          "JP Sears",
          "Reid Detmers",
          "Ross Stripling",
          "MacKenzie Gore",
          "J.P. France",
          "Graham Ashcraft",
          "Xzavion Curry",
          "Logan Webb",
          "Miles Mikolas",
          "Chris Sale",
          "Max Fried",
          "Michael Lorenzen",
          "Kenta Maeda",
          "Griffin Canning",
          "Framber Valdez",
          "Alex Cobb",
          "Nick Martinez",
          "Lance Lynn",
          "Logan Gilbert",
          "Josh Winckowski",
          "Dean Kremer",
          "Logan Allen",
          "Michael Wacha",
          "Eduardo Rodriguez",
          "Tanner Houck",
          "Zack Greinke",
          "Cristopher Sánchez",
          "Matt Manning",
          "Cristian Javier",
          "Jesse Scholtens",
          "Charlie Morton",
          "Jon Gray",
          "Taijuan Walker",
          "Andrew Abbott",
          "Luis Severino",
          "Brayan Bello",
          "Andre Pallante",
          "Luke Weaver",
          "Blake Snell",
          "Bryan Hoeing",
          "Tanner Bibee",
          "Tony Gonsolin",
          "Noah Syndergaard",
          "James Paxton",
          "Buck Farmer",
          "Steven Matz",
          "Wade Miley",
          "Jake Irvin",
          "Andrew Heaney",
          "Jack Flaherty",
          "Scott Barlow",
          "Jordan Montgomery",
          "Colin Rea",
          "Aaron Bummer",
          "Trevor Stephan",
          "Adam Wainwright",
          "Tristan Beck",
          "Adrian Houser",
          "Michael Kopech",
          "Tyler Holton",
          "Paul Blackburn",
          "Mike Clevinger",
          "Braxton Garrett",
          "Fernando Cruz",
          "Patrick Sandoval",
          "Johan Oviedo",
          "Bailey Falter",
          "Jordan Lyles",
          "Luis García",
          "Chris Bassitt",
          "Trevor Williams",
          "Sean Manaea",
          "Bryse Wilson",
          "Erasmo Ramírez",
          "Kodai Senga",
          "Ranger Suárez",
          "Rich Hill",
          "Derek Law",
          "Dane Dunning",
          "Tyler Anderson",
          "Bryce Elder",
          "Cole Irvin",
          "Elvis Peguero",
          "Kyle Gibson",
          "Brandon Williamson",
          "Brady Singer",
          "Ben Lively",
          "Drew Smyly",
          "Kyle Hendricks",
          "Patrick Corbin",
          "Luis Medina",
          "Yonny Chirinos",
          "Chase Anderson",
          "Ryan Yarbrough",
          "Peter Lambert",
          "Carlos Carrasco",
          "Martín Pérez",
          "Chris Flexen",
          "Austin Gomber",
          "David Peterson",
          "Zach Davies",
          "Shintaro Fujinami",
          "Ken Waldichuk",
          "Kyle Freeland",
          "Javier Assad",
          "Tylor Megill",
          "Alex Wood",
          "Josiah Gray",
          "Jake Bird"
         ],
         "legendgroup": "",
         "marker": {
          "color": [
           3.1153846153846154,
           2.423077111942543,
           4.196891336877059,
           3.183962292796821,
           3.694736971921212,
           2.7600000350952154,
           3.096330302320098,
           4.359375064959751,
           2.1600002626419386,
           2.7000001669675213,
           3.7968751697335463,
           0.9529412853924172,
           4.153846247607491,
           4.237668233925657,
           2.8834957480094765,
           3.176470588235294,
           5.080645395739404,
           4.609756204785515,
           4.810345143965698,
           3.199052190537515,
           2.333333596035316,
           6.840000260925303,
           5.829545707249455,
           1.8837212422624416,
           2.7613638542585,
           5.586207126181994,
           4.032467557439356,
           4.415094339622642,
           2.8834952123765856,
           2.8285716646058416,
           2.505154700750044,
           4.440789780169334,
           3.7193877731994114,
           5.345177716726484,
           2.7692311903429387,
           3.025862118718741,
           2.423076923076923,
           3.1325968006206617,
           3.1973688485994063,
           4.218750180734795,
           2.333333856161847,
           5.911242937124294,
           3.7968750565778473,
           2.314285840404284,
           6.314516468983429,
           2.7341777773321763,
           3.471428666017496,
           2.51162832040546,
           2.5578947881978644,
           4.9411766553832654,
           3.461538512325852,
           5.503184847089071,
           5.785715086271679,
           4.000000454761415,
           5.6,
           4.320000164794928,
           3.1909091047413094,
           2.5909091657843493,
           3.0461538908467496,
           1.9518074819131432,
           4.6551730500603705,
           4.23529417704546,
           0.3506493743997272,
           3.4054054054054053,
           10.800000849723885,
           4.114285938496504,
           2.3924052654560533,
           2.932126722138406,
           4.200000400543251,
           7.0971431278773816,
           3.07425748379882,
           4.448863829216689,
           4.17679580018248,
           5.275862155714728,
           5.538461741611105,
           4.426229681195966,
           4.4357143461460975,
           4.430769360784952,
           2.8125000419095163,
           5.262712038526918,
           3.600000137329107,
           5.81339734637425,
           4.811881415295432,
           2.956204420719069,
           4.086486591815603,
           4.1428572055704205,
           4.071428756324621,
           4.584905763502521,
           4.675977778194411,
           3.742574440744654,
           5.795811749835259,
           3.563451862902856,
           2.392405457693257,
           3.393442729057022,
           3.75,
           5.157303481312087,
           4.078125182306402,
           4.618421110585127,
           5.250000278155024,
           3.629032313885725,
           3.4897960542093416,
           5.400000187266963,
           5.574193829190112,
           3.412088001484085,
           5.303571609210001,
           4.792899597609803,
           4.573770706322343,
           5.978571632200365,
           4.500000126221604,
           5.40000131795313,
           6.365854102752553,
           1.826086956521739,
           3.6000002746582243,
           2.6250000347693767,
           7.13207553586488,
           5.40000020599366,
           6.9750001662969625,
           4.38750125690865,
           2.160000020599365,
           3.8880001483154354,
           4.072625871908769,
           3.980769522796743,
           6.472602951121753,
           5.204819957374975,
           3.837563544664614,
           5.3465349058838125,
           6.039474932301707,
           4.680000373792678,
           8.291338831723996,
           5.586207269700922,
           5.522727392429165,
           8.291339228642414,
           2.571429118818283,
           3.6818182815697593,
           3.2884615384615383,
           3.610465196353673,
           3.1153852224527503,
           4.58823555151073,
           3.5276382585772463,
           3.6160716441060954,
           6.468750096391888,
           1.7532469351067863,
           3.1973684611743183,
           7.560000288391124,
           3.857143486640994,
           2.634146564528764,
           5.259740585459708,
           2.467005135855824,
           3.832258182410522,
           7.147059174351231,
           5.126582937966714,
           5.123076998242261,
           5.684210716522308,
           4.402174004309571,
           3.584070947700726,
           3.7594944353222473,
           5.619289476116042,
           3.857143054203121,
           5.033898467820328,
           7.363636922245226,
           7.024390907673442,
           4.295454731657493,
           5.591716197211437,
           4.384615706268876,
           8.666667278902073,
           4.263157948232425,
           2.8000000593397365,
           4.754717066687765,
           10.241379983926969,
           4.27500030577185,
           6.750000292604632,
           3.857142932213432,
           3.7445258390599463,
           7.71428590537445,
           3.900000654757133,
           3.166666834442713,
           5.63924057440505,
           2.4406781251387466,
           4.536000276855486,
           4.378378720462915,
           5.475524658107246,
           6.279070983792696
          ],
          "coloraxis": "coloraxis",
          "symbol": "circle"
         },
         "mode": "markers",
         "name": "",
         "orientation": "v",
         "showlegend": false,
         "type": "scatter",
         "x": [
          -0.006055372366190476,
          -0.011791544588001539,
          -0.011065102059905619,
          -0.00627212375014238,
          -0.009446444135831063,
          -0.007502654402945271,
          -0.005669160085531765,
          -0.004443237991351899,
          -0.007589742779797394,
          -0.005891660366893773,
          -0.006720362994715848,
          -0.0062652001652488895,
          -0.004142619672965771,
          -0.004990366701175419,
          -0.005035360460538889,
          -0.008263602825310735,
          0.00003579812673675678,
          -0.0033269406058053096,
          -0.005060047998449304,
          -0.010033386355329651,
          -0.00415276855615894,
          -0.0017754674309112424,
          -0.0030472847963015724,
          -0.007436049449558594,
          -0.007172628877935103,
          -0.0012944648517142856,
          -0.0022215239785283686,
          -0.006725032473693798,
          -0.0021108101909921018,
          -0.0020126636711442544,
          -0.0014969792424164617,
          -0.002650912838541237,
          -0.0013058489174159835,
          -0.003150618662785867,
          -0.004986457594305556,
          0.000720337177979822,
          -0.002206638805561989,
          -0.004661950367154333,
          -0.005151982711443515,
          -0.0019374193432291666,
          -0.004974611201551684,
          -0.003663719884089833,
          -0.0019496451906704075,
          0.002337612540861407,
          -0.00269883798354604,
          -0.005950799026622222,
          0.00018742413985173883,
          -0.0028377260769461075,
          -0.0030663886778495024,
          -0.005296489777265283,
          0.003569442501801427,
          -0.0021246327160286773,
          0.0038072372255458786,
          -0.000185843384507341,
          0.0019088738174705884,
          0.000975435550636516,
          -0.0006600221970266843,
          -0.0007135036294488189,
          -0.0001638605841935484,
          -0.00011402095543510043,
          -0.004397408958191824,
          -0.0004060714195891327,
          -0.0016520416328855692,
          -0.0022447404906654313,
          0.003675228228347826,
          -0.0037262766232273865,
          -0.001101613570080472,
          -0.0018494483153482211,
          -0.0026795041092621042,
          0.0007002603582800218,
          0.0017935918146542056,
          -0.0015918862809982488,
          -0.003470513202289421,
          -0.0002488003992162819,
          -0.0006168884520013496,
          0.003640816595738397,
          -0.0016447540810367197,
          -0.0013137836923690128,
          -0.004018759940127429,
          -0.0009053381155596072,
          -0.001273946146758356,
          0.0025505539612419533,
          -0.0017865073508481677,
          -0.00011083524513580236,
          -0.0012003522679597876,
          0.00021463091247563346,
          -0.0002106447549999999,
          -0.003021316542578085,
          -0.0024288202289047623,
          -0.0002167468573640824,
          0.00055913284773043,
          -0.001472384248504708,
          -0.003449474849055118,
          0.002266333082912515,
          -0.0008558329457882353,
          0.004617869643508315,
          0.0014930987415242292,
          -0.003410179097189036,
          0.004153995887051639,
          0.0012867970975297296,
          0.002191819483116854,
          0.0012496839510358388,
          0.0014345226525667352,
          0.0011649284294796807,
          0.00007670654748517714,
          -0.00008466562906272847,
          0.0011554932786317367,
          -0.0014520851246207793,
          -0.0027506251059026946,
          0.005383186459218456,
          0.0016632225097022901,
          -0.0002519725024556187,
          0.0016687709584414002,
          0.0009947828977125625,
          0.0034189804908917377,
          0.0033235132880988635,
          -0.00035179935102407013,
          0.0015084287328530669,
          0.0012577975929011858,
          0.0012648328785687744,
          0.003534960178339805,
          0.00022094369538688523,
          0.002411485919644658,
          0.0010173761932920355,
          0.0012106503662077206,
          0.0035784920938162165,
          -0.0020155298983612663,
          -0.00020894394588516743,
          0.006185761755373932,
          0.0009637369428612301,
          0.004704171462873052,
          -0.0009601294170097783,
          0.0022072351711886523,
          0.004922182692938971,
          0.00317777369402881,
          0.0011593311398998569,
          0.003784844059915254,
          0.0019488495605882352,
          0.0017011857403309222,
          0.0003807653839000001,
          0.005541374791612946,
          0.002556025745557656,
          0.00367308644043035,
          0.00018057130824955303,
          0.0032006189076958956,
          0.003249192907485911,
          0.004860034400654217,
          0.00279133867804661,
          -0.0005317387972355249,
          0.005436214537752249,
          0.0026660192255071086,
          0.003944801306605972,
          0.003810035351371786,
          0.004893392764242875,
          0.0011016245732872504,
          0.0009199709902584906,
          0.0057456589026398065,
          0.00417506107390488,
          0.004617333441900062,
          0.007236951249031447,
          0.008366180659477111,
          0.004122921543295598,
          0.004742482617903318,
          0.0029001120970417473,
          0.003936891677482103,
          0.004790622378730198,
          0.0029069175856405354,
          0.0064433340885017365,
          0.003541880015910891,
          0.002930227449546196,
          0.005542301152252747,
          0.004635030658847434,
          0.003513392481455108,
          0.007502265673112527,
          0.004925977701253012,
          0.005678376497204142,
          0.00621391077318159,
          0.0054602535897968745,
          0.007613970022494173,
          0.003211054326883823,
          0.004693349625181427,
          0.0038051912566306957
         ],
         "xaxis": "x",
         "y": [
          2.7602226086956514,
          2.578961337386018,
          2.98866513363029,
          2.8365204640883976,
          2.8417543826322924,
          3.307113087533157,
          2.921126715285881,
          3.174512871600253,
          3.3098632947976885,
          3.816465776965265,
          3.4565078189749183,
          3.1697737278106506,
          3.519295403987408,
          3.877685645879733,
          3.1356306215469614,
          3.791069388888889,
          3.4184427395048447,
          3.359251179577465,
          3.432494279100529,
          3.3265800764705884,
          3.352203272727272,
          4.186906941176471,
          3.844420073800738,
          2.9613069921875,
          3.8399175,
          3.614272875,
          3.956201144876325,
          3.371090444015444,
          3.936372673913045,
          3.609937944377267,
          3.881085982800983,
          3.837635334706488,
          3.627815105084746,
          3.6242843763326222,
          3.7730760949868074,
          4.213183323494687,
          4.274529269776877,
          3.8083222864321606,
          3.37190024742268,
          4.269989967948717,
          2.9445820344827585,
          4.451280392473118,
          4.211987418496341,
          4.186338251599147,
          3.646205440514469,
          3.6303943426883314,
          3.885507606577345,
          3.816677008928573,
          3.824552347504621,
          3.704061606043648,
          4.236500510083037,
          4.63651876611418,
          3.804051754658386,
          4.12451023255814,
          3.9565970429252784,
          4.14154480334728,
          4.477384291882556,
          3.921466152980877,
          4.035018560657985,
          3.822434543795621,
          3.852679843749999,
          4.168761614730878,
          3.72600991919192,
          3.883307763082231,
          4.62923100358423,
          4.374572491506228,
          4.650709914529914,
          3.2051798256735338,
          4.064991310734465,
          4.256636796959826,
          4.359125259938838,
          4.145278339160839,
          3.677022549800797,
          3.625864333333333,
          4.405328809683927,
          4.659788312586445,
          4.219758993288591,
          3.956947222222222,
          4.376604712643679,
          4.662930656424582,
          3.9610702801724136,
          4.0485339900662245,
          3.6463029780564256,
          4.496752124105012,
          4.096222028766086,
          4.081788720930232,
          4.592397260273972,
          4.274233290986086,
          4.270113047034766,
          4.119672037218415,
          3.9622454301369863,
          4.239620112359551,
          3.960954339869281,
          4.3511320702179175,
          3.95107243705036,
          3.924228570397113,
          4.208137107800177,
          3.6109251549295776,
          4.624426050069541,
          3.8105529649595686,
          4.942666988764046,
          4.9118077330779055,
          4.765081540041067,
          4.642179682063588,
          4.434529870223504,
          4.44219074025974,
          4.353517640949555,
          4.178605006485084,
          4.292834518297236,
          4.915422364341085,
          4.104013845571537,
          4.8117300113443,
          4.560975460030166,
          4.574179243557772,
          5.286894530805687,
          4.315865209039548,
          3.92320906010929,
          4.473300113960114,
          4.32494410441767,
          4.419989059165858,
          4.37584409533074,
          4.39701789921466,
          4.6957846550689855,
          4.641267218309858,
          4.1763782733374,
          4.56717820138355,
          3.936633663003664,
          4.216638761904762,
          5.008505262569833,
          4.332856914446003,
          4.638353913525498,
          4.634600233463035,
          4.280268968926554,
          5.028109354838709,
          4.620396740535549,
          4.044639666193182,
          5.270630201005025,
          4.315227684140676,
          4.886618436560432,
          4.16271490936556,
          4.841940782268579,
          4.67012482041588,
          4.701777894137734,
          4.216156239427456,
          3.899092523105361,
          5.006738717948718,
          4.300153172043012,
          4.435427496749025,
          4.069083307163886,
          5.08623361977634,
          5.370217706855792,
          4.627235058224163,
          4.78080775257732,
          5.239078354055655,
          4.7586042966360855,
          4.8527850374531845,
          4.846749375000001,
          5.119043587499999,
          4.584538259532595,
          4.8471810678391964,
          5.000598835263835,
          4.133099211514393,
          4.425733050654523,
          5.436342591522158,
          4.8936709566184655,
          4.70244878534212,
          4.378412927756654,
          5.504665460992908,
          5.253153816942551,
          5.037593882113821,
          5.206465192307693,
          4.791857422252936,
          5.195108724279835,
          5.20859586061246,
          5.175196362559244,
          4.982319357933578,
          4.8727424206596135,
          5.005290761245674,
          5.375153511627906,
          4.991726610925307,
          5.804621222732489,
          4.91211199046484
         ],
         "yaxis": "y"
        },
        {
         "hovertemplate": "<b>OLS trendline</b><br>botERA_1H = 127.04 * pitch_score_1H + 4.23297<br>R<sup>2</sup>=0.662810<br><br>pitch_score_1H=%{x}<br>botERA_1H=%{y} <b>(trend)</b><extra></extra>",
         "legendgroup": "",
         "marker": {
          "symbol": "circle"
         },
         "mode": "lines",
         "name": "",
         "showlegend": false,
         "type": "scatter",
         "x": [
          -0.011791544588001539,
          -0.011065102059905619,
          -0.010033386355329651,
          -0.009446444135831063,
          -0.008263602825310735,
          -0.007589742779797394,
          -0.007502654402945271,
          -0.007436049449558594,
          -0.007172628877935103,
          -0.006725032473693798,
          -0.006720362994715848,
          -0.00627212375014238,
          -0.0062652001652488895,
          -0.006055372366190476,
          -0.005950799026622222,
          -0.005891660366893773,
          -0.005669160085531765,
          -0.005296489777265283,
          -0.005151982711443515,
          -0.005060047998449304,
          -0.005035360460538889,
          -0.004990366701175419,
          -0.004986457594305556,
          -0.004974611201551684,
          -0.004661950367154333,
          -0.004443237991351899,
          -0.004397408958191824,
          -0.00415276855615894,
          -0.004142619672965771,
          -0.004018759940127429,
          -0.0037262766232273865,
          -0.003663719884089833,
          -0.003470513202289421,
          -0.003449474849055118,
          -0.003410179097189036,
          -0.0033269406058053096,
          -0.003150618662785867,
          -0.0030663886778495024,
          -0.0030472847963015724,
          -0.003021316542578085,
          -0.0028377260769461075,
          -0.0027506251059026946,
          -0.00269883798354604,
          -0.0026795041092621042,
          -0.002650912838541237,
          -0.0024288202289047623,
          -0.0022447404906654313,
          -0.0022215239785283686,
          -0.002206638805561989,
          -0.0021246327160286773,
          -0.0021108101909921018,
          -0.0020155298983612663,
          -0.0020126636711442544,
          -0.0019496451906704075,
          -0.0019374193432291666,
          -0.0018494483153482211,
          -0.0017865073508481677,
          -0.0017754674309112424,
          -0.0016520416328855692,
          -0.0016447540810367197,
          -0.0015918862809982488,
          -0.0014969792424164617,
          -0.001472384248504708,
          -0.0014520851246207793,
          -0.0013137836923690128,
          -0.0013058489174159835,
          -0.0012944648517142856,
          -0.001273946146758356,
          -0.0012003522679597876,
          -0.001101613570080472,
          -0.0009601294170097783,
          -0.0009053381155596072,
          -0.0008558329457882353,
          -0.0007135036294488189,
          -0.0006600221970266843,
          -0.0006168884520013496,
          -0.0005317387972355249,
          -0.0004060714195891327,
          -0.00035179935102407013,
          -0.0002519725024556187,
          -0.0002488003992162819,
          -0.0002167468573640824,
          -0.0002106447549999999,
          -0.00020894394588516743,
          -0.000185843384507341,
          -0.0001638605841935484,
          -0.00011402095543510043,
          -0.00011083524513580236,
          -0.00008466562906272847,
          0.00003579812673675678,
          0.00007670654748517714,
          0.00018057130824955303,
          0.00018742413985173883,
          0.00021463091247563346,
          0.00022094369538688523,
          0.0003807653839000001,
          0.00055913284773043,
          0.0007002603582800218,
          0.000720337177979822,
          0.0009199709902584906,
          0.0009637369428612301,
          0.000975435550636516,
          0.0009947828977125625,
          0.0010173761932920355,
          0.0011016245732872504,
          0.0011554932786317367,
          0.0011593311398998569,
          0.0011649284294796807,
          0.0012106503662077206,
          0.0012496839510358388,
          0.0012577975929011858,
          0.0012648328785687744,
          0.0012867970975297296,
          0.0014345226525667352,
          0.0014930987415242292,
          0.0015084287328530669,
          0.0016632225097022901,
          0.0016687709584414002,
          0.0017011857403309222,
          0.0017935918146542056,
          0.0019088738174705884,
          0.0019488495605882352,
          0.002191819483116854,
          0.0022072351711886523,
          0.002266333082912515,
          0.002337612540861407,
          0.002411485919644658,
          0.0025505539612419533,
          0.002556025745557656,
          0.0026660192255071086,
          0.00279133867804661,
          0.0029001120970417473,
          0.0029069175856405354,
          0.002930227449546196,
          0.00317777369402881,
          0.0032006189076958956,
          0.003211054326883823,
          0.003249192907485911,
          0.0033235132880988635,
          0.0034189804908917377,
          0.003513392481455108,
          0.003534960178339805,
          0.003541880015910891,
          0.003569442501801427,
          0.0035784920938162165,
          0.003640816595738397,
          0.00367308644043035,
          0.003675228228347826,
          0.003784844059915254,
          0.0038051912566306957,
          0.0038072372255458786,
          0.003810035351371786,
          0.003936891677482103,
          0.003944801306605972,
          0.004122921543295598,
          0.004153995887051639,
          0.00417506107390488,
          0.004617333441900062,
          0.004617869643508315,
          0.004635030658847434,
          0.004693349625181427,
          0.004704171462873052,
          0.004742482617903318,
          0.004790622378730198,
          0.004860034400654217,
          0.004893392764242875,
          0.004922182692938971,
          0.004925977701253012,
          0.005383186459218456,
          0.005436214537752249,
          0.0054602535897968745,
          0.005541374791612946,
          0.005542301152252747,
          0.005678376497204142,
          0.0057456589026398065,
          0.006185761755373932,
          0.00621391077318159,
          0.0064433340885017365,
          0.007236951249031447,
          0.007502265673112527,
          0.007613970022494173,
          0.008366180659477111
         ],
         "xaxis": "x",
         "y": [
          2.7349763971544787,
          2.827263457369442,
          2.9583323384858753,
          3.032897317625448,
          3.1831651544147634,
          3.2687721504145024,
          3.279835834006433,
          3.2882973090799292,
          3.321762186499753,
          3.3786247113556276,
          3.3792179206887045,
          3.436162111804673,
          3.4370416821371585,
          3.4636981483785183,
          3.476983116854842,
          3.484496076022716,
          3.512762450952228,
          3.5601063850545778,
          3.5784645231992935,
          3.590143884010094,
          3.5932801820785305,
          3.5989961769701813,
          3.599492788838475,
          3.600997751336021,
          3.6407180982800793,
          3.6685032587226294,
          3.6743253665691005,
          3.7054044163772093,
          3.706693727724134,
          3.722428834330051,
          3.759585834966256,
          3.7675330260080186,
          3.792077950055876,
          3.79475065670047,
          3.7997427782770563,
          3.8103173734713485,
          3.83271726491948,
          3.8434178191837,
          3.8458447710739954,
          3.8491437709292744,
          3.8724670535034384,
          3.8835323370579884,
          3.8901113589275025,
          3.8925675290321173,
          3.8961997562498096,
          3.9244143406747365,
          3.947799780307209,
          3.9507491996634663,
          3.9526402079686367,
          3.9630582391686975,
          3.964814248971313,
          3.9769186313047222,
          3.977282756026962,
          3.985288606561882,
          3.986841774879197,
          3.998017590216579,
          4.006013593143376,
          4.007416101554685,
          4.023096081200605,
          4.024021889795619,
          4.030738200662456,
          4.0427951649034926,
          4.045919706207634,
          4.0484985013576065,
          4.066068277509739,
          4.067076309151005,
          4.068522537746208,
          4.0711292284155505,
          4.080478574663131,
          4.093022311854041,
          4.110996419989094,
          4.117957091949534,
          4.124246215186327,
          4.142327692632036,
          4.149121959189173,
          4.154601658367694,
          4.165419047235681,
          4.1813837965439395,
          4.188278505300574,
          4.2009604808576135,
          4.201363463986127,
          4.20543553718202,
          4.206210746598501,
          4.206426816923577,
          4.209361505927073,
          4.2121541948705055,
          4.2184858076856,
          4.218890519451292,
          4.222215100324425,
          4.2375187829355285,
          4.242715777526145,
          4.2559107283448965,
          4.256781310198593,
          4.260237651156462,
          4.261039625372072,
          4.281343328997638,
          4.304003082850507,
          4.321931883217159,
          4.324482436904341,
          4.349843861851466,
          4.355403876507822,
          4.356890064442082,
          4.359347946126523,
          4.362218192221645,
          4.372921083389114,
          4.379764548992455,
          4.380252109838977,
          4.380963187977322,
          4.386771690322339,
          4.391730506270079,
          4.392761261114998,
          4.393655021883295,
          4.396445350256741,
          4.415212364391669,
          4.422653854722565,
          4.424601372630923,
          4.444266331732958,
          4.44497120514425,
          4.44908917017575,
          4.460828412600961,
          4.475473806729389,
          4.480552314208716,
          4.511419146757186,
          4.513377551556346,
          4.520885334108854,
          4.529940656964279,
          4.539325510813519,
          4.556992676807375,
          4.55768781079127,
          4.571661352420166,
          4.587581901417941,
          4.601400446836673,
          4.602265014248158,
          4.605226292987583,
          4.636674500226269,
          4.639576749926384,
          4.640902462727766,
          4.645747577583257,
          4.655189218422766,
          4.667317345772073,
          4.67931141924816,
          4.682051373565417,
          4.682930467839089,
          4.686431998513127,
          4.687581656209214,
          4.695499343898611,
          4.699598896148147,
          4.6998709882997804,
          4.713796553581444,
          4.716381455890792,
          4.716641375222563,
          4.716996848362691,
          4.733112641358838,
          4.734117478480842,
          4.756745824665316,
          4.760693500802712,
          4.7633696163829224,
          4.819555777129277,
          4.819623896035033,
          4.821804026733193,
          4.829212852276277,
          4.830587655578751,
          4.835454694242429,
          4.841570356300113,
          4.850388440593353,
          4.854626277986007,
          4.858283742658574,
          4.858765859477522,
          4.916849535123222,
          4.923586207726297,
          4.926640122327591,
          4.9369457376339145,
          4.937063422236398,
          4.954350396866334,
          4.96289793526297,
          5.018808481383541,
          5.022384524912018,
          5.0515304001833385,
          5.1523513073422365,
          5.186056779260637,
          5.200247669274576,
          5.2958083029994985
         ],
         "yaxis": "y"
        }
       ],
       "layout": {
        "coloraxis": {
         "colorbar": {
          "title": {
           "text": "ERA_2H"
          }
         },
         "colorscale": [
          [
           0,
           "#0d0887"
          ],
          [
           0.1111111111111111,
           "#46039f"
          ],
          [
           0.2222222222222222,
           "#7201a8"
          ],
          [
           0.3333333333333333,
           "#9c179e"
          ],
          [
           0.4444444444444444,
           "#bd3786"
          ],
          [
           0.5555555555555556,
           "#d8576b"
          ],
          [
           0.6666666666666666,
           "#ed7953"
          ],
          [
           0.7777777777777778,
           "#fb9f3a"
          ],
          [
           0.8888888888888888,
           "#fdca26"
          ],
          [
           1,
           "#f0f921"
          ]
         ]
        },
        "legend": {
         "tracegroupgap": 0
        },
        "margin": {
         "t": 60
        },
        "template": {
         "data": {
          "bar": [
           {
            "error_x": {
             "color": "#2a3f5f"
            },
            "error_y": {
             "color": "#2a3f5f"
            },
            "marker": {
             "line": {
              "color": "#E5ECF6",
              "width": 0.5
             },
             "pattern": {
              "fillmode": "overlay",
              "size": 10,
              "solidity": 0.2
             }
            },
            "type": "bar"
           }
          ],
          "barpolar": [
           {
            "marker": {
             "line": {
              "color": "#E5ECF6",
              "width": 0.5
             },
             "pattern": {
              "fillmode": "overlay",
              "size": 10,
              "solidity": 0.2
             }
            },
            "type": "barpolar"
           }
          ],
          "carpet": [
           {
            "aaxis": {
             "endlinecolor": "#2a3f5f",
             "gridcolor": "white",
             "linecolor": "white",
             "minorgridcolor": "white",
             "startlinecolor": "#2a3f5f"
            },
            "baxis": {
             "endlinecolor": "#2a3f5f",
             "gridcolor": "white",
             "linecolor": "white",
             "minorgridcolor": "white",
             "startlinecolor": "#2a3f5f"
            },
            "type": "carpet"
           }
          ],
          "choropleth": [
           {
            "colorbar": {
             "outlinewidth": 0,
             "ticks": ""
            },
            "type": "choropleth"
           }
          ],
          "contour": [
           {
            "colorbar": {
             "outlinewidth": 0,
             "ticks": ""
            },
            "colorscale": [
             [
              0,
              "#0d0887"
             ],
             [
              0.1111111111111111,
              "#46039f"
             ],
             [
              0.2222222222222222,
              "#7201a8"
             ],
             [
              0.3333333333333333,
              "#9c179e"
             ],
             [
              0.4444444444444444,
              "#bd3786"
             ],
             [
              0.5555555555555556,
              "#d8576b"
             ],
             [
              0.6666666666666666,
              "#ed7953"
             ],
             [
              0.7777777777777778,
              "#fb9f3a"
             ],
             [
              0.8888888888888888,
              "#fdca26"
             ],
             [
              1,
              "#f0f921"
             ]
            ],
            "type": "contour"
           }
          ],
          "contourcarpet": [
           {
            "colorbar": {
             "outlinewidth": 0,
             "ticks": ""
            },
            "type": "contourcarpet"
           }
          ],
          "heatmap": [
           {
            "colorbar": {
             "outlinewidth": 0,
             "ticks": ""
            },
            "colorscale": [
             [
              0,
              "#0d0887"
             ],
             [
              0.1111111111111111,
              "#46039f"
             ],
             [
              0.2222222222222222,
              "#7201a8"
             ],
             [
              0.3333333333333333,
              "#9c179e"
             ],
             [
              0.4444444444444444,
              "#bd3786"
             ],
             [
              0.5555555555555556,
              "#d8576b"
             ],
             [
              0.6666666666666666,
              "#ed7953"
             ],
             [
              0.7777777777777778,
              "#fb9f3a"
             ],
             [
              0.8888888888888888,
              "#fdca26"
             ],
             [
              1,
              "#f0f921"
             ]
            ],
            "type": "heatmap"
           }
          ],
          "heatmapgl": [
           {
            "colorbar": {
             "outlinewidth": 0,
             "ticks": ""
            },
            "colorscale": [
             [
              0,
              "#0d0887"
             ],
             [
              0.1111111111111111,
              "#46039f"
             ],
             [
              0.2222222222222222,
              "#7201a8"
             ],
             [
              0.3333333333333333,
              "#9c179e"
             ],
             [
              0.4444444444444444,
              "#bd3786"
             ],
             [
              0.5555555555555556,
              "#d8576b"
             ],
             [
              0.6666666666666666,
              "#ed7953"
             ],
             [
              0.7777777777777778,
              "#fb9f3a"
             ],
             [
              0.8888888888888888,
              "#fdca26"
             ],
             [
              1,
              "#f0f921"
             ]
            ],
            "type": "heatmapgl"
           }
          ],
          "histogram": [
           {
            "marker": {
             "pattern": {
              "fillmode": "overlay",
              "size": 10,
              "solidity": 0.2
             }
            },
            "type": "histogram"
           }
          ],
          "histogram2d": [
           {
            "colorbar": {
             "outlinewidth": 0,
             "ticks": ""
            },
            "colorscale": [
             [
              0,
              "#0d0887"
             ],
             [
              0.1111111111111111,
              "#46039f"
             ],
             [
              0.2222222222222222,
              "#7201a8"
             ],
             [
              0.3333333333333333,
              "#9c179e"
             ],
             [
              0.4444444444444444,
              "#bd3786"
             ],
             [
              0.5555555555555556,
              "#d8576b"
             ],
             [
              0.6666666666666666,
              "#ed7953"
             ],
             [
              0.7777777777777778,
              "#fb9f3a"
             ],
             [
              0.8888888888888888,
              "#fdca26"
             ],
             [
              1,
              "#f0f921"
             ]
            ],
            "type": "histogram2d"
           }
          ],
          "histogram2dcontour": [
           {
            "colorbar": {
             "outlinewidth": 0,
             "ticks": ""
            },
            "colorscale": [
             [
              0,
              "#0d0887"
             ],
             [
              0.1111111111111111,
              "#46039f"
             ],
             [
              0.2222222222222222,
              "#7201a8"
             ],
             [
              0.3333333333333333,
              "#9c179e"
             ],
             [
              0.4444444444444444,
              "#bd3786"
             ],
             [
              0.5555555555555556,
              "#d8576b"
             ],
             [
              0.6666666666666666,
              "#ed7953"
             ],
             [
              0.7777777777777778,
              "#fb9f3a"
             ],
             [
              0.8888888888888888,
              "#fdca26"
             ],
             [
              1,
              "#f0f921"
             ]
            ],
            "type": "histogram2dcontour"
           }
          ],
          "mesh3d": [
           {
            "colorbar": {
             "outlinewidth": 0,
             "ticks": ""
            },
            "type": "mesh3d"
           }
          ],
          "parcoords": [
           {
            "line": {
             "colorbar": {
              "outlinewidth": 0,
              "ticks": ""
             }
            },
            "type": "parcoords"
           }
          ],
          "pie": [
           {
            "automargin": true,
            "type": "pie"
           }
          ],
          "scatter": [
           {
            "fillpattern": {
             "fillmode": "overlay",
             "size": 10,
             "solidity": 0.2
            },
            "type": "scatter"
           }
          ],
          "scatter3d": [
           {
            "line": {
             "colorbar": {
              "outlinewidth": 0,
              "ticks": ""
             }
            },
            "marker": {
             "colorbar": {
              "outlinewidth": 0,
              "ticks": ""
             }
            },
            "type": "scatter3d"
           }
          ],
          "scattercarpet": [
           {
            "marker": {
             "colorbar": {
              "outlinewidth": 0,
              "ticks": ""
             }
            },
            "type": "scattercarpet"
           }
          ],
          "scattergeo": [
           {
            "marker": {
             "colorbar": {
              "outlinewidth": 0,
              "ticks": ""
             }
            },
            "type": "scattergeo"
           }
          ],
          "scattergl": [
           {
            "marker": {
             "colorbar": {
              "outlinewidth": 0,
              "ticks": ""
             }
            },
            "type": "scattergl"
           }
          ],
          "scattermapbox": [
           {
            "marker": {
             "colorbar": {
              "outlinewidth": 0,
              "ticks": ""
             }
            },
            "type": "scattermapbox"
           }
          ],
          "scatterpolar": [
           {
            "marker": {
             "colorbar": {
              "outlinewidth": 0,
              "ticks": ""
             }
            },
            "type": "scatterpolar"
           }
          ],
          "scatterpolargl": [
           {
            "marker": {
             "colorbar": {
              "outlinewidth": 0,
              "ticks": ""
             }
            },
            "type": "scatterpolargl"
           }
          ],
          "scatterternary": [
           {
            "marker": {
             "colorbar": {
              "outlinewidth": 0,
              "ticks": ""
             }
            },
            "type": "scatterternary"
           }
          ],
          "surface": [
           {
            "colorbar": {
             "outlinewidth": 0,
             "ticks": ""
            },
            "colorscale": [
             [
              0,
              "#0d0887"
             ],
             [
              0.1111111111111111,
              "#46039f"
             ],
             [
              0.2222222222222222,
              "#7201a8"
             ],
             [
              0.3333333333333333,
              "#9c179e"
             ],
             [
              0.4444444444444444,
              "#bd3786"
             ],
             [
              0.5555555555555556,
              "#d8576b"
             ],
             [
              0.6666666666666666,
              "#ed7953"
             ],
             [
              0.7777777777777778,
              "#fb9f3a"
             ],
             [
              0.8888888888888888,
              "#fdca26"
             ],
             [
              1,
              "#f0f921"
             ]
            ],
            "type": "surface"
           }
          ],
          "table": [
           {
            "cells": {
             "fill": {
              "color": "#EBF0F8"
             },
             "line": {
              "color": "white"
             }
            },
            "header": {
             "fill": {
              "color": "#C8D4E3"
             },
             "line": {
              "color": "white"
             }
            },
            "type": "table"
           }
          ]
         },
         "layout": {
          "annotationdefaults": {
           "arrowcolor": "#2a3f5f",
           "arrowhead": 0,
           "arrowwidth": 1
          },
          "autotypenumbers": "strict",
          "coloraxis": {
           "colorbar": {
            "outlinewidth": 0,
            "ticks": ""
           }
          },
          "colorscale": {
           "diverging": [
            [
             0,
             "#8e0152"
            ],
            [
             0.1,
             "#c51b7d"
            ],
            [
             0.2,
             "#de77ae"
            ],
            [
             0.3,
             "#f1b6da"
            ],
            [
             0.4,
             "#fde0ef"
            ],
            [
             0.5,
             "#f7f7f7"
            ],
            [
             0.6,
             "#e6f5d0"
            ],
            [
             0.7,
             "#b8e186"
            ],
            [
             0.8,
             "#7fbc41"
            ],
            [
             0.9,
             "#4d9221"
            ],
            [
             1,
             "#276419"
            ]
           ],
           "sequential": [
            [
             0,
             "#0d0887"
            ],
            [
             0.1111111111111111,
             "#46039f"
            ],
            [
             0.2222222222222222,
             "#7201a8"
            ],
            [
             0.3333333333333333,
             "#9c179e"
            ],
            [
             0.4444444444444444,
             "#bd3786"
            ],
            [
             0.5555555555555556,
             "#d8576b"
            ],
            [
             0.6666666666666666,
             "#ed7953"
            ],
            [
             0.7777777777777778,
             "#fb9f3a"
            ],
            [
             0.8888888888888888,
             "#fdca26"
            ],
            [
             1,
             "#f0f921"
            ]
           ],
           "sequentialminus": [
            [
             0,
             "#0d0887"
            ],
            [
             0.1111111111111111,
             "#46039f"
            ],
            [
             0.2222222222222222,
             "#7201a8"
            ],
            [
             0.3333333333333333,
             "#9c179e"
            ],
            [
             0.4444444444444444,
             "#bd3786"
            ],
            [
             0.5555555555555556,
             "#d8576b"
            ],
            [
             0.6666666666666666,
             "#ed7953"
            ],
            [
             0.7777777777777778,
             "#fb9f3a"
            ],
            [
             0.8888888888888888,
             "#fdca26"
            ],
            [
             1,
             "#f0f921"
            ]
           ]
          },
          "colorway": [
           "#636efa",
           "#EF553B",
           "#00cc96",
           "#ab63fa",
           "#FFA15A",
           "#19d3f3",
           "#FF6692",
           "#B6E880",
           "#FF97FF",
           "#FECB52"
          ],
          "font": {
           "color": "#2a3f5f"
          },
          "geo": {
           "bgcolor": "white",
           "lakecolor": "white",
           "landcolor": "#E5ECF6",
           "showlakes": true,
           "showland": true,
           "subunitcolor": "white"
          },
          "hoverlabel": {
           "align": "left"
          },
          "hovermode": "closest",
          "mapbox": {
           "style": "light"
          },
          "paper_bgcolor": "white",
          "plot_bgcolor": "#E5ECF6",
          "polar": {
           "angularaxis": {
            "gridcolor": "white",
            "linecolor": "white",
            "ticks": ""
           },
           "bgcolor": "#E5ECF6",
           "radialaxis": {
            "gridcolor": "white",
            "linecolor": "white",
            "ticks": ""
           }
          },
          "scene": {
           "xaxis": {
            "backgroundcolor": "#E5ECF6",
            "gridcolor": "white",
            "gridwidth": 2,
            "linecolor": "white",
            "showbackground": true,
            "ticks": "",
            "zerolinecolor": "white"
           },
           "yaxis": {
            "backgroundcolor": "#E5ECF6",
            "gridcolor": "white",
            "gridwidth": 2,
            "linecolor": "white",
            "showbackground": true,
            "ticks": "",
            "zerolinecolor": "white"
           },
           "zaxis": {
            "backgroundcolor": "#E5ECF6",
            "gridcolor": "white",
            "gridwidth": 2,
            "linecolor": "white",
            "showbackground": true,
            "ticks": "",
            "zerolinecolor": "white"
           }
          },
          "shapedefaults": {
           "line": {
            "color": "#2a3f5f"
           }
          },
          "ternary": {
           "aaxis": {
            "gridcolor": "white",
            "linecolor": "white",
            "ticks": ""
           },
           "baxis": {
            "gridcolor": "white",
            "linecolor": "white",
            "ticks": ""
           },
           "bgcolor": "#E5ECF6",
           "caxis": {
            "gridcolor": "white",
            "linecolor": "white",
            "ticks": ""
           }
          },
          "title": {
           "x": 0.05
          },
          "xaxis": {
           "automargin": true,
           "gridcolor": "white",
           "linecolor": "white",
           "ticks": "",
           "title": {
            "standoff": 15
           },
           "zerolinecolor": "white",
           "zerolinewidth": 2
          },
          "yaxis": {
           "automargin": true,
           "gridcolor": "white",
           "linecolor": "white",
           "ticks": "",
           "title": {
            "standoff": 15
           },
           "zerolinecolor": "white",
           "zerolinewidth": 2
          }
         }
        },
        "xaxis": {
         "anchor": "y",
         "domain": [
          0,
          1
         ],
         "title": {
          "text": "pitch_score_1H"
         }
        },
        "yaxis": {
         "anchor": "x",
         "domain": [
          0,
          1
         ],
         "title": {
          "text": "botERA_1H"
         }
        }
       }
      }
     },
     "metadata": {},
     "output_type": "display_data"
    }
   ],
   "source": [
    "px.scatter(full, x='pitch_score_1H', y='botERA_1H', color='ERA_2H', hover_name='Name_1H', hover_data=['IP_1H', 'IP_2H'], trendline='ols')"
   ]
  },
  {
   "cell_type": "code",
   "execution_count": null,
   "metadata": {},
   "outputs": [
    {
     "data": {
      "application/vnd.plotly.v1+json": {
       "config": {
        "plotlyServerURL": "https://plotly.com"
       },
       "data": [
        {
         "hovertemplate": "<b>%{hovertext}</b><br><br>Pitching+_1H=%{x}<br>ERA_2H=%{y}<extra></extra>",
         "hovertext": [
          "Craig Kimbrel",
          "Emmanuel Clase",
          "Spencer Strider",
          "Zack Wheeler",
          "Bobby Miller",
          "Gerrit Cole",
          "Pablo López",
          "George Kirby",
          "David Bednar",
          "Bryce Miller",
          "Tanner Scott",
          "Kevin Gausman",
          "Zac Gallen",
          "Chris Stratton",
          "Tyler Glasnow",
          "Aaron Nola",
          "Bryan Woo",
          "Clarke Schmidt",
          "Sandy Alcantara",
          "Emilio Pagán",
          "José Urquidy",
          "Taj Bradley",
          "Justin Topa",
          "Julian Merryweather",
          "Joe Ryan",
          "Yu Darvish",
          "Julio Urías",
          "Kyle Bradish",
          "Jakob Junis",
          "Freddy Peralta",
          "Kutter Crawford",
          "Zach Eflin",
          "Mitch Keller",
          "Michael King",
          "Corbin Burnes",
          "Yusei Kikuchi",
          "Nick Pivetta",
          "Matt Strahm",
          "Dylan Cease",
          "Merrill Kelly",
          "Alex Faedo",
          "Ryne Nelson",
          "Ian Gibaut",
          "José Berríos",
          "Matt Brash",
          "Shohei Ohtani",
          "Jesús Luzardo",
          "Aaron Civale",
          "Hunter Brown",
          "Michael Tonkin",
          "Kyle Finnegan",
          "Bailey Ober",
          "Jameson Taillon",
          "Justin Verlander",
          "Grayson Rodriguez",
          "Max Scherzer",
          "Kevin Ginkel",
          "Phil Bickford",
          "Seth Lugo",
          "Luis Castillo",
          "Jaime Barria",
          "Eury Pérez",
          "Ian Hamilton",
          "Justin Steele",
          "Jhony Brito",
          "Lucas Giolito",
          "Sonny Gray",
          "Reese Olson",
          "Brandon Pfaadt",
          "JP Sears",
          "Reid Detmers",
          "Ross Stripling",
          "MacKenzie Gore",
          "J.P. France",
          "Graham Ashcraft",
          "Xzavion Curry",
          "Logan Webb",
          "Miles Mikolas",
          "Chris Sale",
          "Max Fried",
          "Michael Lorenzen",
          "Kenta Maeda",
          "Griffin Canning",
          "Framber Valdez",
          "Alex Cobb",
          "Nick Martinez",
          "Lance Lynn",
          "Logan Gilbert",
          "Josh Winckowski",
          "Dean Kremer",
          "Logan Allen",
          "Michael Wacha",
          "Eduardo Rodriguez",
          "Tanner Houck",
          "Zack Greinke",
          "Cristopher Sánchez",
          "Matt Manning",
          "Cristian Javier",
          "Jesse Scholtens",
          "Charlie Morton",
          "Jon Gray",
          "Taijuan Walker",
          "Andrew Abbott",
          "Luis Severino",
          "Brayan Bello",
          "Andre Pallante",
          "Luke Weaver",
          "Blake Snell",
          "Tanner Bibee",
          "Tony Gonsolin",
          "Noah Syndergaard",
          "James Paxton",
          "Buck Farmer",
          "Steven Matz",
          "Wade Miley",
          "Jake Irvin",
          "Andrew Heaney",
          "Jack Flaherty",
          "Scott Barlow",
          "Jordan Montgomery",
          "Colin Rea",
          "Trevor Stephan",
          "Adam Wainwright",
          "Tristan Beck",
          "Adrian Houser",
          "Michael Kopech",
          "Tyler Holton",
          "Paul Blackburn",
          "Mike Clevinger",
          "Braxton Garrett",
          "Patrick Sandoval",
          "Johan Oviedo",
          "Bailey Falter",
          "Jordan Lyles",
          "Chris Bassitt",
          "Trevor Williams",
          "Sean Manaea",
          "Bryse Wilson",
          "Kodai Senga",
          "Ranger Suárez",
          "Rich Hill",
          "Derek Law",
          "Dane Dunning",
          "Tyler Anderson",
          "Bryce Elder",
          "Cole Irvin",
          "Elvis Peguero",
          "Kyle Gibson",
          "Brandon Williamson",
          "Brady Singer",
          "Ben Lively",
          "Drew Smyly",
          "Kyle Hendricks",
          "Patrick Corbin",
          "Luis Medina",
          "Yonny Chirinos",
          "Ryan Yarbrough",
          "Peter Lambert",
          "Carlos Carrasco",
          "Martín Pérez",
          "Chris Flexen",
          "Austin Gomber",
          "David Peterson",
          "Shintaro Fujinami",
          "Ken Waldichuk",
          "Kyle Freeland",
          "Javier Assad",
          "Tylor Megill",
          "Alex Wood",
          "Josiah Gray",
          "Jake Bird"
         ],
         "legendgroup": "",
         "marker": {
          "color": "#636efa",
          "symbol": "circle"
         },
         "mode": "markers",
         "name": "",
         "orientation": "v",
         "showlegend": false,
         "type": "scatter",
         "x": [
          117.91024999187808,
          116.12589488386736,
          113.98572500293048,
          110.9945388523632,
          110.11967435549526,
          110.0503290345254,
          109.8641571535079,
          109.41265732824482,
          108.71582368474506,
          108.42606324972736,
          107.74201183431954,
          107.48913150539232,
          107.39139408157784,
          107.22791474964868,
          107.12930653773122,
          107.1215589185036,
          106.74576664532653,
          106.7200674002942,
          106.67489894842215,
          106.6532966023875,
          106.64561636716049,
          106.34755486296936,
          106.2669921875,
          105.9909775273746,
          105.7964675191064,
          105.3853862324999,
          105.3175150183771,
          105.28115208218676,
          105.24135489745606,
          105.02911547911548,
          104.93105389632682,
          104.90621708823384,
          104.81721490842126,
          104.49159316497044,
          104.284693877551,
          104.22093829537296,
          103.63299931575916,
          103.61298850574713,
          103.61030425807256,
          103.58762749714332,
          103.48396337639537,
          103.4583069952742,
          103.40717450939016,
          103.26456450267202,
          103.14613656603946,
          103.02183574496802,
          103.0194072575438,
          102.95194367382098,
          102.86547420377094,
          102.85838509316768,
          102.73531613622868,
          102.68060413354532,
          102.59841770342906,
          102.57967232740148,
          102.51968503937007,
          102.49936197104098,
          102.4834107498341,
          102.45410714285715,
          102.45163564009174,
          102.4440422796584,
          102.30017204928838,
          102.25752107515596,
          102.25223434418145,
          102.19252266675294,
          102.1403443637342,
          101.89539520080666,
          101.8909177902243,
          101.87534965034966,
          101.8621988237526,
          101.71782343846628,
          101.67458612739917,
          101.66976693297,
          101.61881513669906,
          101.61046032045466,
          101.51461944830127,
          101.45189159506916,
          101.31211841975272,
          101.25491829830116,
          101.2267395759224,
          101.04957602133932,
          101.02533926439388,
          100.96875683376088,
          100.87361199743395,
          100.85958979664656,
          100.8053936834596,
          100.7275576985861,
          100.713273005042,
          100.652984291872,
          100.54602076124569,
          100.4140014070434,
          100.3423561151079,
          100.29051639492538,
          100.25230354996974,
          100.21462808819238,
          100.2031865004913,
          100.141435212313,
          100.08191389976012,
          99.98003951838707,
          99.958932238193,
          99.9309725147786,
          99.86762175782398,
          99.8051562052446,
          99.73472589920576,
          99.71193730030686,
          99.61257360172168,
          99.31143410852717,
          99.27974375215643,
          99.170404078338,
          99.10301822762682,
          99.05220389230615,
          99.0364161139769,
          98.97423318523056,
          98.95811253561256,
          98.9297317076112,
          98.90317476556812,
          98.88001462498325,
          98.87721378172296,
          98.81761966721383,
          98.81317921734956,
          98.71245058869066,
          98.6976502692788,
          98.55254565826334,
          98.46404805189157,
          98.22848399846995,
          98.2268970798314,
          98.16425787914687,
          98.12485875706216,
          98.1130831726766,
          98.0941863550447,
          97.97549432036033,
          97.56204679590915,
          97.54088873803032,
          97.50245811590224,
          97.45539829478597,
          97.27061495397956,
          97.14977753406866,
          97.14599617111168,
          97.07795733678086,
          96.79522647656512,
          96.79314585377824,
          96.33842048889709,
          95.98168544013352,
          95.9344905385735,
          95.87821305841926,
          95.72865548619836,
          95.72253511497571,
          95.38996551625048,
          95.2925215184131,
          95.1038556547619,
          94.83138470931203,
          94.8182583591032,
          94.80152470225072,
          94.79460575719648,
          94.45987090294444,
          94.38083816273593,
          94.3276398612838,
          94.08290904830002,
          94.05747964276334,
          94.03528681612636,
          93.91327252895168,
          93.815521978022,
          93.07581302879464,
          93.03863092878056,
          92.64386054177524,
          92.3368265682657,
          92.2831278536288,
          92.19866980543424,
          92.1585766091144,
          91.59463295770148,
          91.3207883268118,
          90.90777115613822
         ],
         "xaxis": "x",
         "y": [
          3.24,
          2.5200002042770557,
          4.196891336877059,
          3.183962292796821,
          3.5895954746619947,
          2.7000000367845813,
          2.6600985471612577,
          4.189655241302872,
          2.7000001669675213,
          4.142045634098297,
          1.038461655113837,
          4.153846247607491,
          4.237668233925657,
          2.8834957480094765,
          2.53125,
          5.1802327591964215,
          4.609756204785515,
          4.810345143965698,
          3.199052190537515,
          2.333333596035316,
          6.840000260925303,
          5.829545707249455,
          2.0250003605895386,
          2.9634148850948594,
          5.586207126181994,
          4.032467557439356,
          4.415094339622642,
          2.8834952123765856,
          2.9032260799755547,
          2.505154700750044,
          4.440789780169334,
          4.011428593289122,
          5.345177716726484,
          2.7692311903429387,
          2.7627907221842096,
          3.1325968006206617,
          4.218750180734795,
          2.362500505177412,
          5.911242937124294,
          3.7968750565778473,
          2.314285840404284,
          6.314516468983429,
          2.8800005870820287,
          3.857142973919308,
          2.6666670669744645,
          2.5578947881978644,
          4.9411766553832654,
          3.461538512325852,
          5.503184847089071,
          5.204819940555196,
          2.734177461707296,
          5.85,
          4.320000164794928,
          3.1909091047413094,
          2.948275959023968,
          3.0461538908467496,
          2.103896397857929,
          4.821429253955069,
          4.2096774841074405,
          3.4054054054054053,
          10.800000849723885,
          4.114285938496504,
          2.486842323703468,
          2.394088692445132,
          4.666667161164513,
          8.0649354145406,
          3.07425748379882,
          4.448863829216689,
          4.5818184201579575,
          5.275862155714728,
          5.538461741611105,
          4.098214425298637,
          4.4357143461460975,
          4.005494610437839,
          2.8125000419095163,
          5.262712038526918,
          3.8955225544056633,
          5.654450492937844,
          5.530120799634589,
          2.956204420719069,
          4.086486591815603,
          4.1428572055704205,
          3.75000019868216,
          4.584905763502521,
          4.675977778194411,
          3.742574440744654,
          5.795811749835259,
          3.563451862902856,
          2.454545803201009,
          3.393442729057022,
          3.75,
          5.157303481312087,
          4.078125182306402,
          4.618421110585127,
          5.558823841253384,
          3.629032313885725,
          3.4897960542093416,
          5.580000212860115,
          5.097902376262129,
          3.412088001484085,
          5.159235794146005,
          4.792899597609803,
          4.552325758081704,
          5.978571632200365,
          4.500000138436598,
          5.96511788730764,
          6.32432481335239,
          1.826086956521739,
          2.700000025749207,
          7.13207553586488,
          5.40000020599366,
          6.9750001662969625,
          4.38750125690865,
          2.160000020599365,
          3.750000099341077,
          3.763636494155762,
          3.0600002334594905,
          6.447761423472555,
          5.684211266338096,
          3.837563544664614,
          5.3465349058838125,
          4.680000373792678,
          8.291338831723996,
          5.586207269700922,
          5.522727392429165,
          7.620968350037811,
          2.571429118818283,
          3.6818182815697593,
          3.2884615384615383,
          3.610465196353673,
          4.58823555151073,
          3.6684783369246423,
          3.6160716441060954,
          6.468750096391888,
          3.2608696102870667,
          7.312500290572655,
          3.857143486640994,
          2.634146564528764,
          2.467005135855824,
          4.138686275436453,
          7.147059174351231,
          5.328948080999011,
          5.550000088214875,
          5.538461741611105,
          4.153846247607491,
          3.584070947700726,
          3.96000079779641,
          5.619289476116042,
          3.857143054203121,
          5.033898467820328,
          7.670455127338776,
          7.448276547132639,
          4.235294295842268,
          5.591716197211437,
          4.584905949127824,
          8.666667278902073,
          2.8000000593397365,
          4.754717066687765,
          10.241379983926969,
          4.4608698241697295,
          6.750000292604632,
          3.857142932213432,
          3.825000279285034,
          3.900000654757133,
          3.166666834442713,
          5.79865779234941,
          2.4406781251387466,
          4.750000251664069,
          4.378378720462915,
          5.475524658107246,
          6.506025402254441
         ],
         "yaxis": "y"
        },
        {
         "hovertemplate": "<b>OLS trendline</b><br>ERA_2H = -0.102324 * Pitching+_1H + 14.6995<br>R<sup>2</sup>=0.095822<br><br>Pitching+_1H=%{x}<br>ERA_2H=%{y} <b>(trend)</b><extra></extra>",
         "legendgroup": "",
         "marker": {
          "color": "#636efa",
          "symbol": "circle"
         },
         "mode": "lines",
         "name": "",
         "showlegend": false,
         "type": "scatter",
         "x": [
          90.90777115613822,
          91.3207883268118,
          91.59463295770148,
          92.1585766091144,
          92.19866980543424,
          92.2831278536288,
          92.3368265682657,
          92.64386054177524,
          93.03863092878056,
          93.07581302879464,
          93.815521978022,
          93.91327252895168,
          94.03528681612636,
          94.05747964276334,
          94.08290904830002,
          94.3276398612838,
          94.38083816273593,
          94.45987090294444,
          94.79460575719648,
          94.80152470225072,
          94.8182583591032,
          94.83138470931203,
          95.1038556547619,
          95.2925215184131,
          95.38996551625048,
          95.72253511497571,
          95.72865548619836,
          95.87821305841926,
          95.9344905385735,
          95.98168544013352,
          96.33842048889709,
          96.79314585377824,
          96.79522647656512,
          97.07795733678086,
          97.14599617111168,
          97.14977753406866,
          97.27061495397956,
          97.45539829478597,
          97.50245811590224,
          97.54088873803032,
          97.56204679590915,
          97.97549432036033,
          98.0941863550447,
          98.1130831726766,
          98.12485875706216,
          98.16425787914687,
          98.2268970798314,
          98.22848399846995,
          98.46404805189157,
          98.55254565826334,
          98.6976502692788,
          98.71245058869066,
          98.81317921734956,
          98.81761966721383,
          98.87721378172296,
          98.88001462498325,
          98.90317476556812,
          98.9297317076112,
          98.95811253561256,
          98.97423318523056,
          99.0364161139769,
          99.05220389230615,
          99.10301822762682,
          99.170404078338,
          99.27974375215643,
          99.31143410852717,
          99.61257360172168,
          99.71193730030686,
          99.73472589920576,
          99.8051562052446,
          99.86762175782398,
          99.9309725147786,
          99.958932238193,
          99.98003951838707,
          100.08191389976012,
          100.141435212313,
          100.2031865004913,
          100.21462808819238,
          100.25230354996974,
          100.29051639492538,
          100.3423561151079,
          100.4140014070434,
          100.54602076124569,
          100.652984291872,
          100.713273005042,
          100.7275576985861,
          100.8053936834596,
          100.85958979664656,
          100.87361199743395,
          100.96875683376088,
          101.02533926439388,
          101.04957602133932,
          101.2267395759224,
          101.25491829830116,
          101.31211841975272,
          101.45189159506916,
          101.51461944830127,
          101.61046032045466,
          101.61881513669906,
          101.66976693297,
          101.67458612739917,
          101.71782343846628,
          101.8621988237526,
          101.87534965034966,
          101.8909177902243,
          101.89539520080666,
          102.1403443637342,
          102.19252266675294,
          102.25223434418145,
          102.25752107515596,
          102.30017204928838,
          102.4440422796584,
          102.45163564009174,
          102.45410714285715,
          102.4834107498341,
          102.49936197104098,
          102.51968503937007,
          102.57967232740148,
          102.59841770342906,
          102.68060413354532,
          102.73531613622868,
          102.85838509316768,
          102.86547420377094,
          102.95194367382098,
          103.0194072575438,
          103.02183574496802,
          103.14613656603946,
          103.26456450267202,
          103.40717450939016,
          103.4583069952742,
          103.48396337639537,
          103.58762749714332,
          103.61030425807256,
          103.61298850574713,
          103.63299931575916,
          104.22093829537296,
          104.284693877551,
          104.49159316497044,
          104.81721490842126,
          104.90621708823384,
          104.93105389632682,
          105.02911547911548,
          105.24135489745606,
          105.28115208218676,
          105.3175150183771,
          105.3853862324999,
          105.7964675191064,
          105.9909775273746,
          106.2669921875,
          106.34755486296936,
          106.64561636716049,
          106.6532966023875,
          106.67489894842215,
          106.7200674002942,
          106.74576664532653,
          107.1215589185036,
          107.12930653773122,
          107.22791474964868,
          107.39139408157784,
          107.48913150539232,
          107.74201183431954,
          108.42606324972736,
          108.71582368474506,
          109.41265732824482,
          109.8641571535079,
          110.0503290345254,
          110.11967435549526,
          110.9945388523632,
          113.98572500293048,
          116.12589488386736,
          117.91024999187808
         ],
         "xaxis": "x",
         "y": [
          5.397397933085189,
          5.355136280752166,
          5.327115347469778,
          5.269410263459443,
          5.265307759147031,
          5.256665656777043,
          5.251170978662294,
          5.2197539723869255,
          5.1793594076288,
          5.175554778922336,
          5.099864651102976,
          5.089862404000238,
          5.07737738945271,
          5.075106526180635,
          5.072504482555974,
          5.047462597453155,
          5.042019123718127,
          5.033932161657516,
          4.999680684870064,
          4.998972709339855,
          4.997260451258656,
          4.995917307950538,
          4.968036935934352,
          4.948731852022869,
          4.938760972720617,
          4.904731053976713,
          4.904104791876426,
          4.88880143267065,
          4.883042884432625,
          4.878213703799849,
          4.841711074668805,
          4.795181664653542,
          4.794968766587557,
          4.766038556982064,
          4.759076537565427,
          4.758689612619008,
          4.746325020074913,
          4.727417212214627,
          4.722601853580441,
          4.718669470845191,
          4.716504489460375,
          4.674198801520552,
          4.662053733807388,
          4.660120132025996,
          4.658915204752612,
          4.654883721032322,
          4.648474214818741,
          4.648311834635674,
          4.624207930888462,
          4.615152483952226,
          4.600304770447597,
          4.598790339576887,
          4.588483363047503,
          4.588028997559356,
          4.58193107735819,
          4.581644483307118,
          4.5792746404074,
          4.576557222509685,
          4.573653176937048,
          4.572003644331836,
          4.56564082578015,
          4.564025353963872,
          4.558825817660447,
          4.551930614271502,
          4.54074251941921,
          4.537499828997731,
          4.506685970715825,
          4.496518659566796,
          4.494186834373544,
          4.486980109523175,
          4.480588371713353,
          4.474106056072374,
          4.47124509969049,
          4.469085314091739,
          4.4586610993303815,
          4.45257062853128,
          4.446251977256196,
          4.445081225926966,
          4.44122611437186,
          4.437316015511959,
          4.432011557520969,
          4.424680510208486,
          4.411171735163061,
          4.400226777266347,
          4.394057782811611,
          4.392596112946265,
          4.384631607920099,
          4.379086033895723,
          4.377651223392192,
          4.367915603956387,
          4.362125851904024,
          4.35964584509453,
          4.341517725777694,
          4.338634360501576,
          4.332781403729221,
          4.318479225127126,
          4.3120606476123715,
          4.302253806866176,
          4.301398906962495,
          4.2961853050770475,
          4.2956921848536,
          4.291267961509197,
          4.276494865445258,
          4.275149217610254,
          4.273556220123538,
          4.273098072659414,
          4.248033845072879,
          4.242694741863419,
          4.236584792130362,
          4.236043831603082,
          4.231679604717527,
          4.216958198227202,
          4.216181213681621,
          4.21592831913382,
          4.212929850939037,
          4.211297654960761,
          4.209218113215163,
          4.203079961847147,
          4.201161856207042,
          4.192752195343788,
          4.187153833338458,
          4.174560900549098,
          4.173835512964905,
          4.164987593459001,
          4.158084436101683,
          4.157835943064336,
          4.145116960760856,
          4.132998916670051,
          4.118406461559035,
          4.113174370753148,
          4.110549102032969,
          4.099941753618584,
          4.097621372156313,
          4.097346708655486,
          4.095299118492948,
          4.0351387316767084,
          4.028614992617861,
          4.007444188172586,
          3.974125203174097,
          3.9650181261632635,
          3.9624767195990387,
          3.952442646409583,
          3.9307254173301125,
          3.9266532021672926,
          3.922932393745267,
          3.9159875259326267,
          3.873923961391611,
          3.8540208800467894,
          3.8257779002549004,
          3.8175343887898627,
          3.7870354832759823,
          3.7862496093364797,
          3.784039166520735,
          3.779417340734838,
          3.776787685999162,
          3.7383350415908314,
          3.737542272637249,
          3.7274522660584903,
          3.710724373902437,
          3.7007234700212823,
          3.6748476922042173,
          3.6048526771090064,
          3.5752031718726673,
          3.503900225490286,
          3.457700866241927,
          3.4386509771128253,
          3.431555272493643,
          3.3420354611384866,
          3.0359647257439555,
          2.8169735508873366,
          2.63439083867123
         ],
         "yaxis": "y"
        }
       ],
       "layout": {
        "legend": {
         "tracegroupgap": 0
        },
        "margin": {
         "t": 60
        },
        "template": {
         "data": {
          "bar": [
           {
            "error_x": {
             "color": "#2a3f5f"
            },
            "error_y": {
             "color": "#2a3f5f"
            },
            "marker": {
             "line": {
              "color": "#E5ECF6",
              "width": 0.5
             },
             "pattern": {
              "fillmode": "overlay",
              "size": 10,
              "solidity": 0.2
             }
            },
            "type": "bar"
           }
          ],
          "barpolar": [
           {
            "marker": {
             "line": {
              "color": "#E5ECF6",
              "width": 0.5
             },
             "pattern": {
              "fillmode": "overlay",
              "size": 10,
              "solidity": 0.2
             }
            },
            "type": "barpolar"
           }
          ],
          "carpet": [
           {
            "aaxis": {
             "endlinecolor": "#2a3f5f",
             "gridcolor": "white",
             "linecolor": "white",
             "minorgridcolor": "white",
             "startlinecolor": "#2a3f5f"
            },
            "baxis": {
             "endlinecolor": "#2a3f5f",
             "gridcolor": "white",
             "linecolor": "white",
             "minorgridcolor": "white",
             "startlinecolor": "#2a3f5f"
            },
            "type": "carpet"
           }
          ],
          "choropleth": [
           {
            "colorbar": {
             "outlinewidth": 0,
             "ticks": ""
            },
            "type": "choropleth"
           }
          ],
          "contour": [
           {
            "colorbar": {
             "outlinewidth": 0,
             "ticks": ""
            },
            "colorscale": [
             [
              0,
              "#0d0887"
             ],
             [
              0.1111111111111111,
              "#46039f"
             ],
             [
              0.2222222222222222,
              "#7201a8"
             ],
             [
              0.3333333333333333,
              "#9c179e"
             ],
             [
              0.4444444444444444,
              "#bd3786"
             ],
             [
              0.5555555555555556,
              "#d8576b"
             ],
             [
              0.6666666666666666,
              "#ed7953"
             ],
             [
              0.7777777777777778,
              "#fb9f3a"
             ],
             [
              0.8888888888888888,
              "#fdca26"
             ],
             [
              1,
              "#f0f921"
             ]
            ],
            "type": "contour"
           }
          ],
          "contourcarpet": [
           {
            "colorbar": {
             "outlinewidth": 0,
             "ticks": ""
            },
            "type": "contourcarpet"
           }
          ],
          "heatmap": [
           {
            "colorbar": {
             "outlinewidth": 0,
             "ticks": ""
            },
            "colorscale": [
             [
              0,
              "#0d0887"
             ],
             [
              0.1111111111111111,
              "#46039f"
             ],
             [
              0.2222222222222222,
              "#7201a8"
             ],
             [
              0.3333333333333333,
              "#9c179e"
             ],
             [
              0.4444444444444444,
              "#bd3786"
             ],
             [
              0.5555555555555556,
              "#d8576b"
             ],
             [
              0.6666666666666666,
              "#ed7953"
             ],
             [
              0.7777777777777778,
              "#fb9f3a"
             ],
             [
              0.8888888888888888,
              "#fdca26"
             ],
             [
              1,
              "#f0f921"
             ]
            ],
            "type": "heatmap"
           }
          ],
          "heatmapgl": [
           {
            "colorbar": {
             "outlinewidth": 0,
             "ticks": ""
            },
            "colorscale": [
             [
              0,
              "#0d0887"
             ],
             [
              0.1111111111111111,
              "#46039f"
             ],
             [
              0.2222222222222222,
              "#7201a8"
             ],
             [
              0.3333333333333333,
              "#9c179e"
             ],
             [
              0.4444444444444444,
              "#bd3786"
             ],
             [
              0.5555555555555556,
              "#d8576b"
             ],
             [
              0.6666666666666666,
              "#ed7953"
             ],
             [
              0.7777777777777778,
              "#fb9f3a"
             ],
             [
              0.8888888888888888,
              "#fdca26"
             ],
             [
              1,
              "#f0f921"
             ]
            ],
            "type": "heatmapgl"
           }
          ],
          "histogram": [
           {
            "marker": {
             "pattern": {
              "fillmode": "overlay",
              "size": 10,
              "solidity": 0.2
             }
            },
            "type": "histogram"
           }
          ],
          "histogram2d": [
           {
            "colorbar": {
             "outlinewidth": 0,
             "ticks": ""
            },
            "colorscale": [
             [
              0,
              "#0d0887"
             ],
             [
              0.1111111111111111,
              "#46039f"
             ],
             [
              0.2222222222222222,
              "#7201a8"
             ],
             [
              0.3333333333333333,
              "#9c179e"
             ],
             [
              0.4444444444444444,
              "#bd3786"
             ],
             [
              0.5555555555555556,
              "#d8576b"
             ],
             [
              0.6666666666666666,
              "#ed7953"
             ],
             [
              0.7777777777777778,
              "#fb9f3a"
             ],
             [
              0.8888888888888888,
              "#fdca26"
             ],
             [
              1,
              "#f0f921"
             ]
            ],
            "type": "histogram2d"
           }
          ],
          "histogram2dcontour": [
           {
            "colorbar": {
             "outlinewidth": 0,
             "ticks": ""
            },
            "colorscale": [
             [
              0,
              "#0d0887"
             ],
             [
              0.1111111111111111,
              "#46039f"
             ],
             [
              0.2222222222222222,
              "#7201a8"
             ],
             [
              0.3333333333333333,
              "#9c179e"
             ],
             [
              0.4444444444444444,
              "#bd3786"
             ],
             [
              0.5555555555555556,
              "#d8576b"
             ],
             [
              0.6666666666666666,
              "#ed7953"
             ],
             [
              0.7777777777777778,
              "#fb9f3a"
             ],
             [
              0.8888888888888888,
              "#fdca26"
             ],
             [
              1,
              "#f0f921"
             ]
            ],
            "type": "histogram2dcontour"
           }
          ],
          "mesh3d": [
           {
            "colorbar": {
             "outlinewidth": 0,
             "ticks": ""
            },
            "type": "mesh3d"
           }
          ],
          "parcoords": [
           {
            "line": {
             "colorbar": {
              "outlinewidth": 0,
              "ticks": ""
             }
            },
            "type": "parcoords"
           }
          ],
          "pie": [
           {
            "automargin": true,
            "type": "pie"
           }
          ],
          "scatter": [
           {
            "fillpattern": {
             "fillmode": "overlay",
             "size": 10,
             "solidity": 0.2
            },
            "type": "scatter"
           }
          ],
          "scatter3d": [
           {
            "line": {
             "colorbar": {
              "outlinewidth": 0,
              "ticks": ""
             }
            },
            "marker": {
             "colorbar": {
              "outlinewidth": 0,
              "ticks": ""
             }
            },
            "type": "scatter3d"
           }
          ],
          "scattercarpet": [
           {
            "marker": {
             "colorbar": {
              "outlinewidth": 0,
              "ticks": ""
             }
            },
            "type": "scattercarpet"
           }
          ],
          "scattergeo": [
           {
            "marker": {
             "colorbar": {
              "outlinewidth": 0,
              "ticks": ""
             }
            },
            "type": "scattergeo"
           }
          ],
          "scattergl": [
           {
            "marker": {
             "colorbar": {
              "outlinewidth": 0,
              "ticks": ""
             }
            },
            "type": "scattergl"
           }
          ],
          "scattermapbox": [
           {
            "marker": {
             "colorbar": {
              "outlinewidth": 0,
              "ticks": ""
             }
            },
            "type": "scattermapbox"
           }
          ],
          "scatterpolar": [
           {
            "marker": {
             "colorbar": {
              "outlinewidth": 0,
              "ticks": ""
             }
            },
            "type": "scatterpolar"
           }
          ],
          "scatterpolargl": [
           {
            "marker": {
             "colorbar": {
              "outlinewidth": 0,
              "ticks": ""
             }
            },
            "type": "scatterpolargl"
           }
          ],
          "scatterternary": [
           {
            "marker": {
             "colorbar": {
              "outlinewidth": 0,
              "ticks": ""
             }
            },
            "type": "scatterternary"
           }
          ],
          "surface": [
           {
            "colorbar": {
             "outlinewidth": 0,
             "ticks": ""
            },
            "colorscale": [
             [
              0,
              "#0d0887"
             ],
             [
              0.1111111111111111,
              "#46039f"
             ],
             [
              0.2222222222222222,
              "#7201a8"
             ],
             [
              0.3333333333333333,
              "#9c179e"
             ],
             [
              0.4444444444444444,
              "#bd3786"
             ],
             [
              0.5555555555555556,
              "#d8576b"
             ],
             [
              0.6666666666666666,
              "#ed7953"
             ],
             [
              0.7777777777777778,
              "#fb9f3a"
             ],
             [
              0.8888888888888888,
              "#fdca26"
             ],
             [
              1,
              "#f0f921"
             ]
            ],
            "type": "surface"
           }
          ],
          "table": [
           {
            "cells": {
             "fill": {
              "color": "#EBF0F8"
             },
             "line": {
              "color": "white"
             }
            },
            "header": {
             "fill": {
              "color": "#C8D4E3"
             },
             "line": {
              "color": "white"
             }
            },
            "type": "table"
           }
          ]
         },
         "layout": {
          "annotationdefaults": {
           "arrowcolor": "#2a3f5f",
           "arrowhead": 0,
           "arrowwidth": 1
          },
          "autotypenumbers": "strict",
          "coloraxis": {
           "colorbar": {
            "outlinewidth": 0,
            "ticks": ""
           }
          },
          "colorscale": {
           "diverging": [
            [
             0,
             "#8e0152"
            ],
            [
             0.1,
             "#c51b7d"
            ],
            [
             0.2,
             "#de77ae"
            ],
            [
             0.3,
             "#f1b6da"
            ],
            [
             0.4,
             "#fde0ef"
            ],
            [
             0.5,
             "#f7f7f7"
            ],
            [
             0.6,
             "#e6f5d0"
            ],
            [
             0.7,
             "#b8e186"
            ],
            [
             0.8,
             "#7fbc41"
            ],
            [
             0.9,
             "#4d9221"
            ],
            [
             1,
             "#276419"
            ]
           ],
           "sequential": [
            [
             0,
             "#0d0887"
            ],
            [
             0.1111111111111111,
             "#46039f"
            ],
            [
             0.2222222222222222,
             "#7201a8"
            ],
            [
             0.3333333333333333,
             "#9c179e"
            ],
            [
             0.4444444444444444,
             "#bd3786"
            ],
            [
             0.5555555555555556,
             "#d8576b"
            ],
            [
             0.6666666666666666,
             "#ed7953"
            ],
            [
             0.7777777777777778,
             "#fb9f3a"
            ],
            [
             0.8888888888888888,
             "#fdca26"
            ],
            [
             1,
             "#f0f921"
            ]
           ],
           "sequentialminus": [
            [
             0,
             "#0d0887"
            ],
            [
             0.1111111111111111,
             "#46039f"
            ],
            [
             0.2222222222222222,
             "#7201a8"
            ],
            [
             0.3333333333333333,
             "#9c179e"
            ],
            [
             0.4444444444444444,
             "#bd3786"
            ],
            [
             0.5555555555555556,
             "#d8576b"
            ],
            [
             0.6666666666666666,
             "#ed7953"
            ],
            [
             0.7777777777777778,
             "#fb9f3a"
            ],
            [
             0.8888888888888888,
             "#fdca26"
            ],
            [
             1,
             "#f0f921"
            ]
           ]
          },
          "colorway": [
           "#636efa",
           "#EF553B",
           "#00cc96",
           "#ab63fa",
           "#FFA15A",
           "#19d3f3",
           "#FF6692",
           "#B6E880",
           "#FF97FF",
           "#FECB52"
          ],
          "font": {
           "color": "#2a3f5f"
          },
          "geo": {
           "bgcolor": "white",
           "lakecolor": "white",
           "landcolor": "#E5ECF6",
           "showlakes": true,
           "showland": true,
           "subunitcolor": "white"
          },
          "hoverlabel": {
           "align": "left"
          },
          "hovermode": "closest",
          "mapbox": {
           "style": "light"
          },
          "paper_bgcolor": "white",
          "plot_bgcolor": "#E5ECF6",
          "polar": {
           "angularaxis": {
            "gridcolor": "white",
            "linecolor": "white",
            "ticks": ""
           },
           "bgcolor": "#E5ECF6",
           "radialaxis": {
            "gridcolor": "white",
            "linecolor": "white",
            "ticks": ""
           }
          },
          "scene": {
           "xaxis": {
            "backgroundcolor": "#E5ECF6",
            "gridcolor": "white",
            "gridwidth": 2,
            "linecolor": "white",
            "showbackground": true,
            "ticks": "",
            "zerolinecolor": "white"
           },
           "yaxis": {
            "backgroundcolor": "#E5ECF6",
            "gridcolor": "white",
            "gridwidth": 2,
            "linecolor": "white",
            "showbackground": true,
            "ticks": "",
            "zerolinecolor": "white"
           },
           "zaxis": {
            "backgroundcolor": "#E5ECF6",
            "gridcolor": "white",
            "gridwidth": 2,
            "linecolor": "white",
            "showbackground": true,
            "ticks": "",
            "zerolinecolor": "white"
           }
          },
          "shapedefaults": {
           "line": {
            "color": "#2a3f5f"
           }
          },
          "ternary": {
           "aaxis": {
            "gridcolor": "white",
            "linecolor": "white",
            "ticks": ""
           },
           "baxis": {
            "gridcolor": "white",
            "linecolor": "white",
            "ticks": ""
           },
           "bgcolor": "#E5ECF6",
           "caxis": {
            "gridcolor": "white",
            "linecolor": "white",
            "ticks": ""
           }
          },
          "title": {
           "x": 0.05
          },
          "xaxis": {
           "automargin": true,
           "gridcolor": "white",
           "linecolor": "white",
           "ticks": "",
           "title": {
            "standoff": 15
           },
           "zerolinecolor": "white",
           "zerolinewidth": 2
          },
          "yaxis": {
           "automargin": true,
           "gridcolor": "white",
           "linecolor": "white",
           "ticks": "",
           "title": {
            "standoff": 15
           },
           "zerolinecolor": "white",
           "zerolinewidth": 2
          }
         }
        },
        "xaxis": {
         "anchor": "y",
         "domain": [
          0,
          1
         ],
         "title": {
          "text": "Pitching+_1H"
         }
        },
        "yaxis": {
         "anchor": "x",
         "domain": [
          0,
          1
         ],
         "title": {
          "text": "ERA_2H"
         }
        }
       }
      }
     },
     "metadata": {},
     "output_type": "display_data"
    }
   ],
   "source": [
    "px.scatter(full, x='Pitching+_1H', y='ERA_2H', hover_name='Name_1H', trendline='ols')"
   ]
  },
  {
   "cell_type": "code",
   "execution_count": null,
   "metadata": {},
   "outputs": [],
   "source": []
  }
 ],
 "metadata": {
  "kernelspec": {
   "display_name": "base",
   "language": "python",
   "name": "python3"
  },
  "language_info": {
   "codemirror_mode": {
    "name": "ipython",
    "version": 3
   },
   "file_extension": ".py",
   "mimetype": "text/x-python",
   "name": "python",
   "nbconvert_exporter": "python",
   "pygments_lexer": "ipython3",
   "version": "3.11.4"
  },
  "orig_nbformat": 4
 },
 "nbformat": 4,
 "nbformat_minor": 2
}
